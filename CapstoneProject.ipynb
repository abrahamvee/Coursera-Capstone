{
 "cells": [
  {
   "cell_type": "markdown",
   "metadata": {},
   "source": [
    "# Prediction of severity of a traffic accident related to weather conditions"
   ]
  },
  {
   "cell_type": "markdown",
   "metadata": {},
   "source": [
    "## Table of contents\n",
    "* [Introduction: Problem Description](#introduction)\n",
    "* [Data](#data)\n",
    "* [Methodology](#methodology)\n",
    "* [Analysis](#analysis)\n",
    "* [Results and Discussion](#results)\n",
    "* [Conclusion](#conclusion)"
   ]
  },
  {
   "cell_type": "markdown",
   "metadata": {},
   "source": [
    "## Introduction: Problem Description <a name=\"introduction\"></a>"
   ]
  },
  {
   "cell_type": "markdown",
   "metadata": {},
   "source": [
    "The automobile is one of the most common methods of transportation worlwide. And according to the Centers for Disease Control and Prevention approximately 3,700 people die each in day in a car crash around the world, that amounts to nearly a million and a half people each year.\n",
    "\n",
    "It is important then to look for methods and prevention strategies to be able to reduce the amount of accidents. This would not only result in saving human lives but could reduce drastically costs, to parties such as the government, health organizations or even the individuals themselves.\n",
    "\n",
    "Some of the most contributing factors to driving accidents are: falling asleep at the wheel,loss of vehicle control (due to mechanical reasons or external e.g. the weather, other drivers), blind left turns, not staying in the proper lane.\n",
    "\n",
    "Some of this factors can be attenuated, as is taking extra precautions during bad weather conditions or possibly even postponing the trip if possible."
   ]
  },
  {
   "cell_type": "markdown",
   "metadata": {},
   "source": [
    "### Purpose of work"
   ]
  },
  {
   "cell_type": "markdown",
   "metadata": {},
   "source": [
    "The purpose of this work is to see the relationship between certain driving conditions and  what type of accidents are drivers exposed to: severe, fatal or a slight driving accident. Also to develop a model that can predict the outcome of an accident taking into account the condtions of the road and some other factors."
   ]
  },
  {
   "cell_type": "markdown",
   "metadata": {},
   "source": [
    "### Intended public"
   ]
  },
  {
   "cell_type": "markdown",
   "metadata": {},
   "source": [
    "This type of work could be of interest to the government: to be able to see the type of maintenance required on works, to insurance companies which can now have a better assessment of the probable type of accidents a driver can be involved in and finally to the drivers, it can help reduce the risks they take when driving. "
   ]
  },
  {
   "cell_type": "markdown",
   "metadata": {},
   "source": [
    "## Data <a name=\"data\"></a>"
   ]
  },
  {
   "cell_type": "markdown",
   "metadata": {},
   "source": [
    "The dataset is under a OGL (Open Government License)\n",
    "\n",
    "It has records of road accidents from the year 2005 to 2014 in United Kingdom. It is comprised of 4 files: the accident file which contains information about the accident severity, weather, lcocation, date, hour, day of the week, etc. \n",
    "The vehicle file: which contains the details about the vehicles involved.\n",
    "The casualty file which contains information about the severity, age, sex, casualty type, etc.\n",
    "And finally a lookup file which has the description for the previously mentioned files. \n",
    "\n",
    "For this particular study, the files that will be used are the accident file and the casualty file which contains the information deemed necessary to develop an adequate model to predict the severity of and accident taking into consideration the environmental variables.\n",
    "\n",
    "The dataset can be found in [UK Accidents 10 years history with many variables](https://www.kaggle.com/benoit72/uk-accidents-10-years-history-with-many-variables/notebooks) at the Kaggle website.\n",
    "\n",
    "Most of them have are numeric attributes which represent a particular state, however in the development notebook this numeric indices have been replaced by their corresponding 'word' representation to make the charts and information more easily understandable."
   ]
  },
  {
   "cell_type": "markdown",
   "metadata": {},
   "source": [
    "This notebook will be used for the Capstone Project of the Coursera Data Science Specialization. The project consists on a model to predict the severity of an accident taking into account the conditions of the day and the road.\n",
    "\n",
    "Some of the more relevant attributes on the dataset are the following:\n"
   ]
  },
  {
   "cell_type": "markdown",
   "metadata": {},
   "source": [
    "| Field             | Description                                                                           | \n",
    "|-------------------|---------------------------------------------------------------------------------------|\n",
    "| Accident_Index    | Unique identifier of the accident                                                     |\n",
    "| Accident_Severity | Describes severity of accident (desired label)                                        |\n",
    "| Date          | Date of the accident|\n",
    "| Day_of_Week    | Day of the week when the accident occurred                                        |\n",
    "| Road_Type          | Type of road where the accident occurred               |\n",
    "| Speed_limit               | Speed limit in the zone the accident occurred                                                                   |\n",
    "| Junction_Details         | Description of type of junction where the accident happened (roundabout, 4-way,etc)                                                              |\n",
    "| Junction_Control            |Type of control at the junction (trafficlight, stop sign, etc)|\n",
    "| Light_Conditions  | Lighting conditions at time of accident |\n",
    "| Weather_Conditions | Weather conditions when at time of accident |\n",
    "|Road_Surface_Conditions | Conditons of the road surface at location of accident |\n",
    "|Urban_or_Rural_Area | Area of accident |\n",
    "|Vehicle_Type | Description of Vehicle (car, van, truck, etc) |\n",
    "|Age_Band_of_Driver | Age range for driver |\n",
    "|Age_of_Vehicle | Vehicle's age |"
   ]
  },
  {
   "cell_type": "markdown",
   "metadata": {},
   "source": [
    "## Methodology <a name=\"methodology\"></a>"
   ]
  },
  {
   "cell_type": "markdown",
   "metadata": {},
   "source": [
    "The project consists on an analysis on the data discover the most relevant factors that contribute to vehicular accidents and that determine the severity of the accident. The analysis is limited to data from the **years 2005 to 2010 in the UK**.\n",
    "\n",
    "The **data** is collected from Kaggle website and a first exploration is conducted. The most relevant **attributes** e.g. **(weather,lighting,road conditions, etc.)** that could contribute to determining the severity of the accident are left in a dataframe and the others are dropped. Next, data cleaning takes place, by dropping rows that have incomplete information or not useful to the analysis. These records are dropped with further impact on the project, due to the vast amount of records available.\n",
    "\n",
    "Once the analysis is made, a **model (k Nearest Neighbor)** to determine the severity of a possible accident is developed. This will allow to establish which conditions lead to a more dangerous outcome in case of required travel."
   ]
  },
  {
   "cell_type": "markdown",
   "metadata": {},
   "source": [
    "## Analysis <a name=\"analysis\"></a>"
   ]
  },
  {
   "cell_type": "markdown",
   "metadata": {},
   "source": [
    "### Importing the required libraries"
   ]
  },
  {
   "cell_type": "code",
   "execution_count": 19,
   "metadata": {},
   "outputs": [],
   "source": [
    "import pandas as pd\n",
    "import numpy as np\n",
    "import seaborn as sns\n",
    "%matplotlib inline\n",
    "from sklearn import preprocessing\n",
    "import datetime as dt"
   ]
  },
  {
   "cell_type": "code",
   "execution_count": 20,
   "metadata": {},
   "outputs": [
    {
     "name": "stdout",
     "output_type": "stream",
     "text": [
      "Hello Capstone Project Course!\n"
     ]
    }
   ],
   "source": [
    "print(\"Hello Capstone Project Course!\")"
   ]
  },
  {
   "cell_type": "code",
   "execution_count": 21,
   "metadata": {},
   "outputs": [],
   "source": [
    "#df = pd.read_csv(r'/home/abrahamvee/Downloads/Data-Collisions.csv')\n",
    "### EXAMPLE DATASET\n",
    "#example_ds_filepath='/home/abrahamvee/Downloads/Data-Collisions.csv'\n",
    "### KAGGLE'S DATASET\n",
    "kaggle_filepath = '/home/abrahamvee/Documents/Coursera Data Analysis/Capstone Project/accidents2005-2010.csv'\n",
    "kaggle_filepath2 = '/home/abrahamvee/Documents/Coursera Data Analysis/Capstone Project/vehicles2005-2010.csv'\n",
    "df1 = pd.read_csv(kaggle_filepath)\n",
    "df2 = pd.read_csv(kaggle_filepath2)"
   ]
  },
  {
   "cell_type": "markdown",
   "metadata": {},
   "source": [
    "### Assembling the final dataset to use"
   ]
  },
  {
   "cell_type": "code",
   "execution_count": 22,
   "metadata": {},
   "outputs": [
    {
     "name": "stdout",
     "output_type": "stream",
     "text": [
      "['Accident_Index', 'Location_Easting_OSGR', 'Location_Northing_OSGR', 'Longitude', 'Latitude', 'Police_Force', 'Accident_Severity', 'Number_of_Vehicles', 'Number_of_Casualties', 'Date', 'Day_of_Week', 'Time', 'Local_Authority_(District)', 'Local_Authority_(Highway)', '1st_Road_Class', '1st_Road_Number', 'Road_Type', 'Speed_limit', 'Junction_Detail', 'Junction_Control', '2nd_Road_Class', '2nd_Road_Number', 'Pedestrian_Crossing-Human_Control', 'Pedestrian_Crossing-Physical_Facilities', 'Light_Conditions', 'Weather_Conditions', 'Road_Surface_Conditions', 'Special_Conditions_at_Site', 'Carriageway_Hazards', 'Urban_or_Rural_Area', 'Did_Police_Officer_Attend_Scene_of_Accident', 'LSOA_of_Accident_Location']\n"
     ]
    }
   ],
   "source": [
    "### Print a list of the dataset's attributes\n",
    "print(df1.columns.to_list())"
   ]
  },
  {
   "cell_type": "code",
   "execution_count": 23,
   "metadata": {},
   "outputs": [
    {
     "name": "stdout",
     "output_type": "stream",
     "text": [
      "['Accident_Index', 'Vehicle_Reference', 'Vehicle_Type', 'Towing_and_Articulation', 'Vehicle_Manoeuvre', 'Vehicle_Location-Restricted_Lane', 'Junction_Location', 'Skidding_and_Overturning', 'Hit_Object_in_Carriageway', 'Vehicle_Leaving_Carriageway', 'Hit_Object_off_Carriageway', '1st_Point_of_Impact', 'Was_Vehicle_Left_Hand_Drive?', 'Journey_Purpose_of_Driver', 'Sex_of_Driver', 'Age_of_Driver', 'Age_Band_of_Driver', 'Engine_Capacity_(CC)', 'Propulsion_Code', 'Age_of_Vehicle', 'Driver_IMD_Decile', 'Driver_Home_Area_Type']\n"
     ]
    }
   ],
   "source": [
    "print(df2.columns.to_list())"
   ]
  },
  {
   "cell_type": "markdown",
   "metadata": {},
   "source": [
    "Select the attributes that are being used for the model."
   ]
  },
  {
   "cell_type": "code",
   "execution_count": 24,
   "metadata": {},
   "outputs": [
    {
     "data": {
      "text/html": [
       "<div>\n",
       "<style scoped>\n",
       "    .dataframe tbody tr th:only-of-type {\n",
       "        vertical-align: middle;\n",
       "    }\n",
       "\n",
       "    .dataframe tbody tr th {\n",
       "        vertical-align: top;\n",
       "    }\n",
       "\n",
       "    .dataframe thead th {\n",
       "        text-align: right;\n",
       "    }\n",
       "</style>\n",
       "<table border=\"1\" class=\"dataframe\">\n",
       "  <thead>\n",
       "    <tr style=\"text-align: right;\">\n",
       "      <th></th>\n",
       "      <th>Accident_Index</th>\n",
       "      <th>Accident_Severity</th>\n",
       "      <th>Number_of_Casualties</th>\n",
       "      <th>Date</th>\n",
       "      <th>Day_of_Week</th>\n",
       "      <th>Time</th>\n",
       "      <th>Road_Type</th>\n",
       "      <th>Speed_limit</th>\n",
       "      <th>Junction_Detail</th>\n",
       "      <th>Junction_Control</th>\n",
       "      <th>Light_Conditions</th>\n",
       "      <th>Weather_Conditions</th>\n",
       "      <th>Road_Surface_Conditions</th>\n",
       "      <th>Special_Conditions_at_Site</th>\n",
       "      <th>Urban_or_Rural_Area</th>\n",
       "    </tr>\n",
       "  </thead>\n",
       "  <tbody>\n",
       "    <tr>\n",
       "      <th>0</th>\n",
       "      <td>200501BS00001</td>\n",
       "      <td>2</td>\n",
       "      <td>1</td>\n",
       "      <td>04/01/2005</td>\n",
       "      <td>3</td>\n",
       "      <td>17:42</td>\n",
       "      <td>6</td>\n",
       "      <td>30</td>\n",
       "      <td>0</td>\n",
       "      <td>-1</td>\n",
       "      <td>1</td>\n",
       "      <td>2</td>\n",
       "      <td>2</td>\n",
       "      <td>0</td>\n",
       "      <td>1</td>\n",
       "    </tr>\n",
       "    <tr>\n",
       "      <th>1</th>\n",
       "      <td>200501BS00002</td>\n",
       "      <td>3</td>\n",
       "      <td>1</td>\n",
       "      <td>05/01/2005</td>\n",
       "      <td>4</td>\n",
       "      <td>17:36</td>\n",
       "      <td>3</td>\n",
       "      <td>30</td>\n",
       "      <td>6</td>\n",
       "      <td>2</td>\n",
       "      <td>4</td>\n",
       "      <td>1</td>\n",
       "      <td>1</td>\n",
       "      <td>0</td>\n",
       "      <td>1</td>\n",
       "    </tr>\n",
       "    <tr>\n",
       "      <th>2</th>\n",
       "      <td>200501BS00003</td>\n",
       "      <td>3</td>\n",
       "      <td>1</td>\n",
       "      <td>06/01/2005</td>\n",
       "      <td>5</td>\n",
       "      <td>00:15</td>\n",
       "      <td>6</td>\n",
       "      <td>30</td>\n",
       "      <td>0</td>\n",
       "      <td>-1</td>\n",
       "      <td>4</td>\n",
       "      <td>1</td>\n",
       "      <td>1</td>\n",
       "      <td>0</td>\n",
       "      <td>1</td>\n",
       "    </tr>\n",
       "    <tr>\n",
       "      <th>3</th>\n",
       "      <td>200501BS00004</td>\n",
       "      <td>3</td>\n",
       "      <td>1</td>\n",
       "      <td>07/01/2005</td>\n",
       "      <td>6</td>\n",
       "      <td>10:35</td>\n",
       "      <td>6</td>\n",
       "      <td>30</td>\n",
       "      <td>0</td>\n",
       "      <td>-1</td>\n",
       "      <td>1</td>\n",
       "      <td>1</td>\n",
       "      <td>1</td>\n",
       "      <td>0</td>\n",
       "      <td>1</td>\n",
       "    </tr>\n",
       "    <tr>\n",
       "      <th>4</th>\n",
       "      <td>200501BS00005</td>\n",
       "      <td>3</td>\n",
       "      <td>1</td>\n",
       "      <td>10/01/2005</td>\n",
       "      <td>2</td>\n",
       "      <td>21:13</td>\n",
       "      <td>6</td>\n",
       "      <td>30</td>\n",
       "      <td>0</td>\n",
       "      <td>-1</td>\n",
       "      <td>7</td>\n",
       "      <td>1</td>\n",
       "      <td>2</td>\n",
       "      <td>0</td>\n",
       "      <td>1</td>\n",
       "    </tr>\n",
       "  </tbody>\n",
       "</table>\n",
       "</div>"
      ],
      "text/plain": [
       "  Accident_Index  Accident_Severity  Number_of_Casualties        Date  \\\n",
       "0  200501BS00001                  2                     1  04/01/2005   \n",
       "1  200501BS00002                  3                     1  05/01/2005   \n",
       "2  200501BS00003                  3                     1  06/01/2005   \n",
       "3  200501BS00004                  3                     1  07/01/2005   \n",
       "4  200501BS00005                  3                     1  10/01/2005   \n",
       "\n",
       "   Day_of_Week   Time  Road_Type  Speed_limit  Junction_Detail  \\\n",
       "0            3  17:42          6           30                0   \n",
       "1            4  17:36          3           30                6   \n",
       "2            5  00:15          6           30                0   \n",
       "3            6  10:35          6           30                0   \n",
       "4            2  21:13          6           30                0   \n",
       "\n",
       "   Junction_Control  Light_Conditions  Weather_Conditions  \\\n",
       "0                -1                 1                   2   \n",
       "1                 2                 4                   1   \n",
       "2                -1                 4                   1   \n",
       "3                -1                 1                   1   \n",
       "4                -1                 7                   1   \n",
       "\n",
       "   Road_Surface_Conditions  Special_Conditions_at_Site  Urban_or_Rural_Area  \n",
       "0                        2                           0                    1  \n",
       "1                        1                           0                    1  \n",
       "2                        1                           0                    1  \n",
       "3                        1                           0                    1  \n",
       "4                        2                           0                    1  "
      ]
     },
     "execution_count": 24,
     "metadata": {},
     "output_type": "execute_result"
    }
   ],
   "source": [
    "#df = df.filter(['SEVERITYCODE','INCKEY','ADDRTYPE','SEVERITYDESC','PERSONCOUNT','PEDCOUNT','PEDCYLCOUNT','VEHCOUNT','INJURIES','SERIOUSINJURIES','FATALITIES','INCDATE','INCDTTM','INATTENTIONIND','UNDERINFL','WEATHER','ROADCOND','SPEEDING'])\n",
    "#df.head()\n",
    "# KAGGLE'S\n",
    "df1 = df1.filter(['Accident_Index','Accident_Severity','Number_of_vehicles','Number_of_Casualties','Date','Day_of_Week','Time','Road_Type','Speed_limit',\\\n",
    "                'Junction_Detail','Junction_Control','Light_Conditions','Weather_Conditions','Road_Surface_Conditions','Special_Conditions_at_Site','Urban_or_Rural_Area'])\n",
    "df1.head()"
   ]
  },
  {
   "cell_type": "code",
   "execution_count": 25,
   "metadata": {},
   "outputs": [
    {
     "data": {
      "text/html": [
       "<div>\n",
       "<style scoped>\n",
       "    .dataframe tbody tr th:only-of-type {\n",
       "        vertical-align: middle;\n",
       "    }\n",
       "\n",
       "    .dataframe tbody tr th {\n",
       "        vertical-align: top;\n",
       "    }\n",
       "\n",
       "    .dataframe thead th {\n",
       "        text-align: right;\n",
       "    }\n",
       "</style>\n",
       "<table border=\"1\" class=\"dataframe\">\n",
       "  <thead>\n",
       "    <tr style=\"text-align: right;\">\n",
       "      <th></th>\n",
       "      <th>Accident_Index</th>\n",
       "      <th>Vehicle_Type</th>\n",
       "      <th>Sex_of_Driver</th>\n",
       "      <th>Age_of_Driver</th>\n",
       "      <th>Age_Band_of_Driver</th>\n",
       "      <th>Age_of_Vehicle</th>\n",
       "    </tr>\n",
       "  </thead>\n",
       "  <tbody>\n",
       "    <tr>\n",
       "      <th>0</th>\n",
       "      <td>200501BS00001</td>\n",
       "      <td>9</td>\n",
       "      <td>2</td>\n",
       "      <td>74</td>\n",
       "      <td>10</td>\n",
       "      <td>-1</td>\n",
       "    </tr>\n",
       "    <tr>\n",
       "      <th>1</th>\n",
       "      <td>200501BS00002</td>\n",
       "      <td>11</td>\n",
       "      <td>1</td>\n",
       "      <td>42</td>\n",
       "      <td>7</td>\n",
       "      <td>3</td>\n",
       "    </tr>\n",
       "    <tr>\n",
       "      <th>2</th>\n",
       "      <td>200501BS00003</td>\n",
       "      <td>11</td>\n",
       "      <td>1</td>\n",
       "      <td>35</td>\n",
       "      <td>6</td>\n",
       "      <td>5</td>\n",
       "    </tr>\n",
       "    <tr>\n",
       "      <th>3</th>\n",
       "      <td>200501BS00003</td>\n",
       "      <td>9</td>\n",
       "      <td>1</td>\n",
       "      <td>62</td>\n",
       "      <td>9</td>\n",
       "      <td>6</td>\n",
       "    </tr>\n",
       "    <tr>\n",
       "      <th>4</th>\n",
       "      <td>200501BS00004</td>\n",
       "      <td>9</td>\n",
       "      <td>2</td>\n",
       "      <td>49</td>\n",
       "      <td>8</td>\n",
       "      <td>4</td>\n",
       "    </tr>\n",
       "  </tbody>\n",
       "</table>\n",
       "</div>"
      ],
      "text/plain": [
       "  Accident_Index  Vehicle_Type  Sex_of_Driver  Age_of_Driver  \\\n",
       "0  200501BS00001             9              2             74   \n",
       "1  200501BS00002            11              1             42   \n",
       "2  200501BS00003            11              1             35   \n",
       "3  200501BS00003             9              1             62   \n",
       "4  200501BS00004             9              2             49   \n",
       "\n",
       "   Age_Band_of_Driver  Age_of_Vehicle  \n",
       "0                  10              -1  \n",
       "1                   7               3  \n",
       "2                   6               5  \n",
       "3                   9               6  \n",
       "4                   8               4  "
      ]
     },
     "execution_count": 25,
     "metadata": {},
     "output_type": "execute_result"
    }
   ],
   "source": [
    "df2 = df2.filter(['Accident_Index','Vehicle_Type','Sex_of_Driver','Age_of_Driver','Age_Band_of_Driver','Age_of_Vehicle'])\n",
    "df2.head()"
   ]
  },
  {
   "cell_type": "code",
   "execution_count": 26,
   "metadata": {},
   "outputs": [
    {
     "data": {
      "text/html": [
       "<div>\n",
       "<style scoped>\n",
       "    .dataframe tbody tr th:only-of-type {\n",
       "        vertical-align: middle;\n",
       "    }\n",
       "\n",
       "    .dataframe tbody tr th {\n",
       "        vertical-align: top;\n",
       "    }\n",
       "\n",
       "    .dataframe thead th {\n",
       "        text-align: right;\n",
       "    }\n",
       "</style>\n",
       "<table border=\"1\" class=\"dataframe\">\n",
       "  <thead>\n",
       "    <tr style=\"text-align: right;\">\n",
       "      <th></th>\n",
       "      <th>Accident_Index</th>\n",
       "      <th>Accident_Severity</th>\n",
       "      <th>Number_of_Casualties</th>\n",
       "      <th>Date</th>\n",
       "      <th>Day_of_Week</th>\n",
       "      <th>Time</th>\n",
       "      <th>Road_Type</th>\n",
       "      <th>Speed_limit</th>\n",
       "      <th>Junction_Detail</th>\n",
       "      <th>Junction_Control</th>\n",
       "      <th>Light_Conditions</th>\n",
       "      <th>Weather_Conditions</th>\n",
       "      <th>Road_Surface_Conditions</th>\n",
       "      <th>Special_Conditions_at_Site</th>\n",
       "      <th>Urban_or_Rural_Area</th>\n",
       "      <th>Vehicle_Type</th>\n",
       "      <th>Sex_of_Driver</th>\n",
       "      <th>Age_of_Driver</th>\n",
       "      <th>Age_Band_of_Driver</th>\n",
       "      <th>Age_of_Vehicle</th>\n",
       "    </tr>\n",
       "  </thead>\n",
       "  <tbody>\n",
       "    <tr>\n",
       "      <th>0</th>\n",
       "      <td>200501BS00001</td>\n",
       "      <td>2</td>\n",
       "      <td>1</td>\n",
       "      <td>04/01/2005</td>\n",
       "      <td>3</td>\n",
       "      <td>17:42</td>\n",
       "      <td>6</td>\n",
       "      <td>30</td>\n",
       "      <td>0</td>\n",
       "      <td>-1</td>\n",
       "      <td>1</td>\n",
       "      <td>2</td>\n",
       "      <td>2</td>\n",
       "      <td>0</td>\n",
       "      <td>1</td>\n",
       "      <td>9</td>\n",
       "      <td>2</td>\n",
       "      <td>74</td>\n",
       "      <td>10</td>\n",
       "      <td>-1</td>\n",
       "    </tr>\n",
       "    <tr>\n",
       "      <th>1</th>\n",
       "      <td>200501BS00002</td>\n",
       "      <td>3</td>\n",
       "      <td>1</td>\n",
       "      <td>05/01/2005</td>\n",
       "      <td>4</td>\n",
       "      <td>17:36</td>\n",
       "      <td>3</td>\n",
       "      <td>30</td>\n",
       "      <td>6</td>\n",
       "      <td>2</td>\n",
       "      <td>4</td>\n",
       "      <td>1</td>\n",
       "      <td>1</td>\n",
       "      <td>0</td>\n",
       "      <td>1</td>\n",
       "      <td>11</td>\n",
       "      <td>1</td>\n",
       "      <td>42</td>\n",
       "      <td>7</td>\n",
       "      <td>3</td>\n",
       "    </tr>\n",
       "    <tr>\n",
       "      <th>2</th>\n",
       "      <td>200501BS00003</td>\n",
       "      <td>3</td>\n",
       "      <td>1</td>\n",
       "      <td>06/01/2005</td>\n",
       "      <td>5</td>\n",
       "      <td>00:15</td>\n",
       "      <td>6</td>\n",
       "      <td>30</td>\n",
       "      <td>0</td>\n",
       "      <td>-1</td>\n",
       "      <td>4</td>\n",
       "      <td>1</td>\n",
       "      <td>1</td>\n",
       "      <td>0</td>\n",
       "      <td>1</td>\n",
       "      <td>11</td>\n",
       "      <td>1</td>\n",
       "      <td>35</td>\n",
       "      <td>6</td>\n",
       "      <td>5</td>\n",
       "    </tr>\n",
       "    <tr>\n",
       "      <th>3</th>\n",
       "      <td>200501BS00003</td>\n",
       "      <td>3</td>\n",
       "      <td>1</td>\n",
       "      <td>06/01/2005</td>\n",
       "      <td>5</td>\n",
       "      <td>00:15</td>\n",
       "      <td>6</td>\n",
       "      <td>30</td>\n",
       "      <td>0</td>\n",
       "      <td>-1</td>\n",
       "      <td>4</td>\n",
       "      <td>1</td>\n",
       "      <td>1</td>\n",
       "      <td>0</td>\n",
       "      <td>1</td>\n",
       "      <td>9</td>\n",
       "      <td>1</td>\n",
       "      <td>62</td>\n",
       "      <td>9</td>\n",
       "      <td>6</td>\n",
       "    </tr>\n",
       "    <tr>\n",
       "      <th>4</th>\n",
       "      <td>200501BS00004</td>\n",
       "      <td>3</td>\n",
       "      <td>1</td>\n",
       "      <td>07/01/2005</td>\n",
       "      <td>6</td>\n",
       "      <td>10:35</td>\n",
       "      <td>6</td>\n",
       "      <td>30</td>\n",
       "      <td>0</td>\n",
       "      <td>-1</td>\n",
       "      <td>1</td>\n",
       "      <td>1</td>\n",
       "      <td>1</td>\n",
       "      <td>0</td>\n",
       "      <td>1</td>\n",
       "      <td>9</td>\n",
       "      <td>2</td>\n",
       "      <td>49</td>\n",
       "      <td>8</td>\n",
       "      <td>4</td>\n",
       "    </tr>\n",
       "  </tbody>\n",
       "</table>\n",
       "</div>"
      ],
      "text/plain": [
       "  Accident_Index  Accident_Severity  Number_of_Casualties        Date  \\\n",
       "0  200501BS00001                  2                     1  04/01/2005   \n",
       "1  200501BS00002                  3                     1  05/01/2005   \n",
       "2  200501BS00003                  3                     1  06/01/2005   \n",
       "3  200501BS00003                  3                     1  06/01/2005   \n",
       "4  200501BS00004                  3                     1  07/01/2005   \n",
       "\n",
       "   Day_of_Week   Time  Road_Type  Speed_limit  Junction_Detail  \\\n",
       "0            3  17:42          6           30                0   \n",
       "1            4  17:36          3           30                6   \n",
       "2            5  00:15          6           30                0   \n",
       "3            5  00:15          6           30                0   \n",
       "4            6  10:35          6           30                0   \n",
       "\n",
       "   Junction_Control  Light_Conditions  Weather_Conditions  \\\n",
       "0                -1                 1                   2   \n",
       "1                 2                 4                   1   \n",
       "2                -1                 4                   1   \n",
       "3                -1                 4                   1   \n",
       "4                -1                 1                   1   \n",
       "\n",
       "   Road_Surface_Conditions  Special_Conditions_at_Site  Urban_or_Rural_Area  \\\n",
       "0                        2                           0                    1   \n",
       "1                        1                           0                    1   \n",
       "2                        1                           0                    1   \n",
       "3                        1                           0                    1   \n",
       "4                        1                           0                    1   \n",
       "\n",
       "   Vehicle_Type  Sex_of_Driver  Age_of_Driver  Age_Band_of_Driver  \\\n",
       "0             9              2             74                  10   \n",
       "1            11              1             42                   7   \n",
       "2            11              1             35                   6   \n",
       "3             9              1             62                   9   \n",
       "4             9              2             49                   8   \n",
       "\n",
       "   Age_of_Vehicle  \n",
       "0              -1  \n",
       "1               3  \n",
       "2               5  \n",
       "3               6  \n",
       "4               4  "
      ]
     },
     "execution_count": 26,
     "metadata": {},
     "output_type": "execute_result"
    }
   ],
   "source": [
    "df = pd.merge(df1,df2,on='Accident_Index')\n",
    "df.head()"
   ]
  },
  {
   "cell_type": "markdown",
   "metadata": {},
   "source": [
    "### Exploring the dataset"
   ]
  },
  {
   "cell_type": "markdown",
   "metadata": {},
   "source": [
    "##### Importing Matplotlib"
   ]
  },
  {
   "cell_type": "code",
   "execution_count": 27,
   "metadata": {},
   "outputs": [],
   "source": [
    "# we are using the inline backend\n",
    "%matplotlib inline \n",
    "\n",
    "import matplotlib as mpl\n",
    "import matplotlib.pyplot as plt\n",
    "import seaborn as sns"
   ]
  },
  {
   "cell_type": "code",
   "execution_count": 28,
   "metadata": {},
   "outputs": [
    {
     "data": {
      "text/plain": [
       "20971500"
      ]
     },
     "execution_count": 28,
     "metadata": {},
     "output_type": "execute_result"
    }
   ],
   "source": [
    "df.size"
   ]
  },
  {
   "cell_type": "code",
   "execution_count": 29,
   "metadata": {},
   "outputs": [
    {
     "data": {
      "text/plain": [
       "20969260"
      ]
     },
     "execution_count": 29,
     "metadata": {},
     "output_type": "execute_result"
    }
   ],
   "source": [
    "df = df.dropna()\n",
    "df.size"
   ]
  },
  {
   "cell_type": "markdown",
   "metadata": {},
   "source": [
    "### Remove missing data from dataset"
   ]
  },
  {
   "cell_type": "code",
   "execution_count": 30,
   "metadata": {},
   "outputs": [],
   "source": [
    "df.query('Sex_of_Driver != -1',inplace = True)\n",
    "df.query('Sex_of_Driver != 3',inplace = True)\n",
    "df.query('Age_Band_of_Driver != -1',inplace = True)\n",
    "df.query('Road_Type != -1',inplace = True)\n",
    "df.query('Junction_Detail != -1',inplace = True)\n",
    "df.query('Junction_Control != -1',inplace = True)\n",
    "df.query('Light_Conditions != -1',inplace = True)\n",
    "df.query('Weather_Conditions != -1',inplace = True)\n",
    "df.query('Road_Surface_Conditions != -1',inplace = True)\n",
    "df.query('Special_Conditions_at_Site != -1',inplace = True)\n",
    "df.query('Vehicle_Type != -1',inplace = True)\n",
    "df.query('Age_of_Driver != -1',inplace = True)\n",
    "df.query('Age_of_Vehicle != -1',inplace = True)"
   ]
  },
  {
   "cell_type": "markdown",
   "metadata": {},
   "source": [
    "After removing the missing data, the new dataset size."
   ]
  },
  {
   "cell_type": "code",
   "execution_count": 31,
   "metadata": {},
   "outputs": [
    {
     "data": {
      "text/html": [
       "<div>\n",
       "<style scoped>\n",
       "    .dataframe tbody tr th:only-of-type {\n",
       "        vertical-align: middle;\n",
       "    }\n",
       "\n",
       "    .dataframe tbody tr th {\n",
       "        vertical-align: top;\n",
       "    }\n",
       "\n",
       "    .dataframe thead th {\n",
       "        text-align: right;\n",
       "    }\n",
       "</style>\n",
       "<table border=\"1\" class=\"dataframe\">\n",
       "  <thead>\n",
       "    <tr style=\"text-align: right;\">\n",
       "      <th></th>\n",
       "      <th>Accident_Index</th>\n",
       "    </tr>\n",
       "    <tr>\n",
       "      <th>Severity</th>\n",
       "      <th></th>\n",
       "    </tr>\n",
       "  </thead>\n",
       "  <tbody>\n",
       "    <tr>\n",
       "      <th>Fatal</th>\n",
       "      <td>4893</td>\n",
       "    </tr>\n",
       "    <tr>\n",
       "      <th>Serious</th>\n",
       "      <td>47190</td>\n",
       "    </tr>\n",
       "    <tr>\n",
       "      <th>Slight</th>\n",
       "      <td>384853</td>\n",
       "    </tr>\n",
       "  </tbody>\n",
       "</table>\n",
       "</div>"
      ],
      "text/plain": [
       "          Accident_Index\n",
       "Severity                \n",
       "Fatal               4893\n",
       "Serious            47190\n",
       "Slight            384853"
      ]
     },
     "execution_count": 31,
     "metadata": {},
     "output_type": "execute_result"
    }
   ],
   "source": [
    "df_distribution = df[['Accident_Severity','Accident_Index']]\n",
    "df_distribution = df_distribution.groupby(['Accident_Severity']).count()\n",
    "\n",
    "df_distribution['Severity'] = ['Fatal','Serious','Slight']\n",
    "df_distribution.set_index('Severity',inplace= True)\n",
    "df_distribution"
   ]
  },
  {
   "cell_type": "markdown",
   "metadata": {},
   "source": [
    "### Distribution of data by severity"
   ]
  },
  {
   "cell_type": "code",
   "execution_count": 32,
   "metadata": {},
   "outputs": [
    {
     "data": {
      "text/html": [
       "<div>\n",
       "<style scoped>\n",
       "    .dataframe tbody tr th:only-of-type {\n",
       "        vertical-align: middle;\n",
       "    }\n",
       "\n",
       "    .dataframe tbody tr th {\n",
       "        vertical-align: top;\n",
       "    }\n",
       "\n",
       "    .dataframe thead th {\n",
       "        text-align: right;\n",
       "    }\n",
       "</style>\n",
       "<table border=\"1\" class=\"dataframe\">\n",
       "  <thead>\n",
       "    <tr style=\"text-align: right;\">\n",
       "      <th></th>\n",
       "      <th>Accident_Index</th>\n",
       "    </tr>\n",
       "    <tr>\n",
       "      <th>Severity</th>\n",
       "      <th></th>\n",
       "    </tr>\n",
       "  </thead>\n",
       "  <tbody>\n",
       "    <tr>\n",
       "      <th>Fatal</th>\n",
       "      <td>4893</td>\n",
       "    </tr>\n",
       "    <tr>\n",
       "      <th>Serious</th>\n",
       "      <td>47190</td>\n",
       "    </tr>\n",
       "    <tr>\n",
       "      <th>Slight</th>\n",
       "      <td>384853</td>\n",
       "    </tr>\n",
       "  </tbody>\n",
       "</table>\n",
       "</div>"
      ],
      "text/plain": [
       "          Accident_Index\n",
       "Severity                \n",
       "Fatal               4893\n",
       "Serious            47190\n",
       "Slight            384853"
      ]
     },
     "execution_count": 32,
     "metadata": {},
     "output_type": "execute_result"
    },
    {
     "data": {
      "image/png": "[encoded data removed]",
      "text/plain": [
       "<Figure size 432x288 with 1 Axes>"
      ]
     },
     "metadata": {
      "needs_background": "light"
     },
     "output_type": "display_data"
    }
   ],
   "source": [
    "df_distribution = df[['Accident_Severity','Accident_Index']]\n",
    "df_distribution = df_distribution.groupby(['Accident_Severity']).count()\n",
    "\n",
    "df_distribution['Severity'] = ['Fatal','Serious','Slight']\n",
    "df_distribution.set_index('Severity',inplace= True)\n",
    "df_distribution.plot(kind='bar')\n",
    "plt.title(\"Distribution of severity label\")\n",
    "plt.ylabel(\"Number of accidents\")\n",
    "plt.xlabel(\"Severity\")\n",
    "# plt.tight_layout()\n",
    "# plt.savefig('proportion_severity.png')\n",
    "df_distribution"
   ]
  },
  {
   "cell_type": "code",
   "execution_count": 33,
   "metadata": {},
   "outputs": [
    {
     "data": {
      "text/plain": [
       "array([30, 50, 40, 60, 20, 70, 10])"
      ]
     },
     "execution_count": 33,
     "metadata": {},
     "output_type": "execute_result"
    }
   ],
   "source": [
    "df['Speed_limit'].unique()"
   ]
  },
  {
   "cell_type": "markdown",
   "metadata": {},
   "source": [
    "### Accidents by speed limit zone"
   ]
  },
  {
   "cell_type": "code",
   "execution_count": 34,
   "metadata": {},
   "outputs": [
    {
     "data": {
      "image/png": "[encoded data removed]",
      "text/plain": [
       "<Figure size 1152x432 with 1 Axes>"
      ]
     },
     "metadata": {
      "needs_background": "light"
     },
     "output_type": "display_data"
    }
   ],
   "source": [
    "df_speed = df[['Speed_limit','Accident_Severity','Accident_Index']]\n",
    "df_speed_count = df_speed.groupby(['Speed_limit','Accident_Severity']).count()\n",
    "\n",
    "df_speed_count.drop([10],inplace=True)\n",
    "labels = ['20','30','40 ','50','60','70']\n",
    "\n",
    "df_f = df_speed_count.query('Accident_Severity == 1')\n",
    "df_ser = df_speed_count.query('Accident_Severity == 2')\n",
    "df_sli = df_speed_count.query('Accident_Severity == 3')\n",
    "\n",
    "fatal = df_f.values.tolist()\n",
    "serious = df_ser.values.tolist()\n",
    "slight = df_sli.values.tolist()\n",
    "fatal = sum(fatal,[])\n",
    "serious = sum(serious,[])\n",
    "slight = sum(slight,[])\n",
    "\n",
    "x = np.arange(len(labels)) \n",
    "width = 0.10\n",
    "\n",
    "fig, ax = plt.subplots(figsize=(16,6))\n",
    "\n",
    "rects1 = ax.bar(x - (width), fatal, width, label='Fatal')\n",
    "rects2 = ax.bar(x + (width), serious, width, label='Serious')\n",
    "rects3 = ax.bar(x , slight, width, label = 'Slight')\n",
    "\n",
    "\n",
    "ax.set_ylabel('Accidents')\n",
    "ax.set_xlabel('Speed limit')\n",
    "ax.set_title('Accident severity by speedlimit zone')\n",
    "ax.set_xticks(x)\n",
    "ax.set_xticklabels(labels)\n",
    "ax.legend()\n",
    "\n",
    "def autolabel(rects, pos):\n",
    "    for rect in rects:\n",
    "        if(pos == 1):\n",
    "            height = rect.get_height()\n",
    "            ax.annotate('{}'.format(height),\n",
    "                       xy = (rect.get_x() + rect.get_width()/2 , height),\n",
    "                       xytext =(-8,3),\n",
    "                       textcoords=\"offset points\",\n",
    "                       ha='center',va='bottom')\n",
    "        elif (pos==2):\n",
    "            height = rect.get_height()\n",
    "            ax.annotate('{}'.format(height),\n",
    "                       xy = (rect.get_x() + rect.get_width()/2 , height),\n",
    "                       xytext =(8,0),\n",
    "                       textcoords=\"offset points\",\n",
    "                       ha='center',va='bottom')\n",
    "        else:\n",
    "            height = rect.get_height()\n",
    "            ax.annotate('{}'.format(height),\n",
    "                       xy = (rect.get_x() + rect.get_width()/2 , height),\n",
    "                       xytext =(0,8),\n",
    "                       textcoords=\"offset points\",\n",
    "                       ha='center',va='bottom')\n",
    "        \n",
    "autolabel(rects1,1)\n",
    "autolabel(rects2,2)\n",
    "autolabel(rects3,3)\n",
    "\n",
    "\n",
    "# fig.tight_layout()\n",
    "# plt.savefig('speed_limit.png')\n",
    "plt.show()"
   ]
  },
  {
   "cell_type": "code",
   "execution_count": 35,
   "metadata": {},
   "outputs": [
    {
     "data": {
      "text/html": [
       "<div>\n",
       "<style scoped>\n",
       "    .dataframe tbody tr th:only-of-type {\n",
       "        vertical-align: middle;\n",
       "    }\n",
       "\n",
       "    .dataframe tbody tr th {\n",
       "        vertical-align: top;\n",
       "    }\n",
       "\n",
       "    .dataframe thead th {\n",
       "        text-align: right;\n",
       "    }\n",
       "</style>\n",
       "<table border=\"1\" class=\"dataframe\">\n",
       "  <thead>\n",
       "    <tr style=\"text-align: right;\">\n",
       "      <th></th>\n",
       "      <th></th>\n",
       "      <th>Accident_Index</th>\n",
       "    </tr>\n",
       "    <tr>\n",
       "      <th>Speed_limit</th>\n",
       "      <th>Accident_Severity</th>\n",
       "      <th></th>\n",
       "    </tr>\n",
       "  </thead>\n",
       "  <tbody>\n",
       "    <tr>\n",
       "      <th rowspan=\"3\" valign=\"top\">20</th>\n",
       "      <th>1</th>\n",
       "      <td>12</td>\n",
       "    </tr>\n",
       "    <tr>\n",
       "      <th>2</th>\n",
       "      <td>211</td>\n",
       "    </tr>\n",
       "    <tr>\n",
       "      <th>3</th>\n",
       "      <td>1505</td>\n",
       "    </tr>\n",
       "    <tr>\n",
       "      <th rowspan=\"3\" valign=\"top\">30</th>\n",
       "      <th>1</th>\n",
       "      <td>1725</td>\n",
       "    </tr>\n",
       "    <tr>\n",
       "      <th>2</th>\n",
       "      <td>29006</td>\n",
       "    </tr>\n",
       "    <tr>\n",
       "      <th>3</th>\n",
       "      <td>260114</td>\n",
       "    </tr>\n",
       "    <tr>\n",
       "      <th rowspan=\"3\" valign=\"top\">40</th>\n",
       "      <th>1</th>\n",
       "      <td>544</td>\n",
       "    </tr>\n",
       "    <tr>\n",
       "      <th>2</th>\n",
       "      <td>4376</td>\n",
       "    </tr>\n",
       "    <tr>\n",
       "      <th>3</th>\n",
       "      <td>37372</td>\n",
       "    </tr>\n",
       "    <tr>\n",
       "      <th rowspan=\"3\" valign=\"top\">50</th>\n",
       "      <th>1</th>\n",
       "      <td>220</td>\n",
       "    </tr>\n",
       "    <tr>\n",
       "      <th>2</th>\n",
       "      <td>1450</td>\n",
       "    </tr>\n",
       "    <tr>\n",
       "      <th>3</th>\n",
       "      <td>10740</td>\n",
       "    </tr>\n",
       "    <tr>\n",
       "      <th rowspan=\"3\" valign=\"top\">60</th>\n",
       "      <th>1</th>\n",
       "      <td>1798</td>\n",
       "    </tr>\n",
       "    <tr>\n",
       "      <th>2</th>\n",
       "      <td>9696</td>\n",
       "    </tr>\n",
       "    <tr>\n",
       "      <th>3</th>\n",
       "      <td>54240</td>\n",
       "    </tr>\n",
       "    <tr>\n",
       "      <th rowspan=\"3\" valign=\"top\">70</th>\n",
       "      <th>1</th>\n",
       "      <td>594</td>\n",
       "    </tr>\n",
       "    <tr>\n",
       "      <th>2</th>\n",
       "      <td>2451</td>\n",
       "    </tr>\n",
       "    <tr>\n",
       "      <th>3</th>\n",
       "      <td>20881</td>\n",
       "    </tr>\n",
       "  </tbody>\n",
       "</table>\n",
       "</div>"
      ],
      "text/plain": [
       "                               Accident_Index\n",
       "Speed_limit Accident_Severity                \n",
       "20          1                              12\n",
       "            2                             211\n",
       "            3                            1505\n",
       "30          1                            1725\n",
       "            2                           29006\n",
       "            3                          260114\n",
       "40          1                             544\n",
       "            2                            4376\n",
       "            3                           37372\n",
       "50          1                             220\n",
       "            2                            1450\n",
       "            3                           10740\n",
       "60          1                            1798\n",
       "            2                            9696\n",
       "            3                           54240\n",
       "70          1                             594\n",
       "            2                            2451\n",
       "            3                           20881"
      ]
     },
     "execution_count": 35,
     "metadata": {},
     "output_type": "execute_result"
    }
   ],
   "source": [
    "df_speed_count"
   ]
  },
  {
   "cell_type": "markdown",
   "metadata": {},
   "source": [
    "### Accidents by weather"
   ]
  },
  {
   "cell_type": "code",
   "execution_count": 36,
   "metadata": {},
   "outputs": [
    {
     "data": {
      "image/png": "[encoded data removed]",
      "text/plain": [
       "<Figure size 1152x432 with 1 Axes>"
      ]
     },
     "metadata": {
      "needs_background": "light"
     },
     "output_type": "display_data"
    },
    {
     "data": {
      "text/html": [
       "<div>\n",
       "<style scoped>\n",
       "    .dataframe tbody tr th:only-of-type {\n",
       "        vertical-align: middle;\n",
       "    }\n",
       "\n",
       "    .dataframe tbody tr th {\n",
       "        vertical-align: top;\n",
       "    }\n",
       "\n",
       "    .dataframe thead th {\n",
       "        text-align: right;\n",
       "    }\n",
       "</style>\n",
       "<table border=\"1\" class=\"dataframe\">\n",
       "  <thead>\n",
       "    <tr style=\"text-align: right;\">\n",
       "      <th></th>\n",
       "      <th></th>\n",
       "      <th>Accident_Index</th>\n",
       "    </tr>\n",
       "    <tr>\n",
       "      <th>Weather_Conditions</th>\n",
       "      <th>Accident_Severity</th>\n",
       "      <th></th>\n",
       "    </tr>\n",
       "  </thead>\n",
       "  <tbody>\n",
       "    <tr>\n",
       "      <th rowspan=\"3\" valign=\"top\">1</th>\n",
       "      <th>1</th>\n",
       "      <td>4195</td>\n",
       "    </tr>\n",
       "    <tr>\n",
       "      <th>2</th>\n",
       "      <td>39261</td>\n",
       "    </tr>\n",
       "    <tr>\n",
       "      <th>3</th>\n",
       "      <td>306919</td>\n",
       "    </tr>\n",
       "    <tr>\n",
       "      <th rowspan=\"3\" valign=\"top\">2</th>\n",
       "      <th>1</th>\n",
       "      <td>386</td>\n",
       "    </tr>\n",
       "    <tr>\n",
       "      <th>2</th>\n",
       "      <td>5091</td>\n",
       "    </tr>\n",
       "    <tr>\n",
       "      <th>3</th>\n",
       "      <td>48756</td>\n",
       "    </tr>\n",
       "    <tr>\n",
       "      <th rowspan=\"3\" valign=\"top\">3</th>\n",
       "      <th>1</th>\n",
       "      <td>8</td>\n",
       "    </tr>\n",
       "    <tr>\n",
       "      <th>2</th>\n",
       "      <td>142</td>\n",
       "    </tr>\n",
       "    <tr>\n",
       "      <th>3</th>\n",
       "      <td>1765</td>\n",
       "    </tr>\n",
       "    <tr>\n",
       "      <th rowspan=\"3\" valign=\"top\">4</th>\n",
       "      <th>1</th>\n",
       "      <td>85</td>\n",
       "    </tr>\n",
       "    <tr>\n",
       "      <th>2</th>\n",
       "      <td>639</td>\n",
       "    </tr>\n",
       "    <tr>\n",
       "      <th>3</th>\n",
       "      <td>4604</td>\n",
       "    </tr>\n",
       "    <tr>\n",
       "      <th rowspan=\"3\" valign=\"top\">5</th>\n",
       "      <th>1</th>\n",
       "      <td>63</td>\n",
       "    </tr>\n",
       "    <tr>\n",
       "      <th>2</th>\n",
       "      <td>582</td>\n",
       "    </tr>\n",
       "    <tr>\n",
       "      <th>3</th>\n",
       "      <td>5246</td>\n",
       "    </tr>\n",
       "    <tr>\n",
       "      <th rowspan=\"3\" valign=\"top\">6</th>\n",
       "      <th>1</th>\n",
       "      <td>4</td>\n",
       "    </tr>\n",
       "    <tr>\n",
       "      <th>2</th>\n",
       "      <td>20</td>\n",
       "    </tr>\n",
       "    <tr>\n",
       "      <th>3</th>\n",
       "      <td>221</td>\n",
       "    </tr>\n",
       "    <tr>\n",
       "      <th rowspan=\"3\" valign=\"top\">7</th>\n",
       "      <th>1</th>\n",
       "      <td>60</td>\n",
       "    </tr>\n",
       "    <tr>\n",
       "      <th>2</th>\n",
       "      <td>275</td>\n",
       "    </tr>\n",
       "    <tr>\n",
       "      <th>3</th>\n",
       "      <td>1992</td>\n",
       "    </tr>\n",
       "    <tr>\n",
       "      <th rowspan=\"3\" valign=\"top\">8</th>\n",
       "      <th>1</th>\n",
       "      <td>60</td>\n",
       "    </tr>\n",
       "    <tr>\n",
       "      <th>2</th>\n",
       "      <td>796</td>\n",
       "    </tr>\n",
       "    <tr>\n",
       "      <th>3</th>\n",
       "      <td>9230</td>\n",
       "    </tr>\n",
       "    <tr>\n",
       "      <th rowspan=\"3\" valign=\"top\">9</th>\n",
       "      <th>1</th>\n",
       "      <td>32</td>\n",
       "    </tr>\n",
       "    <tr>\n",
       "      <th>2</th>\n",
       "      <td>384</td>\n",
       "    </tr>\n",
       "    <tr>\n",
       "      <th>3</th>\n",
       "      <td>6120</td>\n",
       "    </tr>\n",
       "  </tbody>\n",
       "</table>\n",
       "</div>"
      ],
      "text/plain": [
       "                                      Accident_Index\n",
       "Weather_Conditions Accident_Severity                \n",
       "1                  1                            4195\n",
       "                   2                           39261\n",
       "                   3                          306919\n",
       "2                  1                             386\n",
       "                   2                            5091\n",
       "                   3                           48756\n",
       "3                  1                               8\n",
       "                   2                             142\n",
       "                   3                            1765\n",
       "4                  1                              85\n",
       "                   2                             639\n",
       "                   3                            4604\n",
       "5                  1                              63\n",
       "                   2                             582\n",
       "                   3                            5246\n",
       "6                  1                               4\n",
       "                   2                              20\n",
       "                   3                             221\n",
       "7                  1                              60\n",
       "                   2                             275\n",
       "                   3                            1992\n",
       "8                  1                              60\n",
       "                   2                             796\n",
       "                   3                            9230\n",
       "9                  1                              32\n",
       "                   2                             384\n",
       "                   3                            6120"
      ]
     },
     "execution_count": 36,
     "metadata": {},
     "output_type": "execute_result"
    }
   ],
   "source": [
    "df_weather = df[['Weather_Conditions','Accident_Severity','Accident_Index']]\n",
    "df_weather_count = df_weather.groupby(['Weather_Conditions','Accident_Severity']).count()\n",
    "\n",
    "labels = ['Fine','Raning','Snowing','Fine + High Winds','Raining + High Winds','Snowing + High Winds','Fog or mist','Other','Unknown']\n",
    "\n",
    "df_f = df_weather_count.query('Accident_Severity == 1')\n",
    "df_ser = df_weather_count.query('Accident_Severity == 2')\n",
    "df_sli = df_weather_count.query('Accident_Severity == 3')\n",
    "\n",
    "fatal = df_f.values.tolist()\n",
    "serious = df_ser.values.tolist()\n",
    "slight = df_sli.values.tolist()\n",
    "fatal = sum(fatal,[])\n",
    "serious = sum(serious,[])\n",
    "slight = sum(slight,[])\n",
    "\n",
    "x = np.arange(len(labels)) \n",
    "width = 0.10\n",
    "\n",
    "fig, ax = plt.subplots(figsize=(16,6))\n",
    "\n",
    "rects1 = ax.bar(x - (width), fatal, width, label='Fatal')\n",
    "rects2 = ax.bar(x + (width), serious, width, label='Serious')\n",
    "rects3 = ax.bar(x , slight, width, label = 'Slight')\n",
    "\n",
    "\n",
    "ax.set_ylabel('Accidents')\n",
    "ax.set_xlabel('Weather Conditions')\n",
    "ax.set_title('Accident severity by weather conditions')\n",
    "ax.set_xticks(x)\n",
    "ax.set_xticklabels(labels)\n",
    "ax.legend()\n",
    "\n",
    "def autolabel(rects, pos):\n",
    "    for rect in rects:\n",
    "        if(pos == 1):\n",
    "            height = rect.get_height()\n",
    "            ax.annotate('{}'.format(height),\n",
    "                       xy = (rect.get_x() + rect.get_width()/2 , height),\n",
    "                       xytext =(-8,3),\n",
    "                       textcoords=\"offset points\",\n",
    "                       ha='center',va='bottom')\n",
    "        elif (pos==2):\n",
    "            height = rect.get_height()\n",
    "            ax.annotate('{}'.format(height),\n",
    "                       xy = (rect.get_x() + rect.get_width()/2 , height),\n",
    "                       xytext =(8,0),\n",
    "                       textcoords=\"offset points\",\n",
    "                       ha='center',va='bottom')\n",
    "        else:\n",
    "            height = rect.get_height()\n",
    "            ax.annotate('{}'.format(height),\n",
    "                       xy = (rect.get_x() + rect.get_width()/2 , height),\n",
    "                       xytext =(0,8),\n",
    "                       textcoords=\"offset points\",\n",
    "                       ha='center',va='bottom')\n",
    "        \n",
    "autolabel(rects1,1)\n",
    "autolabel(rects2,2)\n",
    "autolabel(rects3,3)\n",
    "\n",
    "\n",
    "# fig.tight_layout()\n",
    "# plt.savefig('weather.png')\n",
    "plt.show()\n",
    "\n",
    "\n",
    "\n",
    "# df_weather_count['Weather']=['Fine','Raning','Snowing','Fine + High Winds','Raining + High Winds','Snowing + High Winds','Fog or mist','Other','Unknown']\n",
    "# df_weather_count.set_index('Weather',inplace = True)\n",
    "# df_weather_count.plot(kind='bar')\n",
    "# plt.title(\"Accidents per type of weather\")\n",
    "# plt.xlabel(\"Type of weather\")\n",
    "# plt.ylabel(\"Number of accidents\")\n",
    "\n",
    "df_weather_count"
   ]
  },
  {
   "cell_type": "markdown",
   "metadata": {},
   "source": [
    "### Accidents by light conditions"
   ]
  },
  {
   "cell_type": "code",
   "execution_count": 37,
   "metadata": {},
   "outputs": [
    {
     "data": {
      "image/png": "[encoded data removed]",
      "text/plain": [
       "<Figure size 864x432 with 1 Axes>"
      ]
     },
     "metadata": {
      "needs_background": "light"
     },
     "output_type": "display_data"
    },
    {
     "data": {
      "text/html": [
       "<div>\n",
       "<style scoped>\n",
       "    .dataframe tbody tr th:only-of-type {\n",
       "        vertical-align: middle;\n",
       "    }\n",
       "\n",
       "    .dataframe tbody tr th {\n",
       "        vertical-align: top;\n",
       "    }\n",
       "\n",
       "    .dataframe thead th {\n",
       "        text-align: right;\n",
       "    }\n",
       "</style>\n",
       "<table border=\"1\" class=\"dataframe\">\n",
       "  <thead>\n",
       "    <tr style=\"text-align: right;\">\n",
       "      <th></th>\n",
       "      <th></th>\n",
       "      <th>Accident_Index</th>\n",
       "    </tr>\n",
       "    <tr>\n",
       "      <th>Light_Conditions</th>\n",
       "      <th>Accident_Severity</th>\n",
       "      <th></th>\n",
       "    </tr>\n",
       "  </thead>\n",
       "  <tbody>\n",
       "    <tr>\n",
       "      <th rowspan=\"3\" valign=\"top\">1</th>\n",
       "      <th>1</th>\n",
       "      <td>3152</td>\n",
       "    </tr>\n",
       "    <tr>\n",
       "      <th>2</th>\n",
       "      <td>32985</td>\n",
       "    </tr>\n",
       "    <tr>\n",
       "      <th>3</th>\n",
       "      <td>292011</td>\n",
       "    </tr>\n",
       "    <tr>\n",
       "      <th rowspan=\"3\" valign=\"top\">4</th>\n",
       "      <th>1</th>\n",
       "      <td>1038</td>\n",
       "    </tr>\n",
       "    <tr>\n",
       "      <th>2</th>\n",
       "      <td>11196</td>\n",
       "    </tr>\n",
       "    <tr>\n",
       "      <th>3</th>\n",
       "      <td>77622</td>\n",
       "    </tr>\n",
       "    <tr>\n",
       "      <th rowspan=\"3\" valign=\"top\">5</th>\n",
       "      <th>1</th>\n",
       "      <td>21</td>\n",
       "    </tr>\n",
       "    <tr>\n",
       "      <th>2</th>\n",
       "      <td>215</td>\n",
       "    </tr>\n",
       "    <tr>\n",
       "      <th>3</th>\n",
       "      <td>1601</td>\n",
       "    </tr>\n",
       "    <tr>\n",
       "      <th rowspan=\"3\" valign=\"top\">6</th>\n",
       "      <th>1</th>\n",
       "      <td>657</td>\n",
       "    </tr>\n",
       "    <tr>\n",
       "      <th>2</th>\n",
       "      <td>2537</td>\n",
       "    </tr>\n",
       "    <tr>\n",
       "      <th>3</th>\n",
       "      <td>11166</td>\n",
       "    </tr>\n",
       "    <tr>\n",
       "      <th rowspan=\"3\" valign=\"top\">7</th>\n",
       "      <th>1</th>\n",
       "      <td>25</td>\n",
       "    </tr>\n",
       "    <tr>\n",
       "      <th>2</th>\n",
       "      <td>257</td>\n",
       "    </tr>\n",
       "    <tr>\n",
       "      <th>3</th>\n",
       "      <td>2453</td>\n",
       "    </tr>\n",
       "  </tbody>\n",
       "</table>\n",
       "</div>"
      ],
      "text/plain": [
       "                                    Accident_Index\n",
       "Light_Conditions Accident_Severity                \n",
       "1                1                            3152\n",
       "                 2                           32985\n",
       "                 3                          292011\n",
       "4                1                            1038\n",
       "                 2                           11196\n",
       "                 3                           77622\n",
       "5                1                              21\n",
       "                 2                             215\n",
       "                 3                            1601\n",
       "6                1                             657\n",
       "                 2                            2537\n",
       "                 3                           11166\n",
       "7                1                              25\n",
       "                 2                             257\n",
       "                 3                            2453"
      ]
     },
     "execution_count": 37,
     "metadata": {},
     "output_type": "execute_result"
    }
   ],
   "source": [
    "df_light = df[['Light_Conditions','Accident_Severity','Accident_Index']]\n",
    "df_light_count = df_light.groupby(['Light_Conditions','Accident_Severity']).count()\n",
    "\n",
    "labels = ['Daylight','Darkness (lit)','Darkness (unlit)','Darkness (No lighting)','Darkness (Unknown)']\n",
    "\n",
    "df_f = df_light_count.query('Accident_Severity == 1')\n",
    "df_ser = df_light_count.query('Accident_Severity == 2')\n",
    "df_sli = df_light_count.query('Accident_Severity == 3')\n",
    "\n",
    "fatal = df_f.values.tolist()\n",
    "serious = df_ser.values.tolist()\n",
    "slight = df_sli.values.tolist()\n",
    "\n",
    "fatal = sum(fatal,[])\n",
    "serious = sum(serious,[])\n",
    "slight = sum(slight,[])\n",
    "\n",
    "x = np.arange(len(labels)) \n",
    "width = 0.10\n",
    "\n",
    "fig, ax = plt.subplots(figsize=(12,6))\n",
    "\n",
    "rects1 = ax.bar(x - (width), fatal, width, label='Fatal')\n",
    "rects2 = ax.bar(x + (width), serious, width, label='Serious')\n",
    "rects3 = ax.bar(x , slight, width, label = 'Slight')\n",
    "\n",
    "\n",
    "ax.set_ylabel('Accidents')\n",
    "ax.set_title('Accident severity by light conditions')\n",
    "ax.set_xticks(x)\n",
    "ax.set_xticklabels(labels)\n",
    "ax.set_xlabel('Light Conditions')\n",
    "ax.legend()\n",
    "\n",
    "def autolabel(rects, pos):\n",
    "    for rect in rects:\n",
    "        if(pos == 1):\n",
    "            height = rect.get_height()\n",
    "            ax.annotate('{}'.format(height),\n",
    "                       xy = (rect.get_x() + rect.get_width()/2 , height),\n",
    "                       xytext =(-8,0),\n",
    "                       textcoords=\"offset points\",\n",
    "                       ha='center',va='bottom')\n",
    "        elif (pos==2):\n",
    "            height = rect.get_height()\n",
    "            ax.annotate('{}'.format(height),\n",
    "                       xy = (rect.get_x() + rect.get_width()/2 , height),\n",
    "                       xytext =(8,0),\n",
    "                       textcoords=\"offset points\",\n",
    "                       ha='center',va='bottom')\n",
    "        else:\n",
    "            height = rect.get_height()\n",
    "            ax.annotate('{}'.format(height),\n",
    "                       xy = (rect.get_x() + rect.get_width()/2 , height),\n",
    "                       xytext =(0,8),\n",
    "                       textcoords=\"offset points\",\n",
    "                       ha='center',va='bottom')\n",
    "        \n",
    "autolabel(rects1,1)\n",
    "autolabel(rects2,2)\n",
    "autolabel(rects3,3)\n",
    "\n",
    "\n",
    "# fig.tight_layout()\n",
    "# plt.savefig('light.png')\n",
    "plt.show()\n",
    "\n",
    "df_light_count"
   ]
  },
  {
   "cell_type": "markdown",
   "metadata": {},
   "source": [
    "### Accidents by road conditions"
   ]
  },
  {
   "cell_type": "code",
   "execution_count": 38,
   "metadata": {},
   "outputs": [
    {
     "data": {
      "text/html": [
       "<div>\n",
       "<style scoped>\n",
       "    .dataframe tbody tr th:only-of-type {\n",
       "        vertical-align: middle;\n",
       "    }\n",
       "\n",
       "    .dataframe tbody tr th {\n",
       "        vertical-align: top;\n",
       "    }\n",
       "\n",
       "    .dataframe thead th {\n",
       "        text-align: right;\n",
       "    }\n",
       "</style>\n",
       "<table border=\"1\" class=\"dataframe\">\n",
       "  <thead>\n",
       "    <tr style=\"text-align: right;\">\n",
       "      <th></th>\n",
       "      <th>Accident_Index</th>\n",
       "    </tr>\n",
       "    <tr>\n",
       "      <th>RoadC</th>\n",
       "      <th></th>\n",
       "    </tr>\n",
       "  </thead>\n",
       "  <tbody>\n",
       "    <tr>\n",
       "      <th>Dry</th>\n",
       "      <td>299894</td>\n",
       "    </tr>\n",
       "    <tr>\n",
       "      <th>Wet or damp</th>\n",
       "      <td>131399</td>\n",
       "    </tr>\n",
       "    <tr>\n",
       "      <th>Snow</th>\n",
       "      <td>1139</td>\n",
       "    </tr>\n",
       "    <tr>\n",
       "      <th>Frost or ice</th>\n",
       "      <td>4209</td>\n",
       "    </tr>\n",
       "    <tr>\n",
       "      <th>Flood over 3 cm</th>\n",
       "      <td>295</td>\n",
       "    </tr>\n",
       "  </tbody>\n",
       "</table>\n",
       "</div>"
      ],
      "text/plain": [
       "                 Accident_Index\n",
       "RoadC                          \n",
       "Dry                      299894\n",
       "Wet or damp              131399\n",
       "Snow                       1139\n",
       "Frost or ice               4209\n",
       "Flood over 3 cm             295"
      ]
     },
     "execution_count": 38,
     "metadata": {},
     "output_type": "execute_result"
    },
    {
     "data": {
      "image/png": "[encoded data removed]",
      "text/plain": [
       "<Figure size 432x288 with 1 Axes>"
      ]
     },
     "metadata": {
      "needs_background": "light"
     },
     "output_type": "display_data"
    }
   ],
   "source": [
    "df_roadc = df[['Road_Surface_Conditions','Accident_Index']]\n",
    "df_roadc_count = df_roadc.groupby(['Road_Surface_Conditions']).count()\n",
    "df_roadc_count['RoadC']=['Dry','Wet or damp','Snow','Frost or ice','Flood over 3 cm']\n",
    "df_roadc_count.set_index('RoadC',inplace = True)\n",
    "df_roadc_count.plot(kind='bar')\n",
    "plt.title(\"Accidents per road conditions\")\n",
    "plt.xlabel(\"Road conditions\")\n",
    "plt.ylabel(\"Number of accidents\")\n",
    "\n",
    "# plt.tight_layout()\n",
    "# plt.savefig('road.png')\n",
    "\n",
    "df_roadc_count"
   ]
  },
  {
   "cell_type": "markdown",
   "metadata": {},
   "source": [
    "### Distribution of data by year"
   ]
  },
  {
   "cell_type": "code",
   "execution_count": 39,
   "metadata": {},
   "outputs": [
    {
     "data": {
      "image/png": "[encoded data removed]",
      "text/plain": [
       "<Figure size 432x288 with 1 Axes>"
      ]
     },
     "metadata": {
      "needs_background": "light"
     },
     "output_type": "display_data"
    }
   ],
   "source": [
    "df['Date'] = df['Date'].astype('datetime64')\n",
    "df['Year'] = pd.DatetimeIndex(df['Date']).year\n",
    "df_yearly = df[['Year','Accident_Severity','Accident_Index']]\n",
    "df_yearly_count=df_yearly.groupby(['Year','Accident_Severity']).count()\n",
    "df_yearly_count.plot(kind='bar')\n",
    "plt.title(\"Accident severity by year\")\n",
    "plt.ylabel(\"Number of accidents\")\n",
    "plt.xlabel(\"Year/Accident Severity\")\n",
    "# plt.tight_layout()\n",
    "# plt.savefig('year.png')"
   ]
  },
  {
   "cell_type": "markdown",
   "metadata": {},
   "source": [
    "### Accidents per day of the week"
   ]
  },
  {
   "cell_type": "code",
   "execution_count": 40,
   "metadata": {},
   "outputs": [
    {
     "data": {
      "text/html": [
       "<div>\n",
       "<style scoped>\n",
       "    .dataframe tbody tr th:only-of-type {\n",
       "        vertical-align: middle;\n",
       "    }\n",
       "\n",
       "    .dataframe tbody tr th {\n",
       "        vertical-align: top;\n",
       "    }\n",
       "\n",
       "    .dataframe thead th {\n",
       "        text-align: right;\n",
       "    }\n",
       "</style>\n",
       "<table border=\"1\" class=\"dataframe\">\n",
       "  <thead>\n",
       "    <tr style=\"text-align: right;\">\n",
       "      <th></th>\n",
       "      <th>Accident_Index</th>\n",
       "    </tr>\n",
       "    <tr>\n",
       "      <th>Days</th>\n",
       "      <th></th>\n",
       "    </tr>\n",
       "  </thead>\n",
       "  <tbody>\n",
       "    <tr>\n",
       "      <th>Sunday</th>\n",
       "      <td>46635</td>\n",
       "    </tr>\n",
       "    <tr>\n",
       "      <th>Monday</th>\n",
       "      <td>62000</td>\n",
       "    </tr>\n",
       "    <tr>\n",
       "      <th>Tuesday</th>\n",
       "      <td>65157</td>\n",
       "    </tr>\n",
       "    <tr>\n",
       "      <th>Wednesday</th>\n",
       "      <td>66660</td>\n",
       "    </tr>\n",
       "    <tr>\n",
       "      <th>Thursday</th>\n",
       "      <td>65653</td>\n",
       "    </tr>\n",
       "    <tr>\n",
       "      <th>Friday</th>\n",
       "      <td>72451</td>\n",
       "    </tr>\n",
       "    <tr>\n",
       "      <th>Saturday</th>\n",
       "      <td>58380</td>\n",
       "    </tr>\n",
       "  </tbody>\n",
       "</table>\n",
       "</div>"
      ],
      "text/plain": [
       "           Accident_Index\n",
       "Days                     \n",
       "Sunday              46635\n",
       "Monday              62000\n",
       "Tuesday             65157\n",
       "Wednesday           66660\n",
       "Thursday            65653\n",
       "Friday              72451\n",
       "Saturday            58380"
      ]
     },
     "execution_count": 40,
     "metadata": {},
     "output_type": "execute_result"
    },
    {
     "data": {
      "image/png": "[encoded data removed]",
      "text/plain": [
       "<Figure size 432x288 with 1 Axes>"
      ]
     },
     "metadata": {
      "needs_background": "light"
     },
     "output_type": "display_data"
    }
   ],
   "source": [
    "df_weekday = df[['Day_of_Week','Accident_Index']]\n",
    "df_weekday_count = df_weekday.groupby(['Day_of_Week']).count()\n",
    "df_weekday_count['Days']=['Sunday','Monday','Tuesday','Wednesday','Thursday','Friday','Saturday']\n",
    "df_weekday_count.set_index('Days',inplace = True)\n",
    "df_weekday_count.plot(kind='bar')\n",
    "plt.title(\"Accidents per day of the week\")\n",
    "plt.xlabel(\"Day of the week\")\n",
    "plt.ylabel(\"Number of accidents\")\n",
    "# plt.tight_layout()\n",
    "# plt.savefig('weekday.png')\n",
    "df_weekday_count"
   ]
  },
  {
   "cell_type": "markdown",
   "metadata": {},
   "source": [
    "### Distribution of data by sex and age"
   ]
  },
  {
   "cell_type": "code",
   "execution_count": 41,
   "metadata": {},
   "outputs": [
    {
     "data": {
      "text/html": [
       "<div>\n",
       "<style scoped>\n",
       "    .dataframe tbody tr th:only-of-type {\n",
       "        vertical-align: middle;\n",
       "    }\n",
       "\n",
       "    .dataframe tbody tr th {\n",
       "        vertical-align: top;\n",
       "    }\n",
       "\n",
       "    .dataframe thead th {\n",
       "        text-align: right;\n",
       "    }\n",
       "</style>\n",
       "<table border=\"1\" class=\"dataframe\">\n",
       "  <thead>\n",
       "    <tr style=\"text-align: right;\">\n",
       "      <th></th>\n",
       "      <th>Accident_Index</th>\n",
       "    </tr>\n",
       "    <tr>\n",
       "      <th>Sex</th>\n",
       "      <th></th>\n",
       "    </tr>\n",
       "  </thead>\n",
       "  <tbody>\n",
       "    <tr>\n",
       "      <th>Male</th>\n",
       "      <td>290954</td>\n",
       "    </tr>\n",
       "    <tr>\n",
       "      <th>Female</th>\n",
       "      <td>145982</td>\n",
       "    </tr>\n",
       "  </tbody>\n",
       "</table>\n",
       "</div>"
      ],
      "text/plain": [
       "        Accident_Index\n",
       "Sex                   \n",
       "Male            290954\n",
       "Female          145982"
      ]
     },
     "execution_count": 41,
     "metadata": {},
     "output_type": "execute_result"
    },
    {
     "data": {
      "image/png": "[encoded data removed]",
      "text/plain": [
       "<Figure size 432x288 with 1 Axes>"
      ]
     },
     "metadata": {
      "needs_background": "light"
     },
     "output_type": "display_data"
    }
   ],
   "source": [
    "df_sex = df[['Sex_of_Driver','Accident_Index']]\n",
    "df_sex = df_sex.groupby(['Sex_of_Driver']).count()\n",
    "\n",
    "df_sex['Sex'] = ['Male','Female']\n",
    "df_sex.set_index('Sex',inplace=True)\n",
    "\n",
    "df_sex.plot(kind='bar')\n",
    "plt.title(\"Number of accidents vs sex of driver\")\n",
    "plt.xlabel(\"Sex\")\n",
    "plt.ylabel(\"Number of accidents\")\n",
    "# plt.tight_layout()\n",
    "# plt.savefig('sex.png')\n",
    "df_sex"
   ]
  },
  {
   "cell_type": "code",
   "execution_count": 42,
   "metadata": {},
   "outputs": [
    {
     "data": {
      "text/html": [
       "<div>\n",
       "<style scoped>\n",
       "    .dataframe tbody tr th:only-of-type {\n",
       "        vertical-align: middle;\n",
       "    }\n",
       "\n",
       "    .dataframe tbody tr th {\n",
       "        vertical-align: top;\n",
       "    }\n",
       "\n",
       "    .dataframe thead th {\n",
       "        text-align: right;\n",
       "    }\n",
       "</style>\n",
       "<table border=\"1\" class=\"dataframe\">\n",
       "  <thead>\n",
       "    <tr style=\"text-align: right;\">\n",
       "      <th></th>\n",
       "      <th>Accident_Index</th>\n",
       "    </tr>\n",
       "    <tr>\n",
       "      <th>Age Range</th>\n",
       "      <th></th>\n",
       "    </tr>\n",
       "  </thead>\n",
       "  <tbody>\n",
       "    <tr>\n",
       "      <th>6-10</th>\n",
       "      <td>4</td>\n",
       "    </tr>\n",
       "    <tr>\n",
       "      <th>11-15</th>\n",
       "      <td>238</td>\n",
       "    </tr>\n",
       "    <tr>\n",
       "      <th>16-20</th>\n",
       "      <td>53505</td>\n",
       "    </tr>\n",
       "    <tr>\n",
       "      <th>21-25</th>\n",
       "      <td>55631</td>\n",
       "    </tr>\n",
       "    <tr>\n",
       "      <th>26-35</th>\n",
       "      <td>100511</td>\n",
       "    </tr>\n",
       "    <tr>\n",
       "      <th>36-45</th>\n",
       "      <td>97478</td>\n",
       "    </tr>\n",
       "    <tr>\n",
       "      <th>46-55</th>\n",
       "      <td>62721</td>\n",
       "    </tr>\n",
       "    <tr>\n",
       "      <th>56-65</th>\n",
       "      <td>39330</td>\n",
       "    </tr>\n",
       "    <tr>\n",
       "      <th>66-75</th>\n",
       "      <td>17258</td>\n",
       "    </tr>\n",
       "    <tr>\n",
       "      <th>Over 75</th>\n",
       "      <td>10260</td>\n",
       "    </tr>\n",
       "  </tbody>\n",
       "</table>\n",
       "</div>"
      ],
      "text/plain": [
       "           Accident_Index\n",
       "Age Range                \n",
       "6-10                    4\n",
       "11-15                 238\n",
       "16-20               53505\n",
       "21-25               55631\n",
       "26-35              100511\n",
       "36-45               97478\n",
       "46-55               62721\n",
       "56-65               39330\n",
       "66-75               17258\n",
       "Over 75             10260"
      ]
     },
     "execution_count": 42,
     "metadata": {},
     "output_type": "execute_result"
    },
    {
     "data": {
      "image/png": "[encoded data removed]",
      "text/plain": [
       "<Figure size 432x288 with 1 Axes>"
      ]
     },
     "metadata": {
      "needs_background": "light"
     },
     "output_type": "display_data"
    }
   ],
   "source": [
    "df_age = df[['Age_Band_of_Driver','Accident_Index']]\n",
    "df_age = df_age.groupby(['Age_Band_of_Driver']).count()\n",
    "df_age['Age Range']=['6-10','11-15','16-20','21-25','26-35','36-45','46-55','56-65','66-75','Over 75']\n",
    "df_age.set_index('Age Range',inplace = True)\n",
    "df_age.plot(kind='bar')\n",
    "plt.title(\"Number of accidents vs age of driver\")\n",
    "plt.xlabel(\"Age range\")\n",
    "plt.ylabel(\"Number of accidents\")\n",
    "# plt.tight_layout()\n",
    "# plt.savefig('age.png')\n",
    "df_age"
   ]
  },
  {
   "cell_type": "markdown",
   "metadata": {},
   "source": [
    "### Balancing the data"
   ]
  },
  {
   "cell_type": "markdown",
   "metadata": {},
   "source": [
    "From previous charts we can see that the data is not balanced therefore we will do some undersampling of the data that is more abundant to balance it. A sample size will be used accordingly."
   ]
  },
  {
   "cell_type": "code",
   "execution_count": 43,
   "metadata": {},
   "outputs": [],
   "source": [
    "df_f = df.query('Accident_Severity == 1')\n",
    "df_ser = df.query('Accident_Severity == 2')\n",
    "df_sli= df.query('Accident_Severity == 3')"
   ]
  },
  {
   "cell_type": "code",
   "execution_count": 44,
   "metadata": {},
   "outputs": [],
   "source": [
    "# df_f = df_f.sample(n=38)\n",
    "# df_ser = df_ser.sample(n=418)\n",
    "# df_sli = df_sli.sample(n=3344)\n",
    "df_f = df_f.sample(n=3800)\n",
    "df_ser = df_ser.sample(n=3800)\n",
    "df_sli = df_sli.sample(n=3800)"
   ]
  },
  {
   "cell_type": "code",
   "execution_count": 45,
   "metadata": {},
   "outputs": [
    {
     "data": {
      "text/html": [
       "<div>\n",
       "<style scoped>\n",
       "    .dataframe tbody tr th:only-of-type {\n",
       "        vertical-align: middle;\n",
       "    }\n",
       "\n",
       "    .dataframe tbody tr th {\n",
       "        vertical-align: top;\n",
       "    }\n",
       "\n",
       "    .dataframe thead th {\n",
       "        text-align: right;\n",
       "    }\n",
       "</style>\n",
       "<table border=\"1\" class=\"dataframe\">\n",
       "  <thead>\n",
       "    <tr style=\"text-align: right;\">\n",
       "      <th></th>\n",
       "      <th>Accident_Index</th>\n",
       "      <th>Accident_Severity</th>\n",
       "      <th>Number_of_Casualties</th>\n",
       "      <th>Date</th>\n",
       "      <th>Day_of_Week</th>\n",
       "      <th>Time</th>\n",
       "      <th>Road_Type</th>\n",
       "      <th>Speed_limit</th>\n",
       "      <th>Junction_Detail</th>\n",
       "      <th>Junction_Control</th>\n",
       "      <th>...</th>\n",
       "      <th>Weather_Conditions</th>\n",
       "      <th>Road_Surface_Conditions</th>\n",
       "      <th>Special_Conditions_at_Site</th>\n",
       "      <th>Urban_or_Rural_Area</th>\n",
       "      <th>Vehicle_Type</th>\n",
       "      <th>Sex_of_Driver</th>\n",
       "      <th>Age_of_Driver</th>\n",
       "      <th>Age_Band_of_Driver</th>\n",
       "      <th>Age_of_Vehicle</th>\n",
       "      <th>Year</th>\n",
       "    </tr>\n",
       "  </thead>\n",
       "  <tbody>\n",
       "    <tr>\n",
       "      <th>71572</th>\n",
       "      <td>200506A030424</td>\n",
       "      <td>1</td>\n",
       "      <td>1</td>\n",
       "      <td>2005-07-16</td>\n",
       "      <td>7</td>\n",
       "      <td>14:50</td>\n",
       "      <td>6</td>\n",
       "      <td>30</td>\n",
       "      <td>6</td>\n",
       "      <td>4</td>\n",
       "      <td>...</td>\n",
       "      <td>1</td>\n",
       "      <td>1</td>\n",
       "      <td>0</td>\n",
       "      <td>1</td>\n",
       "      <td>9</td>\n",
       "      <td>1</td>\n",
       "      <td>47</td>\n",
       "      <td>8</td>\n",
       "      <td>2</td>\n",
       "      <td>2005</td>\n",
       "    </tr>\n",
       "    <tr>\n",
       "      <th>1038813</th>\n",
       "      <td>2007960701428</td>\n",
       "      <td>1</td>\n",
       "      <td>1</td>\n",
       "      <td>2007-05-24</td>\n",
       "      <td>5</td>\n",
       "      <td>13:40</td>\n",
       "      <td>3</td>\n",
       "      <td>30</td>\n",
       "      <td>6</td>\n",
       "      <td>2</td>\n",
       "      <td>...</td>\n",
       "      <td>1</td>\n",
       "      <td>1</td>\n",
       "      <td>0</td>\n",
       "      <td>1</td>\n",
       "      <td>9</td>\n",
       "      <td>1</td>\n",
       "      <td>51</td>\n",
       "      <td>8</td>\n",
       "      <td>10</td>\n",
       "      <td>2007</td>\n",
       "    </tr>\n",
       "    <tr>\n",
       "      <th>501992</th>\n",
       "      <td>200620E049903</td>\n",
       "      <td>1</td>\n",
       "      <td>1</td>\n",
       "      <td>2006-03-30</td>\n",
       "      <td>5</td>\n",
       "      <td>19:25</td>\n",
       "      <td>6</td>\n",
       "      <td>30</td>\n",
       "      <td>3</td>\n",
       "      <td>4</td>\n",
       "      <td>...</td>\n",
       "      <td>1</td>\n",
       "      <td>1</td>\n",
       "      <td>0</td>\n",
       "      <td>1</td>\n",
       "      <td>9</td>\n",
       "      <td>1</td>\n",
       "      <td>44</td>\n",
       "      <td>7</td>\n",
       "      <td>1</td>\n",
       "      <td>2006</td>\n",
       "    </tr>\n",
       "    <tr>\n",
       "      <th>785816</th>\n",
       "      <td>200706M080667</td>\n",
       "      <td>1</td>\n",
       "      <td>1</td>\n",
       "      <td>2007-06-10</td>\n",
       "      <td>7</td>\n",
       "      <td>15:16</td>\n",
       "      <td>3</td>\n",
       "      <td>30</td>\n",
       "      <td>3</td>\n",
       "      <td>2</td>\n",
       "      <td>...</td>\n",
       "      <td>1</td>\n",
       "      <td>1</td>\n",
       "      <td>0</td>\n",
       "      <td>1</td>\n",
       "      <td>19</td>\n",
       "      <td>1</td>\n",
       "      <td>27</td>\n",
       "      <td>6</td>\n",
       "      <td>5</td>\n",
       "      <td>2007</td>\n",
       "    </tr>\n",
       "    <tr>\n",
       "      <th>238665</th>\n",
       "      <td>200542G095812</td>\n",
       "      <td>1</td>\n",
       "      <td>2</td>\n",
       "      <td>2005-10-12</td>\n",
       "      <td>7</td>\n",
       "      <td>20:33</td>\n",
       "      <td>3</td>\n",
       "      <td>70</td>\n",
       "      <td>0</td>\n",
       "      <td>0</td>\n",
       "      <td>...</td>\n",
       "      <td>1</td>\n",
       "      <td>1</td>\n",
       "      <td>0</td>\n",
       "      <td>2</td>\n",
       "      <td>9</td>\n",
       "      <td>1</td>\n",
       "      <td>46</td>\n",
       "      <td>8</td>\n",
       "      <td>5</td>\n",
       "      <td>2005</td>\n",
       "    </tr>\n",
       "  </tbody>\n",
       "</table>\n",
       "<p>5 rows × 21 columns</p>\n",
       "</div>"
      ],
      "text/plain": [
       "        Accident_Index  Accident_Severity  Number_of_Casualties       Date  \\\n",
       "71572    200506A030424                  1                     1 2005-07-16   \n",
       "1038813  2007960701428                  1                     1 2007-05-24   \n",
       "501992   200620E049903                  1                     1 2006-03-30   \n",
       "785816   200706M080667                  1                     1 2007-06-10   \n",
       "238665   200542G095812                  1                     2 2005-10-12   \n",
       "\n",
       "         Day_of_Week   Time  Road_Type  Speed_limit  Junction_Detail  \\\n",
       "71572              7  14:50          6           30                6   \n",
       "1038813            5  13:40          3           30                6   \n",
       "501992             5  19:25          6           30                3   \n",
       "785816             7  15:16          3           30                3   \n",
       "238665             7  20:33          3           70                0   \n",
       "\n",
       "         Junction_Control  ...  Weather_Conditions  Road_Surface_Conditions  \\\n",
       "71572                   4  ...                   1                        1   \n",
       "1038813                 2  ...                   1                        1   \n",
       "501992                  4  ...                   1                        1   \n",
       "785816                  2  ...                   1                        1   \n",
       "238665                  0  ...                   1                        1   \n",
       "\n",
       "         Special_Conditions_at_Site  Urban_or_Rural_Area  Vehicle_Type  \\\n",
       "71572                             0                    1             9   \n",
       "1038813                           0                    1             9   \n",
       "501992                            0                    1             9   \n",
       "785816                            0                    1            19   \n",
       "238665                            0                    2             9   \n",
       "\n",
       "         Sex_of_Driver  Age_of_Driver  Age_Band_of_Driver  Age_of_Vehicle  \\\n",
       "71572                1             47                   8               2   \n",
       "1038813              1             51                   8              10   \n",
       "501992               1             44                   7               1   \n",
       "785816               1             27                   6               5   \n",
       "238665               1             46                   8               5   \n",
       "\n",
       "         Year  \n",
       "71572    2005  \n",
       "1038813  2007  \n",
       "501992   2006  \n",
       "785816   2007  \n",
       "238665   2005  \n",
       "\n",
       "[5 rows x 21 columns]"
      ]
     },
     "execution_count": 45,
     "metadata": {},
     "output_type": "execute_result"
    }
   ],
   "source": [
    "frames = [df_f, df_ser, df_sli]\n",
    "df = pd.concat(frames)\n",
    "df.head()"
   ]
  },
  {
   "cell_type": "code",
   "execution_count": 46,
   "metadata": {},
   "outputs": [
    {
     "data": {
      "text/html": [
       "<div>\n",
       "<style scoped>\n",
       "    .dataframe tbody tr th:only-of-type {\n",
       "        vertical-align: middle;\n",
       "    }\n",
       "\n",
       "    .dataframe tbody tr th {\n",
       "        vertical-align: top;\n",
       "    }\n",
       "\n",
       "    .dataframe thead th {\n",
       "        text-align: right;\n",
       "    }\n",
       "</style>\n",
       "<table border=\"1\" class=\"dataframe\">\n",
       "  <thead>\n",
       "    <tr style=\"text-align: right;\">\n",
       "      <th></th>\n",
       "      <th>Accident_Index</th>\n",
       "    </tr>\n",
       "    <tr>\n",
       "      <th>Severity</th>\n",
       "      <th></th>\n",
       "    </tr>\n",
       "  </thead>\n",
       "  <tbody>\n",
       "    <tr>\n",
       "      <th>Fatal</th>\n",
       "      <td>3800</td>\n",
       "    </tr>\n",
       "    <tr>\n",
       "      <th>Serious</th>\n",
       "      <td>3800</td>\n",
       "    </tr>\n",
       "    <tr>\n",
       "      <th>Slight</th>\n",
       "      <td>3800</td>\n",
       "    </tr>\n",
       "  </tbody>\n",
       "</table>\n",
       "</div>"
      ],
      "text/plain": [
       "          Accident_Index\n",
       "Severity                \n",
       "Fatal               3800\n",
       "Serious             3800\n",
       "Slight              3800"
      ]
     },
     "execution_count": 46,
     "metadata": {},
     "output_type": "execute_result"
    },
    {
     "data": {
      "image/png": "[encoded data removed]",
      "text/plain": [
       "<Figure size 432x288 with 1 Axes>"
      ]
     },
     "metadata": {
      "needs_background": "light"
     },
     "output_type": "display_data"
    }
   ],
   "source": [
    "df_distribution = df[['Accident_Severity','Accident_Index']]\n",
    "df_distribution = df_distribution.groupby(['Accident_Severity']).count()\n",
    "\n",
    "df_distribution['Severity'] = ['Fatal','Serious','Slight']\n",
    "df_distribution.set_index('Severity',inplace= True)\n",
    "df_distribution.plot(kind='bar')\n",
    "plt.title(\"Distribution of severity label\")\n",
    "plt.ylabel(\"Number of accidents\")\n",
    "plt.xlabel(\"Severity\")\n",
    "df_distribution"
   ]
  },
  {
   "cell_type": "markdown",
   "metadata": {},
   "source": [
    "### Convert Numerical features to categorical values"
   ]
  },
  {
   "cell_type": "code",
   "execution_count": 47,
   "metadata": {},
   "outputs": [
    {
     "data": {
      "text/html": [
       "<div>\n",
       "<style scoped>\n",
       "    .dataframe tbody tr th:only-of-type {\n",
       "        vertical-align: middle;\n",
       "    }\n",
       "\n",
       "    .dataframe tbody tr th {\n",
       "        vertical-align: top;\n",
       "    }\n",
       "\n",
       "    .dataframe thead th {\n",
       "        text-align: right;\n",
       "    }\n",
       "</style>\n",
       "<table border=\"1\" class=\"dataframe\">\n",
       "  <thead>\n",
       "    <tr style=\"text-align: right;\">\n",
       "      <th></th>\n",
       "      <th>Accident_Index</th>\n",
       "      <th>Accident_Severity</th>\n",
       "      <th>Number_of_Casualties</th>\n",
       "      <th>Date</th>\n",
       "      <th>Day_of_Week</th>\n",
       "      <th>Time</th>\n",
       "      <th>Road_Type</th>\n",
       "      <th>Speed_limit</th>\n",
       "      <th>Junction_Detail</th>\n",
       "      <th>Junction_Control</th>\n",
       "      <th>...</th>\n",
       "      <th>Weather_Conditions</th>\n",
       "      <th>Road_Surface_Conditions</th>\n",
       "      <th>Special_Conditions_at_Site</th>\n",
       "      <th>Urban_or_Rural_Area</th>\n",
       "      <th>Vehicle_Type</th>\n",
       "      <th>Sex_of_Driver</th>\n",
       "      <th>Age_of_Driver</th>\n",
       "      <th>Age_Band_of_Driver</th>\n",
       "      <th>Age_of_Vehicle</th>\n",
       "      <th>Year</th>\n",
       "    </tr>\n",
       "  </thead>\n",
       "  <tbody>\n",
       "    <tr>\n",
       "      <th>71572</th>\n",
       "      <td>200506A030424</td>\n",
       "      <td>1</td>\n",
       "      <td>1</td>\n",
       "      <td>2005-07-16</td>\n",
       "      <td>7</td>\n",
       "      <td>14:50</td>\n",
       "      <td>6</td>\n",
       "      <td>30</td>\n",
       "      <td>6</td>\n",
       "      <td>4</td>\n",
       "      <td>...</td>\n",
       "      <td>1</td>\n",
       "      <td>1</td>\n",
       "      <td>0</td>\n",
       "      <td>1</td>\n",
       "      <td>9</td>\n",
       "      <td>1</td>\n",
       "      <td>47</td>\n",
       "      <td>8</td>\n",
       "      <td>2</td>\n",
       "      <td>2005</td>\n",
       "    </tr>\n",
       "    <tr>\n",
       "      <th>1038813</th>\n",
       "      <td>2007960701428</td>\n",
       "      <td>1</td>\n",
       "      <td>1</td>\n",
       "      <td>2007-05-24</td>\n",
       "      <td>5</td>\n",
       "      <td>13:40</td>\n",
       "      <td>3</td>\n",
       "      <td>30</td>\n",
       "      <td>6</td>\n",
       "      <td>2</td>\n",
       "      <td>...</td>\n",
       "      <td>1</td>\n",
       "      <td>1</td>\n",
       "      <td>0</td>\n",
       "      <td>1</td>\n",
       "      <td>9</td>\n",
       "      <td>1</td>\n",
       "      <td>51</td>\n",
       "      <td>8</td>\n",
       "      <td>10</td>\n",
       "      <td>2007</td>\n",
       "    </tr>\n",
       "    <tr>\n",
       "      <th>501992</th>\n",
       "      <td>200620E049903</td>\n",
       "      <td>1</td>\n",
       "      <td>1</td>\n",
       "      <td>2006-03-30</td>\n",
       "      <td>5</td>\n",
       "      <td>19:25</td>\n",
       "      <td>6</td>\n",
       "      <td>30</td>\n",
       "      <td>3</td>\n",
       "      <td>4</td>\n",
       "      <td>...</td>\n",
       "      <td>1</td>\n",
       "      <td>1</td>\n",
       "      <td>0</td>\n",
       "      <td>1</td>\n",
       "      <td>9</td>\n",
       "      <td>1</td>\n",
       "      <td>44</td>\n",
       "      <td>7</td>\n",
       "      <td>1</td>\n",
       "      <td>2006</td>\n",
       "    </tr>\n",
       "    <tr>\n",
       "      <th>785816</th>\n",
       "      <td>200706M080667</td>\n",
       "      <td>1</td>\n",
       "      <td>1</td>\n",
       "      <td>2007-06-10</td>\n",
       "      <td>7</td>\n",
       "      <td>15:16</td>\n",
       "      <td>3</td>\n",
       "      <td>30</td>\n",
       "      <td>3</td>\n",
       "      <td>2</td>\n",
       "      <td>...</td>\n",
       "      <td>1</td>\n",
       "      <td>1</td>\n",
       "      <td>0</td>\n",
       "      <td>1</td>\n",
       "      <td>19</td>\n",
       "      <td>1</td>\n",
       "      <td>27</td>\n",
       "      <td>6</td>\n",
       "      <td>5</td>\n",
       "      <td>2007</td>\n",
       "    </tr>\n",
       "    <tr>\n",
       "      <th>238665</th>\n",
       "      <td>200542G095812</td>\n",
       "      <td>1</td>\n",
       "      <td>2</td>\n",
       "      <td>2005-10-12</td>\n",
       "      <td>7</td>\n",
       "      <td>20:33</td>\n",
       "      <td>3</td>\n",
       "      <td>70</td>\n",
       "      <td>0</td>\n",
       "      <td>0</td>\n",
       "      <td>...</td>\n",
       "      <td>1</td>\n",
       "      <td>1</td>\n",
       "      <td>0</td>\n",
       "      <td>2</td>\n",
       "      <td>9</td>\n",
       "      <td>1</td>\n",
       "      <td>46</td>\n",
       "      <td>8</td>\n",
       "      <td>5</td>\n",
       "      <td>2005</td>\n",
       "    </tr>\n",
       "  </tbody>\n",
       "</table>\n",
       "<p>5 rows × 21 columns</p>\n",
       "</div>"
      ],
      "text/plain": [
       "        Accident_Index  Accident_Severity  Number_of_Casualties       Date  \\\n",
       "71572    200506A030424                  1                     1 2005-07-16   \n",
       "1038813  2007960701428                  1                     1 2007-05-24   \n",
       "501992   200620E049903                  1                     1 2006-03-30   \n",
       "785816   200706M080667                  1                     1 2007-06-10   \n",
       "238665   200542G095812                  1                     2 2005-10-12   \n",
       "\n",
       "         Day_of_Week   Time  Road_Type  Speed_limit  Junction_Detail  \\\n",
       "71572              7  14:50          6           30                6   \n",
       "1038813            5  13:40          3           30                6   \n",
       "501992             5  19:25          6           30                3   \n",
       "785816             7  15:16          3           30                3   \n",
       "238665             7  20:33          3           70                0   \n",
       "\n",
       "         Junction_Control  ...  Weather_Conditions  Road_Surface_Conditions  \\\n",
       "71572                   4  ...                   1                        1   \n",
       "1038813                 2  ...                   1                        1   \n",
       "501992                  4  ...                   1                        1   \n",
       "785816                  2  ...                   1                        1   \n",
       "238665                  0  ...                   1                        1   \n",
       "\n",
       "         Special_Conditions_at_Site  Urban_or_Rural_Area  Vehicle_Type  \\\n",
       "71572                             0                    1             9   \n",
       "1038813                           0                    1             9   \n",
       "501992                            0                    1             9   \n",
       "785816                            0                    1            19   \n",
       "238665                            0                    2             9   \n",
       "\n",
       "         Sex_of_Driver  Age_of_Driver  Age_Band_of_Driver  Age_of_Vehicle  \\\n",
       "71572                1             47                   8               2   \n",
       "1038813              1             51                   8              10   \n",
       "501992               1             44                   7               1   \n",
       "785816               1             27                   6               5   \n",
       "238665               1             46                   8               5   \n",
       "\n",
       "         Year  \n",
       "71572    2005  \n",
       "1038813  2007  \n",
       "501992   2006  \n",
       "785816   2007  \n",
       "238665   2005  \n",
       "\n",
       "[5 rows x 21 columns]"
      ]
     },
     "execution_count": 47,
     "metadata": {},
     "output_type": "execute_result"
    }
   ],
   "source": [
    "df['Sex_of_Driver'].replace(to_replace=[1,2], value=[1,0],inplace=True)\n",
    "df.head()"
   ]
  },
  {
   "cell_type": "code",
   "execution_count": 48,
   "metadata": {},
   "outputs": [],
   "source": [
    "### ROAD CONDITION\n",
    "roadtype = ['Roundabout','One-way street','Dual carriageway','Single carriageway','Slip Road','Unknown','One-way street']\n",
    "values_roadtype = [1,2,3,6,7,9,12]\n",
    "df['Road_Type'].replace(to_replace=values_roadtype, value=roadtype,inplace=True)\n",
    "\n",
    "### COLUMNS TO DROP\n",
    "to_drop = ['Accident_Index','Junction_Detail','Special_Conditions_at_Site','Urban_or_Rural_Area','Age_of_Driver','Age_of_Vehicle','Year','Vehicle_Type']\n",
    "df.drop(columns=to_drop, inplace = True)\n",
    "\n",
    "### JUNCTION CONTROL\n",
    "junctionc = ['Not a junction','Authorised person','Auto traffic signal','Stop sign','Uncontrolled']\n",
    "values_junctionc = [0,1,2,3,4]\n",
    "df['Junction_Control'].replace(to_replace=values_junctionc, value=junctionc,inplace=True)\n",
    "\n",
    "### LIGHT CONDITIONS\n",
    "lightc = ['Daylight','Darkness (lit)','Darkness (unlit)','Darkness (No lighting)','Darkness (Unknown)']\n",
    "values_lightc = [1,4,5,6,7]\n",
    "df['Light_Conditions'].replace(to_replace=values_lightc, value=lightc,inplace=True)\n",
    "\n",
    "### WEATHER CONDITIONS\n",
    "weatherc = ['Fine','Raning','Snowing','Fine + High Winds','Raining + High Winds','Snowing + High Winds','Fog or mist','Other','Unknown']\n",
    "values_weatherc= [1,2,3,4,5,6,7,8,9]\n",
    "df['Weather_Conditions'].replace(to_replace=values_weatherc, value=weatherc,inplace=True)\n",
    "\n",
    "### ROAD SURFACE CONDTIONS\n",
    "roadsc = ['Dry','Wet or damp','Snow','Frost or ice','Flood over 3 cm','Oil or diesel','Mud']\n",
    "values_roadsc = [1,2,3,4,5,6,7]\n",
    "df['Road_Surface_Conditions'].replace(to_replace=values_roadsc, value=roadsc,inplace=True)"
   ]
  },
  {
   "cell_type": "markdown",
   "metadata": {},
   "source": [
    "### Get dummy variables"
   ]
  },
  {
   "cell_type": "code",
   "execution_count": 49,
   "metadata": {},
   "outputs": [
    {
     "data": {
      "text/plain": [
       "71572      14\n",
       "1038813    13\n",
       "501992     19\n",
       "785816     15\n",
       "238665     20\n",
       "Name: Time, dtype: int64"
      ]
     },
     "execution_count": 49,
     "metadata": {},
     "output_type": "execute_result"
    }
   ],
   "source": [
    "df['Date'] = df['Date'].map(dt.datetime.toordinal)\n",
    "df['Time'] = pd.to_datetime(df['Time'],format = '%H:%M')\n",
    "df['Time'] = df['Time'].dt.hour\n",
    "#df['Date'] = df['Date'].map(dt.datetime.toordinal)\n",
    "#df['Time'] = (df['Time'].time.hour * 60 + df['Time'].time.minute) * 60\n",
    "df['Time'].head()\n",
    "#df['Time'] = df['Time'].map(dt.datetime.toordinal)\n",
    "# for row in df['Time']:\n",
    "#     if row == '12:01':\n",
    "#         print(df.Time.to_string(index=False))\n",
    "#df.dtypes"
   ]
  },
  {
   "cell_type": "code",
   "execution_count": 50,
   "metadata": {},
   "outputs": [
    {
     "data": {
      "text/html": [
       "<div>\n",
       "<style scoped>\n",
       "    .dataframe tbody tr th:only-of-type {\n",
       "        vertical-align: middle;\n",
       "    }\n",
       "\n",
       "    .dataframe tbody tr th {\n",
       "        vertical-align: top;\n",
       "    }\n",
       "\n",
       "    .dataframe thead th {\n",
       "        text-align: right;\n",
       "    }\n",
       "</style>\n",
       "<table border=\"1\" class=\"dataframe\">\n",
       "  <thead>\n",
       "    <tr style=\"text-align: right;\">\n",
       "      <th></th>\n",
       "      <th>Accident_Severity</th>\n",
       "      <th>Number_of_Casualties</th>\n",
       "      <th>Date</th>\n",
       "      <th>Day_of_Week</th>\n",
       "      <th>Time</th>\n",
       "      <th>Speed_limit</th>\n",
       "      <th>Sex_of_Driver</th>\n",
       "      <th>Age_Band_of_Driver</th>\n",
       "      <th>Road_Type_Dual carriageway</th>\n",
       "      <th>Road_Type_One-way street</th>\n",
       "      <th>...</th>\n",
       "      <th>Weather_Conditions_Raining + High Winds</th>\n",
       "      <th>Weather_Conditions_Raning</th>\n",
       "      <th>Weather_Conditions_Snowing</th>\n",
       "      <th>Weather_Conditions_Snowing + High Winds</th>\n",
       "      <th>Weather_Conditions_Unknown</th>\n",
       "      <th>Road_Surface_Conditions_Dry</th>\n",
       "      <th>Road_Surface_Conditions_Flood over 3 cm</th>\n",
       "      <th>Road_Surface_Conditions_Frost or ice</th>\n",
       "      <th>Road_Surface_Conditions_Snow</th>\n",
       "      <th>Road_Surface_Conditions_Wet or damp</th>\n",
       "    </tr>\n",
       "  </thead>\n",
       "  <tbody>\n",
       "    <tr>\n",
       "      <th>71572</th>\n",
       "      <td>1</td>\n",
       "      <td>1</td>\n",
       "      <td>732143</td>\n",
       "      <td>7</td>\n",
       "      <td>14</td>\n",
       "      <td>30</td>\n",
       "      <td>1</td>\n",
       "      <td>8</td>\n",
       "      <td>0</td>\n",
       "      <td>0</td>\n",
       "      <td>...</td>\n",
       "      <td>0</td>\n",
       "      <td>0</td>\n",
       "      <td>0</td>\n",
       "      <td>0</td>\n",
       "      <td>0</td>\n",
       "      <td>1</td>\n",
       "      <td>0</td>\n",
       "      <td>0</td>\n",
       "      <td>0</td>\n",
       "      <td>0</td>\n",
       "    </tr>\n",
       "    <tr>\n",
       "      <th>1038813</th>\n",
       "      <td>1</td>\n",
       "      <td>1</td>\n",
       "      <td>732820</td>\n",
       "      <td>5</td>\n",
       "      <td>13</td>\n",
       "      <td>30</td>\n",
       "      <td>1</td>\n",
       "      <td>8</td>\n",
       "      <td>1</td>\n",
       "      <td>0</td>\n",
       "      <td>...</td>\n",
       "      <td>0</td>\n",
       "      <td>0</td>\n",
       "      <td>0</td>\n",
       "      <td>0</td>\n",
       "      <td>0</td>\n",
       "      <td>1</td>\n",
       "      <td>0</td>\n",
       "      <td>0</td>\n",
       "      <td>0</td>\n",
       "      <td>0</td>\n",
       "    </tr>\n",
       "    <tr>\n",
       "      <th>501992</th>\n",
       "      <td>1</td>\n",
       "      <td>1</td>\n",
       "      <td>732400</td>\n",
       "      <td>5</td>\n",
       "      <td>19</td>\n",
       "      <td>30</td>\n",
       "      <td>1</td>\n",
       "      <td>7</td>\n",
       "      <td>0</td>\n",
       "      <td>0</td>\n",
       "      <td>...</td>\n",
       "      <td>0</td>\n",
       "      <td>0</td>\n",
       "      <td>0</td>\n",
       "      <td>0</td>\n",
       "      <td>0</td>\n",
       "      <td>1</td>\n",
       "      <td>0</td>\n",
       "      <td>0</td>\n",
       "      <td>0</td>\n",
       "      <td>0</td>\n",
       "    </tr>\n",
       "    <tr>\n",
       "      <th>785816</th>\n",
       "      <td>1</td>\n",
       "      <td>1</td>\n",
       "      <td>732837</td>\n",
       "      <td>7</td>\n",
       "      <td>15</td>\n",
       "      <td>30</td>\n",
       "      <td>1</td>\n",
       "      <td>6</td>\n",
       "      <td>1</td>\n",
       "      <td>0</td>\n",
       "      <td>...</td>\n",
       "      <td>0</td>\n",
       "      <td>0</td>\n",
       "      <td>0</td>\n",
       "      <td>0</td>\n",
       "      <td>0</td>\n",
       "      <td>1</td>\n",
       "      <td>0</td>\n",
       "      <td>0</td>\n",
       "      <td>0</td>\n",
       "      <td>0</td>\n",
       "    </tr>\n",
       "    <tr>\n",
       "      <th>238665</th>\n",
       "      <td>1</td>\n",
       "      <td>2</td>\n",
       "      <td>732231</td>\n",
       "      <td>7</td>\n",
       "      <td>20</td>\n",
       "      <td>70</td>\n",
       "      <td>1</td>\n",
       "      <td>8</td>\n",
       "      <td>1</td>\n",
       "      <td>0</td>\n",
       "      <td>...</td>\n",
       "      <td>0</td>\n",
       "      <td>0</td>\n",
       "      <td>0</td>\n",
       "      <td>0</td>\n",
       "      <td>0</td>\n",
       "      <td>1</td>\n",
       "      <td>0</td>\n",
       "      <td>0</td>\n",
       "      <td>0</td>\n",
       "      <td>0</td>\n",
       "    </tr>\n",
       "  </tbody>\n",
       "</table>\n",
       "<p>5 rows × 38 columns</p>\n",
       "</div>"
      ],
      "text/plain": [
       "         Accident_Severity  Number_of_Casualties    Date  Day_of_Week  Time  \\\n",
       "71572                    1                     1  732143            7    14   \n",
       "1038813                  1                     1  732820            5    13   \n",
       "501992                   1                     1  732400            5    19   \n",
       "785816                   1                     1  732837            7    15   \n",
       "238665                   1                     2  732231            7    20   \n",
       "\n",
       "         Speed_limit  Sex_of_Driver  Age_Band_of_Driver  \\\n",
       "71572             30              1                   8   \n",
       "1038813           30              1                   8   \n",
       "501992            30              1                   7   \n",
       "785816            30              1                   6   \n",
       "238665            70              1                   8   \n",
       "\n",
       "         Road_Type_Dual carriageway  Road_Type_One-way street  ...  \\\n",
       "71572                             0                         0  ...   \n",
       "1038813                           1                         0  ...   \n",
       "501992                            0                         0  ...   \n",
       "785816                            1                         0  ...   \n",
       "238665                            1                         0  ...   \n",
       "\n",
       "         Weather_Conditions_Raining + High Winds  Weather_Conditions_Raning  \\\n",
       "71572                                          0                          0   \n",
       "1038813                                        0                          0   \n",
       "501992                                         0                          0   \n",
       "785816                                         0                          0   \n",
       "238665                                         0                          0   \n",
       "\n",
       "         Weather_Conditions_Snowing  Weather_Conditions_Snowing + High Winds  \\\n",
       "71572                             0                                        0   \n",
       "1038813                           0                                        0   \n",
       "501992                            0                                        0   \n",
       "785816                            0                                        0   \n",
       "238665                            0                                        0   \n",
       "\n",
       "         Weather_Conditions_Unknown  Road_Surface_Conditions_Dry  \\\n",
       "71572                             0                            1   \n",
       "1038813                           0                            1   \n",
       "501992                            0                            1   \n",
       "785816                            0                            1   \n",
       "238665                            0                            1   \n",
       "\n",
       "         Road_Surface_Conditions_Flood over 3 cm  \\\n",
       "71572                                          0   \n",
       "1038813                                        0   \n",
       "501992                                         0   \n",
       "785816                                         0   \n",
       "238665                                         0   \n",
       "\n",
       "         Road_Surface_Conditions_Frost or ice  Road_Surface_Conditions_Snow  \\\n",
       "71572                                       0                             0   \n",
       "1038813                                     0                             0   \n",
       "501992                                      0                             0   \n",
       "785816                                      0                             0   \n",
       "238665                                      0                             0   \n",
       "\n",
       "         Road_Surface_Conditions_Wet or damp  \n",
       "71572                                      0  \n",
       "1038813                                    0  \n",
       "501992                                     0  \n",
       "785816                                     0  \n",
       "238665                                     0  \n",
       "\n",
       "[5 rows x 38 columns]"
      ]
     },
     "execution_count": 50,
     "metadata": {},
     "output_type": "execute_result"
    }
   ],
   "source": [
    "dummies_required = ['Road_Type','Junction_Control','Light_Conditions','Weather_Conditions','Road_Surface_Conditions']\n",
    "#df_features = df['Accident_Severity']\n",
    "df = pd.concat([df,pd.get_dummies(df[dummies_required])],axis=1)\n",
    "df.drop(dummies_required,axis=1,inplace=True)\n",
    "df.head()"
   ]
  },
  {
   "cell_type": "code",
   "execution_count": 51,
   "metadata": {},
   "outputs": [
    {
     "name": "stdout",
     "output_type": "stream",
     "text": [
      "Accident_Severity\n",
      "Number_of_Casualties\n",
      "Date\n",
      "Day_of_Week\n",
      "Time\n",
      "Speed_limit\n",
      "Sex_of_Driver\n",
      "Age_Band_of_Driver\n",
      "Road_Type_Dual carriageway\n",
      "Road_Type_One-way street\n",
      "Road_Type_Roundabout\n",
      "Road_Type_Single carriageway\n",
      "Road_Type_Slip Road\n",
      "Road_Type_Unknown\n",
      "Junction_Control_Authorised person\n",
      "Junction_Control_Auto traffic signal\n",
      "Junction_Control_Not a junction\n",
      "Junction_Control_Stop sign\n",
      "Junction_Control_Uncontrolled\n",
      "Light_Conditions_Darkness (No lighting)\n",
      "Light_Conditions_Darkness (Unknown)\n",
      "Light_Conditions_Darkness (lit)\n",
      "Light_Conditions_Darkness (unlit)\n",
      "Light_Conditions_Daylight\n",
      "Weather_Conditions_Fine\n",
      "Weather_Conditions_Fine + High Winds\n",
      "Weather_Conditions_Fog or mist\n",
      "Weather_Conditions_Other\n",
      "Weather_Conditions_Raining + High Winds\n",
      "Weather_Conditions_Raning\n",
      "Weather_Conditions_Snowing\n",
      "Weather_Conditions_Snowing + High Winds\n",
      "Weather_Conditions_Unknown\n",
      "Road_Surface_Conditions_Dry\n",
      "Road_Surface_Conditions_Flood over 3 cm\n",
      "Road_Surface_Conditions_Frost or ice\n",
      "Road_Surface_Conditions_Snow\n",
      "Road_Surface_Conditions_Wet or damp\n"
     ]
    }
   ],
   "source": [
    "for col in df.columns:\n",
    "    print(col)\n",
    "#df.head()\n"
   ]
  },
  {
   "cell_type": "code",
   "execution_count": 52,
   "metadata": {},
   "outputs": [
    {
     "data": {
      "text/html": [
       "<div>\n",
       "<style scoped>\n",
       "    .dataframe tbody tr th:only-of-type {\n",
       "        vertical-align: middle;\n",
       "    }\n",
       "\n",
       "    .dataframe tbody tr th {\n",
       "        vertical-align: top;\n",
       "    }\n",
       "\n",
       "    .dataframe thead th {\n",
       "        text-align: right;\n",
       "    }\n",
       "</style>\n",
       "<table border=\"1\" class=\"dataframe\">\n",
       "  <thead>\n",
       "    <tr style=\"text-align: right;\">\n",
       "      <th></th>\n",
       "      <th>Accident_Severity</th>\n",
       "      <th>Number_of_Casualties</th>\n",
       "      <th>Date</th>\n",
       "      <th>Day_of_Week</th>\n",
       "      <th>Time</th>\n",
       "      <th>Speed_limit</th>\n",
       "      <th>Sex_of_Driver</th>\n",
       "      <th>Age_Band_of_Driver</th>\n",
       "      <th>Road_Type_Dual carriageway</th>\n",
       "      <th>Road_Type_One-way street</th>\n",
       "      <th>...</th>\n",
       "      <th>Weather_Conditions_Raining + High Winds</th>\n",
       "      <th>Weather_Conditions_Raning</th>\n",
       "      <th>Weather_Conditions_Snowing</th>\n",
       "      <th>Weather_Conditions_Snowing + High Winds</th>\n",
       "      <th>Weather_Conditions_Unknown</th>\n",
       "      <th>Road_Surface_Conditions_Dry</th>\n",
       "      <th>Road_Surface_Conditions_Flood over 3 cm</th>\n",
       "      <th>Road_Surface_Conditions_Frost or ice</th>\n",
       "      <th>Road_Surface_Conditions_Snow</th>\n",
       "      <th>Road_Surface_Conditions_Wet or damp</th>\n",
       "    </tr>\n",
       "  </thead>\n",
       "  <tbody>\n",
       "    <tr>\n",
       "      <th>1006678</th>\n",
       "      <td>3</td>\n",
       "      <td>1</td>\n",
       "      <td>732693</td>\n",
       "      <td>4</td>\n",
       "      <td>22</td>\n",
       "      <td>50</td>\n",
       "      <td>1</td>\n",
       "      <td>6</td>\n",
       "      <td>1</td>\n",
       "      <td>0</td>\n",
       "      <td>...</td>\n",
       "      <td>0</td>\n",
       "      <td>1</td>\n",
       "      <td>0</td>\n",
       "      <td>0</td>\n",
       "      <td>0</td>\n",
       "      <td>0</td>\n",
       "      <td>0</td>\n",
       "      <td>0</td>\n",
       "      <td>0</td>\n",
       "      <td>1</td>\n",
       "    </tr>\n",
       "    <tr>\n",
       "      <th>923293</th>\n",
       "      <td>3</td>\n",
       "      <td>1</td>\n",
       "      <td>732859</td>\n",
       "      <td>4</td>\n",
       "      <td>8</td>\n",
       "      <td>60</td>\n",
       "      <td>1</td>\n",
       "      <td>6</td>\n",
       "      <td>1</td>\n",
       "      <td>0</td>\n",
       "      <td>...</td>\n",
       "      <td>0</td>\n",
       "      <td>0</td>\n",
       "      <td>0</td>\n",
       "      <td>0</td>\n",
       "      <td>0</td>\n",
       "      <td>1</td>\n",
       "      <td>0</td>\n",
       "      <td>0</td>\n",
       "      <td>0</td>\n",
       "      <td>0</td>\n",
       "    </tr>\n",
       "    <tr>\n",
       "      <th>597661</th>\n",
       "      <td>3</td>\n",
       "      <td>1</td>\n",
       "      <td>732657</td>\n",
       "      <td>3</td>\n",
       "      <td>19</td>\n",
       "      <td>50</td>\n",
       "      <td>0</td>\n",
       "      <td>7</td>\n",
       "      <td>0</td>\n",
       "      <td>0</td>\n",
       "      <td>...</td>\n",
       "      <td>0</td>\n",
       "      <td>0</td>\n",
       "      <td>0</td>\n",
       "      <td>0</td>\n",
       "      <td>0</td>\n",
       "      <td>0</td>\n",
       "      <td>0</td>\n",
       "      <td>0</td>\n",
       "      <td>0</td>\n",
       "      <td>1</td>\n",
       "    </tr>\n",
       "    <tr>\n",
       "      <th>793232</th>\n",
       "      <td>1</td>\n",
       "      <td>1</td>\n",
       "      <td>732999</td>\n",
       "      <td>2</td>\n",
       "      <td>17</td>\n",
       "      <td>40</td>\n",
       "      <td>1</td>\n",
       "      <td>9</td>\n",
       "      <td>0</td>\n",
       "      <td>0</td>\n",
       "      <td>...</td>\n",
       "      <td>0</td>\n",
       "      <td>0</td>\n",
       "      <td>0</td>\n",
       "      <td>0</td>\n",
       "      <td>0</td>\n",
       "      <td>1</td>\n",
       "      <td>0</td>\n",
       "      <td>0</td>\n",
       "      <td>0</td>\n",
       "      <td>0</td>\n",
       "    </tr>\n",
       "    <tr>\n",
       "      <th>993901</th>\n",
       "      <td>2</td>\n",
       "      <td>1</td>\n",
       "      <td>732811</td>\n",
       "      <td>3</td>\n",
       "      <td>16</td>\n",
       "      <td>60</td>\n",
       "      <td>1</td>\n",
       "      <td>9</td>\n",
       "      <td>0</td>\n",
       "      <td>0</td>\n",
       "      <td>...</td>\n",
       "      <td>0</td>\n",
       "      <td>0</td>\n",
       "      <td>0</td>\n",
       "      <td>0</td>\n",
       "      <td>0</td>\n",
       "      <td>1</td>\n",
       "      <td>0</td>\n",
       "      <td>0</td>\n",
       "      <td>0</td>\n",
       "      <td>0</td>\n",
       "    </tr>\n",
       "    <tr>\n",
       "      <th>...</th>\n",
       "      <td>...</td>\n",
       "      <td>...</td>\n",
       "      <td>...</td>\n",
       "      <td>...</td>\n",
       "      <td>...</td>\n",
       "      <td>...</td>\n",
       "      <td>...</td>\n",
       "      <td>...</td>\n",
       "      <td>...</td>\n",
       "      <td>...</td>\n",
       "      <td>...</td>\n",
       "      <td>...</td>\n",
       "      <td>...</td>\n",
       "      <td>...</td>\n",
       "      <td>...</td>\n",
       "      <td>...</td>\n",
       "      <td>...</td>\n",
       "      <td>...</td>\n",
       "      <td>...</td>\n",
       "      <td>...</td>\n",
       "      <td>...</td>\n",
       "    </tr>\n",
       "    <tr>\n",
       "      <th>156603</th>\n",
       "      <td>2</td>\n",
       "      <td>1</td>\n",
       "      <td>732029</td>\n",
       "      <td>5</td>\n",
       "      <td>8</td>\n",
       "      <td>40</td>\n",
       "      <td>1</td>\n",
       "      <td>6</td>\n",
       "      <td>1</td>\n",
       "      <td>0</td>\n",
       "      <td>...</td>\n",
       "      <td>0</td>\n",
       "      <td>0</td>\n",
       "      <td>0</td>\n",
       "      <td>0</td>\n",
       "      <td>0</td>\n",
       "      <td>1</td>\n",
       "      <td>0</td>\n",
       "      <td>0</td>\n",
       "      <td>0</td>\n",
       "      <td>0</td>\n",
       "    </tr>\n",
       "    <tr>\n",
       "      <th>589511</th>\n",
       "      <td>3</td>\n",
       "      <td>1</td>\n",
       "      <td>732602</td>\n",
       "      <td>4</td>\n",
       "      <td>11</td>\n",
       "      <td>40</td>\n",
       "      <td>1</td>\n",
       "      <td>10</td>\n",
       "      <td>0</td>\n",
       "      <td>0</td>\n",
       "      <td>...</td>\n",
       "      <td>0</td>\n",
       "      <td>0</td>\n",
       "      <td>0</td>\n",
       "      <td>0</td>\n",
       "      <td>0</td>\n",
       "      <td>0</td>\n",
       "      <td>0</td>\n",
       "      <td>0</td>\n",
       "      <td>0</td>\n",
       "      <td>1</td>\n",
       "    </tr>\n",
       "    <tr>\n",
       "      <th>442994</th>\n",
       "      <td>1</td>\n",
       "      <td>1</td>\n",
       "      <td>732409</td>\n",
       "      <td>6</td>\n",
       "      <td>19</td>\n",
       "      <td>60</td>\n",
       "      <td>1</td>\n",
       "      <td>6</td>\n",
       "      <td>0</td>\n",
       "      <td>0</td>\n",
       "      <td>...</td>\n",
       "      <td>0</td>\n",
       "      <td>0</td>\n",
       "      <td>0</td>\n",
       "      <td>0</td>\n",
       "      <td>0</td>\n",
       "      <td>1</td>\n",
       "      <td>0</td>\n",
       "      <td>0</td>\n",
       "      <td>0</td>\n",
       "      <td>0</td>\n",
       "    </tr>\n",
       "    <tr>\n",
       "      <th>987602</th>\n",
       "      <td>1</td>\n",
       "      <td>2</td>\n",
       "      <td>732684</td>\n",
       "      <td>4</td>\n",
       "      <td>7</td>\n",
       "      <td>70</td>\n",
       "      <td>1</td>\n",
       "      <td>7</td>\n",
       "      <td>1</td>\n",
       "      <td>0</td>\n",
       "      <td>...</td>\n",
       "      <td>0</td>\n",
       "      <td>0</td>\n",
       "      <td>0</td>\n",
       "      <td>0</td>\n",
       "      <td>0</td>\n",
       "      <td>1</td>\n",
       "      <td>0</td>\n",
       "      <td>0</td>\n",
       "      <td>0</td>\n",
       "      <td>0</td>\n",
       "    </tr>\n",
       "    <tr>\n",
       "      <th>815966</th>\n",
       "      <td>2</td>\n",
       "      <td>1</td>\n",
       "      <td>732789</td>\n",
       "      <td>2</td>\n",
       "      <td>21</td>\n",
       "      <td>30</td>\n",
       "      <td>0</td>\n",
       "      <td>5</td>\n",
       "      <td>0</td>\n",
       "      <td>0</td>\n",
       "      <td>...</td>\n",
       "      <td>0</td>\n",
       "      <td>0</td>\n",
       "      <td>0</td>\n",
       "      <td>0</td>\n",
       "      <td>0</td>\n",
       "      <td>1</td>\n",
       "      <td>0</td>\n",
       "      <td>0</td>\n",
       "      <td>0</td>\n",
       "      <td>0</td>\n",
       "    </tr>\n",
       "  </tbody>\n",
       "</table>\n",
       "<p>11400 rows × 38 columns</p>\n",
       "</div>"
      ],
      "text/plain": [
       "         Accident_Severity  Number_of_Casualties    Date  Day_of_Week  Time  \\\n",
       "1006678                  3                     1  732693            4    22   \n",
       "923293                   3                     1  732859            4     8   \n",
       "597661                   3                     1  732657            3    19   \n",
       "793232                   1                     1  732999            2    17   \n",
       "993901                   2                     1  732811            3    16   \n",
       "...                    ...                   ...     ...          ...   ...   \n",
       "156603                   2                     1  732029            5     8   \n",
       "589511                   3                     1  732602            4    11   \n",
       "442994                   1                     1  732409            6    19   \n",
       "987602                   1                     2  732684            4     7   \n",
       "815966                   2                     1  732789            2    21   \n",
       "\n",
       "         Speed_limit  Sex_of_Driver  Age_Band_of_Driver  \\\n",
       "1006678           50              1                   6   \n",
       "923293            60              1                   6   \n",
       "597661            50              0                   7   \n",
       "793232            40              1                   9   \n",
       "993901            60              1                   9   \n",
       "...              ...            ...                 ...   \n",
       "156603            40              1                   6   \n",
       "589511            40              1                  10   \n",
       "442994            60              1                   6   \n",
       "987602            70              1                   7   \n",
       "815966            30              0                   5   \n",
       "\n",
       "         Road_Type_Dual carriageway  Road_Type_One-way street  ...  \\\n",
       "1006678                           1                         0  ...   \n",
       "923293                            1                         0  ...   \n",
       "597661                            0                         0  ...   \n",
       "793232                            0                         0  ...   \n",
       "993901                            0                         0  ...   \n",
       "...                             ...                       ...  ...   \n",
       "156603                            1                         0  ...   \n",
       "589511                            0                         0  ...   \n",
       "442994                            0                         0  ...   \n",
       "987602                            1                         0  ...   \n",
       "815966                            0                         0  ...   \n",
       "\n",
       "         Weather_Conditions_Raining + High Winds  Weather_Conditions_Raning  \\\n",
       "1006678                                        0                          1   \n",
       "923293                                         0                          0   \n",
       "597661                                         0                          0   \n",
       "793232                                         0                          0   \n",
       "993901                                         0                          0   \n",
       "...                                          ...                        ...   \n",
       "156603                                         0                          0   \n",
       "589511                                         0                          0   \n",
       "442994                                         0                          0   \n",
       "987602                                         0                          0   \n",
       "815966                                         0                          0   \n",
       "\n",
       "         Weather_Conditions_Snowing  Weather_Conditions_Snowing + High Winds  \\\n",
       "1006678                           0                                        0   \n",
       "923293                            0                                        0   \n",
       "597661                            0                                        0   \n",
       "793232                            0                                        0   \n",
       "993901                            0                                        0   \n",
       "...                             ...                                      ...   \n",
       "156603                            0                                        0   \n",
       "589511                            0                                        0   \n",
       "442994                            0                                        0   \n",
       "987602                            0                                        0   \n",
       "815966                            0                                        0   \n",
       "\n",
       "         Weather_Conditions_Unknown  Road_Surface_Conditions_Dry  \\\n",
       "1006678                           0                            0   \n",
       "923293                            0                            1   \n",
       "597661                            0                            0   \n",
       "793232                            0                            1   \n",
       "993901                            0                            1   \n",
       "...                             ...                          ...   \n",
       "156603                            0                            1   \n",
       "589511                            0                            0   \n",
       "442994                            0                            1   \n",
       "987602                            0                            1   \n",
       "815966                            0                            1   \n",
       "\n",
       "         Road_Surface_Conditions_Flood over 3 cm  \\\n",
       "1006678                                        0   \n",
       "923293                                         0   \n",
       "597661                                         0   \n",
       "793232                                         0   \n",
       "993901                                         0   \n",
       "...                                          ...   \n",
       "156603                                         0   \n",
       "589511                                         0   \n",
       "442994                                         0   \n",
       "987602                                         0   \n",
       "815966                                         0   \n",
       "\n",
       "         Road_Surface_Conditions_Frost or ice  Road_Surface_Conditions_Snow  \\\n",
       "1006678                                     0                             0   \n",
       "923293                                      0                             0   \n",
       "597661                                      0                             0   \n",
       "793232                                      0                             0   \n",
       "993901                                      0                             0   \n",
       "...                                       ...                           ...   \n",
       "156603                                      0                             0   \n",
       "589511                                      0                             0   \n",
       "442994                                      0                             0   \n",
       "987602                                      0                             0   \n",
       "815966                                      0                             0   \n",
       "\n",
       "         Road_Surface_Conditions_Wet or damp  \n",
       "1006678                                    1  \n",
       "923293                                     0  \n",
       "597661                                     1  \n",
       "793232                                     0  \n",
       "993901                                     0  \n",
       "...                                      ...  \n",
       "156603                                     0  \n",
       "589511                                     1  \n",
       "442994                                     0  \n",
       "987602                                     0  \n",
       "815966                                     0  \n",
       "\n",
       "[11400 rows x 38 columns]"
      ]
     },
     "execution_count": 52,
     "metadata": {},
     "output_type": "execute_result"
    }
   ],
   "source": [
    "### SHUFFLE\n",
    "df.sample(frac=1)"
   ]
  },
  {
   "cell_type": "markdown",
   "metadata": {},
   "source": [
    "### K Nearest Neighbor (KNN)"
   ]
  },
  {
   "cell_type": "code",
   "execution_count": 53,
   "metadata": {},
   "outputs": [],
   "source": [
    "# # Split X into train and test \n",
    "X = df"
   ]
  },
  {
   "cell_type": "code",
   "execution_count": 54,
   "metadata": {},
   "outputs": [
    {
     "data": {
      "text/plain": [
       "array([1, 1, 1, 1, 1])"
      ]
     },
     "execution_count": 54,
     "metadata": {},
     "output_type": "execute_result"
    }
   ],
   "source": [
    "y = df['Accident_Severity'].values\n",
    "y[0:5]"
   ]
  },
  {
   "cell_type": "code",
   "execution_count": 55,
   "metadata": {},
   "outputs": [
    {
     "data": {
      "text/plain": [
       "array([[-1.22474487, -0.47644217, -1.15302451,  1.44709433,  0.03798949,\n",
       "        -0.79280294,  0.58707475,  0.69539852, -0.42224942, -0.12486072,\n",
       "        -0.26726124,  0.57262335, -0.09733908, -0.06502561, -0.04397222,\n",
       "        -0.36109787, -0.42095071, -0.11350402,  0.62442366, -0.28366584,\n",
       "        -0.07688913, -0.5217082 , -0.06703572,  0.65274003,  0.45242895,\n",
       "        -0.12376932, -0.08511813, -0.13599155, -0.11230874, -0.33915111,\n",
       "        -0.04962044, -0.02649995, -0.10400731,  0.64877952, -0.03864525,\n",
       "        -0.08769417, -0.03976738, -0.63216428],\n",
       "       [-1.22474487, -0.47644217,  0.98110101,  0.43888193, -0.15014266,\n",
       "        -0.79280294,  0.58707475,  0.69539852,  2.36826849, -0.12486072,\n",
       "        -0.26726124, -1.74634864, -0.09733908, -0.06502561, -0.04397222,\n",
       "         2.76933232, -0.42095071, -0.11350402, -1.6014768 , -0.28366584,\n",
       "        -0.07688913, -0.5217082 , -0.06703572,  0.65274003,  0.45242895,\n",
       "        -0.12376932, -0.08511813, -0.13599155, -0.11230874, -0.33915111,\n",
       "        -0.04962044, -0.02649995, -0.10400731,  0.64877952, -0.03864525,\n",
       "        -0.08769417, -0.03976738, -0.63216428],\n",
       "       [-1.22474487, -0.47644217, -0.34287642,  0.43888193,  0.97865026,\n",
       "        -0.79280294,  0.58707475,  0.14364858, -0.42224942, -0.12486072,\n",
       "        -0.26726124,  0.57262335, -0.09733908, -0.06502561, -0.04397222,\n",
       "        -0.36109787, -0.42095071, -0.11350402,  0.62442366, -0.28366584,\n",
       "        -0.07688913, -0.5217082 , -0.06703572,  0.65274003,  0.45242895,\n",
       "        -0.12376932, -0.08511813, -0.13599155, -0.11230874, -0.33915111,\n",
       "        -0.04962044, -0.02649995, -0.10400731,  0.64877952, -0.03864525,\n",
       "        -0.08769417, -0.03976738, -0.63216428],\n",
       "       [-1.22474487, -0.47644217,  1.03469057,  1.44709433,  0.22612165,\n",
       "        -0.79280294,  0.58707475, -0.40810136,  2.36826849, -0.12486072,\n",
       "        -0.26726124, -1.74634864, -0.09733908, -0.06502561, -0.04397222,\n",
       "         2.76933232, -0.42095071, -0.11350402, -1.6014768 , -0.28366584,\n",
       "        -0.07688913, -0.5217082 , -0.06703572,  0.65274003,  0.45242895,\n",
       "        -0.12376932, -0.08511813, -0.13599155, -0.11230874, -0.33915111,\n",
       "        -0.04962044, -0.02649995, -0.10400731,  0.64877952, -0.03864525,\n",
       "        -0.08769417, -0.03976738, -0.63216428],\n",
       "       [-1.22474487,  0.15799782, -0.87561972,  1.44709433,  1.16678241,\n",
       "         1.90852069,  0.58707475,  0.69539852,  2.36826849, -0.12486072,\n",
       "        -0.26726124, -1.74634864, -0.09733908, -0.06502561, -0.04397222,\n",
       "        -0.36109787,  2.37557501, -0.11350402, -1.6014768 , -0.28366584,\n",
       "        -0.07688913,  1.91678031, -0.06703572, -1.53200347,  0.45242895,\n",
       "        -0.12376932, -0.08511813, -0.13599155, -0.11230874, -0.33915111,\n",
       "        -0.04962044, -0.02649995, -0.10400731,  0.64877952, -0.03864525,\n",
       "        -0.08769417, -0.03976738, -0.63216428]])"
      ]
     },
     "execution_count": 55,
     "metadata": {},
     "output_type": "execute_result"
    }
   ],
   "source": [
    "X = preprocessing.StandardScaler().fit(X).transform(X.astype(float))\n",
    "X[0:5]"
   ]
  },
  {
   "cell_type": "markdown",
   "metadata": {},
   "source": [
    "### Train/test split"
   ]
  },
  {
   "cell_type": "code",
   "execution_count": 56,
   "metadata": {},
   "outputs": [
    {
     "name": "stdout",
     "output_type": "stream",
     "text": [
      "Train set: (9120, 38) (9120,)\n",
      "Test set: (2280, 38) (2280,)\n"
     ]
    }
   ],
   "source": [
    "from sklearn.model_selection import train_test_split\n",
    "X_train, X_test, y_train, y_test = train_test_split(X, y, test_size=0.2, random_state=4,stratify=y)\n",
    "print ('Train set:', X_train.shape,  y_train.shape)\n",
    "print ('Test set:', X_test.shape,  y_test.shape)"
   ]
  },
  {
   "cell_type": "code",
   "execution_count": 57,
   "metadata": {},
   "outputs": [
    {
     "data": {
      "text/plain": [
       "KNeighborsClassifier(n_neighbors=3)"
      ]
     },
     "execution_count": 57,
     "metadata": {},
     "output_type": "execute_result"
    }
   ],
   "source": [
    "# Modeling\n",
    "from sklearn.neighbors import KNeighborsClassifier\n",
    "k = 3\n",
    "#Train Model and Predict\n",
    "kNN_model = KNeighborsClassifier(n_neighbors=k).fit(X_train,y_train)\n",
    "kNN_model"
   ]
  },
  {
   "cell_type": "code",
   "execution_count": 58,
   "metadata": {},
   "outputs": [
    {
     "data": {
      "text/plain": [
       "array([2, 1, 2, 2, 2])"
      ]
     },
     "execution_count": 58,
     "metadata": {},
     "output_type": "execute_result"
    }
   ],
   "source": [
    "yhat = kNN_model.predict(X_test)\n",
    "yhat[0:5]"
   ]
  },
  {
   "cell_type": "code",
   "execution_count": 75,
   "metadata": {},
   "outputs": [
    {
     "data": {
      "image/png": "[encoded data removed]",
      "text/plain": [
       "<Figure size 432x288 with 1 Axes>"
      ]
     },
     "metadata": {
      "needs_background": "light"
     },
     "output_type": "display_data"
    }
   ],
   "source": [
    "# Best k\n",
    "Ks=15\n",
    "mean_acc=np.zeros((Ks-1))\n",
    "std_acc=np.zeros((Ks-1))\n",
    "ConfustionMx=[];\n",
    "for n in range(1,Ks):\n",
    "    \n",
    "    #Train Model and Predict  \n",
    "    kNN_model = KNeighborsClassifier(n_neighbors=n).fit(X_train,y_train)\n",
    "    yhat = kNN_model.predict(X_test)\n",
    "    \n",
    "    \n",
    "    mean_acc[n-1]=np.mean(yhat==y_test);\n",
    "    \n",
    "    std_acc[n-1]=np.std(yhat==y_test)/np.sqrt(yhat.shape[0])\n",
    "mean_acc\n",
    "\n",
    "plt.plot(range(1,Ks),mean_acc,'g')\n",
    "plt.fill_between(range(1,Ks),mean_acc - 1 * std_acc,mean_acc + 1 * std_acc, alpha=0.10)\n",
    "plt.legend(('Accuracy ', '+/- 3xstd'))\n",
    "plt.ylabel('Accuracy ')\n",
    "plt.xlabel('Number of Nabors (K)')\n",
    "plt.tight_layout()\n",
    "# plt.savefig('best_k.png')\n",
    "# plt.tight_layout()\n",
    "plt.show()"
   ]
  },
  {
   "cell_type": "code",
   "execution_count": 60,
   "metadata": {},
   "outputs": [
    {
     "data": {
      "text/plain": [
       "KNeighborsClassifier(n_neighbors=7)"
      ]
     },
     "execution_count": 60,
     "metadata": {},
     "output_type": "execute_result"
    }
   ],
   "source": [
    "from sklearn.neighbors import KNeighborsClassifier\n",
    "k = 7\n",
    "#Train Model and Predict  \n",
    "kNN_model = KNeighborsClassifier(n_neighbors=k).fit(X_train,y_train)\n",
    "kNN_model"
   ]
  },
  {
   "cell_type": "markdown",
   "metadata": {},
   "source": [
    "### Decision Tree"
   ]
  },
  {
   "cell_type": "code",
   "execution_count": 61,
   "metadata": {},
   "outputs": [
    {
     "data": {
      "text/plain": [
       "DecisionTreeClassifier(criterion='entropy', max_depth=4)"
      ]
     },
     "execution_count": 61,
     "metadata": {},
     "output_type": "execute_result"
    }
   ],
   "source": [
    "from sklearn.tree import DecisionTreeClassifier\n",
    "DT_model = DecisionTreeClassifier(criterion=\"entropy\", max_depth = 4)\n",
    "DT_model.fit(X_train,y_train)\n",
    "DT_model"
   ]
  },
  {
   "cell_type": "code",
   "execution_count": 62,
   "metadata": {},
   "outputs": [
    {
     "data": {
      "text/plain": [
       "array([2, 1, 2, ..., 1, 3, 3])"
      ]
     },
     "execution_count": 62,
     "metadata": {},
     "output_type": "execute_result"
    }
   ],
   "source": [
    "yhat = DT_model.predict(X_test)\n",
    "yhat"
   ]
  },
  {
   "cell_type": "markdown",
   "metadata": {},
   "source": [
    "### Support Vector Machine"
   ]
  },
  {
   "cell_type": "code",
   "execution_count": 63,
   "metadata": {},
   "outputs": [
    {
     "data": {
      "text/plain": [
       "SVC()"
      ]
     },
     "execution_count": 63,
     "metadata": {},
     "output_type": "execute_result"
    }
   ],
   "source": [
    "from sklearn import svm\n",
    "SVM_model = svm.SVC()\n",
    "SVM_model.fit(X_train, y_train) "
   ]
  },
  {
   "cell_type": "code",
   "execution_count": 64,
   "metadata": {},
   "outputs": [
    {
     "data": {
      "text/plain": [
       "array([2, 1, 2, ..., 1, 3, 3])"
      ]
     },
     "execution_count": 64,
     "metadata": {},
     "output_type": "execute_result"
    }
   ],
   "source": [
    "yhat = SVM_model.predict(X_test)\n",
    "yhat"
   ]
  },
  {
   "cell_type": "markdown",
   "metadata": {},
   "source": [
    "### Logistic Regression"
   ]
  },
  {
   "cell_type": "code",
   "execution_count": 65,
   "metadata": {},
   "outputs": [
    {
     "data": {
      "text/plain": [
       "LogisticRegression(C=0.01)"
      ]
     },
     "execution_count": 65,
     "metadata": {},
     "output_type": "execute_result"
    }
   ],
   "source": [
    "from sklearn.linear_model import LogisticRegression\n",
    "LR_model = LogisticRegression(C=0.01).fit(X_train,y_train)\n",
    "LR_model"
   ]
  },
  {
   "cell_type": "code",
   "execution_count": 66,
   "metadata": {},
   "outputs": [
    {
     "data": {
      "text/plain": [
       "array([2, 1, 2, ..., 1, 3, 3])"
      ]
     },
     "execution_count": 66,
     "metadata": {},
     "output_type": "execute_result"
    }
   ],
   "source": [
    "yhat = LR_model.predict(X_test)\n",
    "yhat"
   ]
  },
  {
   "cell_type": "markdown",
   "metadata": {},
   "source": [
    "### Evaluation metrics"
   ]
  },
  {
   "cell_type": "code",
   "execution_count": 67,
   "metadata": {},
   "outputs": [],
   "source": [
    "from sklearn.metrics import jaccard_score\n",
    "from sklearn.metrics import f1_score\n",
    "from sklearn.metrics import log_loss"
   ]
  },
  {
   "cell_type": "code",
   "execution_count": 68,
   "metadata": {},
   "outputs": [
    {
     "data": {
      "text/plain": [
       "array([2, 1, 2, 2, 2])"
      ]
     },
     "execution_count": 68,
     "metadata": {},
     "output_type": "execute_result"
    }
   ],
   "source": [
    "k = 1\n",
    "knn_model = KNeighborsClassifier(n_neighbors = k).fit(X_train,y_train)\n",
    "knn_model\n",
    "\n",
    "knn_yhat = knn_model.predict(X_test)\n",
    "knn_yhat[0:5]"
   ]
  },
  {
   "cell_type": "code",
   "execution_count": 69,
   "metadata": {},
   "outputs": [
    {
     "name": "stdout",
     "output_type": "stream",
     "text": [
      "KNN Jaccard index: 0.77\n",
      "KNN F1-score: 0.87\n"
     ]
    }
   ],
   "source": [
    "print(\"KNN Jaccard index: %.2f\" % jaccard_score(y_test, knn_yhat,average='weighted'))\n",
    "print(\"KNN F1-score: %.2f\" % f1_score(y_test, knn_yhat, average='weighted') )"
   ]
  },
  {
   "cell_type": "markdown",
   "metadata": {},
   "source": [
    "### For DT"
   ]
  },
  {
   "cell_type": "code",
   "execution_count": 70,
   "metadata": {},
   "outputs": [
    {
     "name": "stdout",
     "output_type": "stream",
     "text": [
      "DT Jaccard index: 1.00\n",
      "DT F1-score: 1.00\n"
     ]
    }
   ],
   "source": [
    "DT_yhat = DT_model.predict(X_test)\n",
    "print(\"DT Jaccard index: %.2f\" % jaccard_score(y_test, DT_yhat,average='weighted'))\n",
    "print(\"DT F1-score: %.2f\" % f1_score(y_test, DT_yhat, average='weighted') )"
   ]
  },
  {
   "cell_type": "markdown",
   "metadata": {},
   "source": [
    "### For SVM"
   ]
  },
  {
   "cell_type": "code",
   "execution_count": 71,
   "metadata": {},
   "outputs": [
    {
     "name": "stdout",
     "output_type": "stream",
     "text": [
      "SVM Jaccard index: 0.96\n",
      "SVM F1-score: 0.98\n"
     ]
    }
   ],
   "source": [
    "SVM_yhat = SVM_model.predict(X_test)\n",
    "print(\"SVM Jaccard index: %.2f\" % jaccard_score(y_test, SVM_yhat,average='weighted'))\n",
    "print(\"SVM F1-score: %.2f\" % f1_score(y_test, SVM_yhat, average='weighted') )"
   ]
  },
  {
   "cell_type": "markdown",
   "metadata": {},
   "source": [
    "### For LR"
   ]
  },
  {
   "cell_type": "code",
   "execution_count": 72,
   "metadata": {},
   "outputs": [
    {
     "name": "stdout",
     "output_type": "stream",
     "text": [
      "LR Jaccard index: 1.00\n",
      "LR F1-score: 1.00\n",
      "LR LogLoss: 0.14\n"
     ]
    }
   ],
   "source": [
    "LR_yhat = LR_model.predict(X_test)\n",
    "LR_yhat_prob = LR_model.predict_proba(X_test)\n",
    "print(\"LR Jaccard index: %.2f\" % jaccard_score(y_test, LR_yhat,average='weighted'))\n",
    "print(\"LR F1-score: %.2f\" % f1_score(y_test, LR_yhat, average='weighted') )\n",
    "print(\"LR LogLoss: %.2f\" % log_loss(y_test, LR_yhat_prob))"
   ]
  },
  {
   "cell_type": "code",
   "execution_count": 73,
   "metadata": {},
   "outputs": [
    {
     "name": "stdout",
     "output_type": "stream",
     "text": [
      "[[760   0   0]\n",
      " [  0 760   0]\n",
      " [  0   0 760]]\n"
     ]
    }
   ],
   "source": [
    "from sklearn.metrics import classification_report, confusion_matrix\n",
    "import itertools\n",
    "def plot_confusion_matrix(cm, classes,\n",
    "                          normalize=False,\n",
    "                          title='Confusion matrix',\n",
    "                          cmap=plt.cm.Blues):\n",
    "    \"\"\"\n",
    "    This function prints and plots the confusion matrix.\n",
    "    Normalization can be applied by setting `normalize=True`.\n",
    "    \"\"\"\n",
    "    if normalize:\n",
    "        cm = cm.astype('float') / cm.sum(axis=1)[:, np.newaxis]\n",
    "        print(\"Normalized confusion matrix\")\n",
    "    else:\n",
    "        print('Confusion matrix, without normalization')\n",
    "\n",
    "    print(cm)\n",
    "\n",
    "    plt.imshow(cm, interpolation='nearest', cmap=cmap)\n",
    "    plt.title(title)\n",
    "    plt.colorbar()\n",
    "    tick_marks = np.arange(len(classes))\n",
    "    plt.xticks(tick_marks, classes, rotation=45)\n",
    "    plt.yticks(tick_marks, classes)\n",
    "\n",
    "    fmt = '.2f' if normalize else 'd'\n",
    "    thresh = cm.max() / 2.\n",
    "    for i, j in itertools.product(range(cm.shape[0]), range(cm.shape[1])):\n",
    "        plt.text(j, i, format(cm[i, j], fmt),\n",
    "                 horizontalalignment=\"center\",\n",
    "                 color=\"white\" if cm[i, j] > thresh else \"black\")\n",
    "\n",
    "    plt.tight_layout()\n",
    "    plt.ylabel('True label')\n",
    "    plt.xlabel('Predicted label')\n",
    "print(confusion_matrix(y_test, yhat, labels=[1,2,3]))"
   ]
  },
  {
   "cell_type": "code",
   "execution_count": 74,
   "metadata": {},
   "outputs": [
    {
     "name": "stdout",
     "output_type": "stream",
     "text": [
      "Confusion matrix, without normalization\n",
      "[[760   0   0]\n",
      " [  0 760   0]\n",
      " [  0   0 760]]\n"
     ]
    },
    {
     "data": {
      "image/png": "[encoded data removed]",
      "text/plain": [
       "<Figure size 432x288 with 2 Axes>"
      ]
     },
     "metadata": {
      "needs_background": "light"
     },
     "output_type": "display_data"
    }
   ],
   "source": [
    "# Compute confusion matrix\n",
    "cnf_matrix = confusion_matrix(y_test, yhat, labels=[1,2,3])\n",
    "np.set_printoptions(precision=2)\n",
    "\n",
    "\n",
    "# Plot non-normalized confusion matrix\n",
    "plt.figure()\n",
    "plot_confusion_matrix(cnf_matrix, classes=['slight=1','serious=2,fatal=3'],normalize= False,  title='Confusion matrix')"
   ]
  },
  {
   "cell_type": "markdown",
   "metadata": {},
   "source": [
    "## Results and discussion <a name=\"results\"></a>"
   ]
  },
  {
   "cell_type": "markdown",
   "metadata": {},
   "source": [
    "Several things can be noted from the initial analysis. Contrary to a possible preconceived notion that it is probable that most accidents occur during poor external conditions (Light, Weather, Road, etc). The analysis reveals that it is not the case. Most accidents occur during good weather with no external conditions to impair the driver.\n",
    "\n",
    "Most accidents occur in low-speed zones. And it is important to remark that there is a significant difference in the percentage of men and women who have accidents. One other factor is that there is no relation between the day of the week and the amount of accidents, except for Fridays which have a slightly higher number of accidents per day.\n",
    "\n",
    "The biggest amount of accidents occur during daylight and the second most accidents occur during nigth time under well-lit conditions.\n",
    "\n",
    "The model developed using K-NN has an Jaccard index of: 0.78 and F-1 Score of 0.88.\n"
   ]
  },
  {
   "cell_type": "markdown",
   "metadata": {},
   "source": [
    "## Conclusion <a name=\"conclusion\"></a>"
   ]
  },
  {
   "cell_type": "markdown",
   "metadata": {},
   "source": [
    "The results lead one to believe that most accidents occur due to internal, driver reasons and not external. Since good external conditions yield a much lower number of accidents. This could be to a number of reasons: with good conditions drivers feel much more confident and do not excercise as much caution. Or there is more traffic on the roads. However, the initial hypothesis that bad weather conditions was the main cause of vehicular accidents can be discarded and some other possibilities need to be contemplated and explored, perhaps in another project or further analysis. At the moment even though the model works, I would consider the possibility of other factors having a bigger impact on the severity of an accident, factors which are not available in this dataset and require a new study.\n",
    "\n",
    "\n",
    "The model and determining the severity of an accident could see its main application with insurance companies, which could probably be the most interested party due to the reasons that their costs are relative to the probability of a driver having an accident."
   ]
  },
  {
   "cell_type": "code",
   "execution_count": null,
   "metadata": {},
   "outputs": [],
   "source": []
  }
 ],
 "metadata": {
  "kernelspec": {
   "display_name": "Python 3",
   "language": "python",
   "name": "python3"
  },
  "language_info": {
   "codemirror_mode": {
    "name": "ipython",
    "version": 3
   },
   "file_extension": ".py",
   "mimetype": "text/x-python",
   "name": "python",
   "nbconvert_exporter": "python",
   "pygments_lexer": "ipython3",
   "version": "3.8.3"
  }
 },
 "nbformat": 4,
 "nbformat_minor": 4
}
