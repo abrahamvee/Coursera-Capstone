{
 "cells": [
  {
   "cell_type": "markdown",
   "metadata": {},
   "source": [
    "# Prediction of severity of a traffic accident related to weather conditions"
   ]
  },
  {
   "cell_type": "markdown",
   "metadata": {},
   "source": [
    "## Table of contents\n",
    "* [Introduction: Problem Description](#introduction)\n",
    "* [Data](#data)\n",
    "* [Methodology](#methodology)\n",
    "* [Analysis](#analysis)\n",
    "* [Results and Discussion](#results)\n",
    "* [Conclusion](#conclusion)"
   ]
  },
  {
   "cell_type": "markdown",
   "metadata": {},
   "source": [
    "## Introduction: Problem Description <a name=\"introduction\"></a>"
   ]
  },
  {
   "cell_type": "markdown",
   "metadata": {},
   "source": [
    "The automobile is one of the most common methods of transportation worlwide. And according to the Centers for Disease Control and Prevention approximately 3,700 people die each in day in a car crash around the world, that amounts to nearly a million and a half people each year.\n",
    "\n",
    "It is important then to look for methods and prevention strategies to be able to reduce the amount of accidents. This would not only result in saving human lives but could reduce drastically costs, to parties such as the government, health organizations or even the individuals themselves.\n",
    "\n",
    "Some of the most contributing factors to driving accidents are: falling asleep at the wheel,loss of vehicle control (due to mechanical reasons or external e.g. the weather, other drivers), blind left turns, not staying in the proper lane.\n",
    "\n",
    "Some of this factors can be attenuated, as is taking extra precautions during bad weather conditions or possibly even posponing the trip if possible."
   ]
  },
  {
   "cell_type": "markdown",
   "metadata": {},
   "source": [
    "### Purpose of work"
   ]
  },
  {
   "cell_type": "markdown",
   "metadata": {},
   "source": [
    "The purpose of this work is to see the relationship between certain driving conditions and  what type of accidents are drivers exposed to: severe, fatal or a slight driving accident. Also to develop a model that can predict the outcome of an accident taking into account the condtions of the road and some other factors."
   ]
  },
  {
   "cell_type": "markdown",
   "metadata": {},
   "source": [
    "### Intended public"
   ]
  },
  {
   "cell_type": "markdown",
   "metadata": {},
   "source": [
    "This type of work could be of interest to the government: to be able to see the type of maintenance required on works, to insurance companies which can now have a better assessment of the probable type of accidents a driver can be involved in and finally to the drivers, it can help reduce the risks they take when driving. "
   ]
  },
  {
   "cell_type": "markdown",
   "metadata": {},
   "source": [
    "## Data <a name=\"data\"></a>"
   ]
  },
  {
   "cell_type": "markdown",
   "metadata": {},
   "source": [
    "The dataset is under a OGL (Open Government License)\n",
    "\n",
    "It has records of road accidents from the year 2005 to 2014 in United Kingdom. It is comprised of 4 files: the accident file which contains information about the accident severity, weather, lcocation, date, hour, day of the week, etc. \n",
    "The vehicle file: which contains the details about the vehicles involved.\n",
    "The casualty file which contains information about the severity, age, sex, casualty type, etc.\n",
    "And finally a lookup file which has the description for the previously mentioned files. \n",
    "\n",
    "For this particular study, the files that will be used are the accident file and the casualty file which contains the information deemed necessary to develop an adequate model to predict the severity of and accident taking into consideration the environmental variables.\n",
    "\n",
    "The dataset can be found in [UK Accidents 10 years history with many variables](https://www.kaggle.com/benoit72/uk-accidents-10-years-history-with-many-variables/notebooks) at the Kaggle website.\n",
    "\n",
    "Most of them have are numeric attributes which represent a particular state, however in the development notebook this numeric indices have been replaced by their corresponding 'word' representation to make the charts and information more easily understandable."
   ]
  },
  {
   "cell_type": "markdown",
   "metadata": {},
   "source": [
    "This notebook will be used for the Capstone Project of the Coursera Data Science Specialization. The project consists on a model to predict the severity of an accident taking into account the conditions of the day and the road.\n",
    "\n",
    "Some of the more relevant attributes on the dataset are the following:\n"
   ]
  },
  {
   "cell_type": "markdown",
   "metadata": {},
   "source": [
    "| Field             | Description                                                                           | \n",
    "|-------------------|---------------------------------------------------------------------------------------|\n",
    "| Accident_Index    | Unique identifier of the accident                                                     |\n",
    "| Accident_Severity | Describes severity of accident (desired label)                                        |\n",
    "| Date          | Date of the accident|\n",
    "| Day_of_Week    | Day of the week when the accident occurred                                        |\n",
    "| Road_Type          | Type of road where the accident occurred               |\n",
    "| Speed_limit               | Speed limit in the zone the accident occurred                                                                   |\n",
    "| Junction_Detials         | Description of type of junction where the accident happened (roundabout, 4-way,etc)                                                              |\n",
    "| Junction_Control            |Type of control at the junction (trafficlight, stop sign, etc)|\n",
    "| Light_Conditions  | Lighting conditions at time of accident |\n",
    "| Weather_Conditions | Weather conditions when at time of accident |\n",
    "|Road_Surface_Conditions | Conditons of the road surface at location of accident |\n",
    "|Urban_or_Rural_Area | Area of accident |\n",
    "|Vehicle_Type | Description of Vehicle (car, van, truck, etc) |\n",
    "|Age_Band_of_Driver | Age range for driver |\n",
    "|Age_of_Vehicle | Vehicle's age |"
   ]
  },
  {
   "cell_type": "markdown",
   "metadata": {},
   "source": [
    "## Methodology <a name=\"methodology\"></a>"
   ]
  },
  {
   "cell_type": "markdown",
   "metadata": {},
   "source": [
    "The project consists on an analysis on the data discover the most relevant factors that contribute to vehicular accidents and that determine the severity of the accident. The analysis is limited to data from the **years 2005 to 2010 in the UK**.\n",
    "\n",
    "The **data** is collected from Kaggle website and a first exploration is conducted. The most relevant **attributes** e.g. **(weather,lighting,road conditions, etc.)** that could contribute to determining the severity of the accident are left in a dataframe and the others are dropped. Next, data cleaning takes place, by dropping rows that have incomplete information or not useful to the analysis. These records are dropped with further impact on the project, due to the vast amount of records available.\n",
    "\n",
    "Once the analysis is made, a **model (k Nearest Neighbor)** to determine the severity of a possible accident is developed. This will allow to establish which conditions lead to a more dangerous outcome in case of required travel."
   ]
  },
  {
   "cell_type": "markdown",
   "metadata": {},
   "source": [
    "## Analysis <a name=\"analysis\"></a>"
   ]
  },
  {
   "cell_type": "markdown",
   "metadata": {},
   "source": [
    "### Importing the required libraries"
   ]
  },
  {
   "cell_type": "code",
   "execution_count": 1,
   "metadata": {},
   "outputs": [],
   "source": [
    "import pandas as pd\n",
    "import numpy as np\n",
    "import seaborn as sns\n",
    "%matplotlib inline\n",
    "from sklearn import preprocessing\n",
    "import datetime as dt"
   ]
  },
  {
   "cell_type": "code",
   "execution_count": 2,
   "metadata": {},
   "outputs": [
    {
     "name": "stdout",
     "output_type": "stream",
     "text": [
      "Hello Capstone Project Course!\n"
     ]
    }
   ],
   "source": [
    "print(\"Hello Capstone Project Course!\")"
   ]
  },
  {
   "cell_type": "code",
   "execution_count": 3,
   "metadata": {},
   "outputs": [],
   "source": [
    "#df = pd.read_csv(r'/home/abrahamvee/Downloads/Data-Collisions.csv')\n",
    "### EXAMPLE DATASET\n",
    "#example_ds_filepath='/home/abrahamvee/Downloads/Data-Collisions.csv'\n",
    "### KAGGLE'S DATASET\n",
    "kaggle_filepath = '/home/abrahamvee/Documents/Coursera Data Analysis/Capstone Project/accidents2005-2010.csv'\n",
    "kaggle_filepath2 = '/home/abrahamvee/Documents/Coursera Data Analysis/Capstone Project/vehicles2005-2010.csv'\n",
    "df1 = pd.read_csv(kaggle_filepath)\n",
    "df2 = pd.read_csv(kaggle_filepath2)"
   ]
  },
  {
   "cell_type": "markdown",
   "metadata": {},
   "source": [
    "### Assembling the final dataset to use"
   ]
  },
  {
   "cell_type": "code",
   "execution_count": 4,
   "metadata": {},
   "outputs": [
    {
     "name": "stdout",
     "output_type": "stream",
     "text": [
      "['Accident_Index', 'Location_Easting_OSGR', 'Location_Northing_OSGR', 'Longitude', 'Latitude', 'Police_Force', 'Accident_Severity', 'Number_of_Vehicles', 'Number_of_Casualties', 'Date', 'Day_of_Week', 'Time', 'Local_Authority_(District)', 'Local_Authority_(Highway)', '1st_Road_Class', '1st_Road_Number', 'Road_Type', 'Speed_limit', 'Junction_Detail', 'Junction_Control', '2nd_Road_Class', '2nd_Road_Number', 'Pedestrian_Crossing-Human_Control', 'Pedestrian_Crossing-Physical_Facilities', 'Light_Conditions', 'Weather_Conditions', 'Road_Surface_Conditions', 'Special_Conditions_at_Site', 'Carriageway_Hazards', 'Urban_or_Rural_Area', 'Did_Police_Officer_Attend_Scene_of_Accident', 'LSOA_of_Accident_Location']\n"
     ]
    }
   ],
   "source": [
    "### Print a list of the dataset's attributes\n",
    "print(df1.columns.to_list())"
   ]
  },
  {
   "cell_type": "code",
   "execution_count": 5,
   "metadata": {},
   "outputs": [
    {
     "name": "stdout",
     "output_type": "stream",
     "text": [
      "['Accident_Index', 'Vehicle_Reference', 'Vehicle_Type', 'Towing_and_Articulation', 'Vehicle_Manoeuvre', 'Vehicle_Location-Restricted_Lane', 'Junction_Location', 'Skidding_and_Overturning', 'Hit_Object_in_Carriageway', 'Vehicle_Leaving_Carriageway', 'Hit_Object_off_Carriageway', '1st_Point_of_Impact', 'Was_Vehicle_Left_Hand_Drive?', 'Journey_Purpose_of_Driver', 'Sex_of_Driver', 'Age_of_Driver', 'Age_Band_of_Driver', 'Engine_Capacity_(CC)', 'Propulsion_Code', 'Age_of_Vehicle', 'Driver_IMD_Decile', 'Driver_Home_Area_Type']\n"
     ]
    }
   ],
   "source": [
    "print(df2.columns.to_list())"
   ]
  },
  {
   "cell_type": "markdown",
   "metadata": {},
   "source": [
    "Select the attributes that are being used for the model."
   ]
  },
  {
   "cell_type": "code",
   "execution_count": 6,
   "metadata": {},
   "outputs": [
    {
     "data": {
      "text/html": [
       "<div>\n",
       "<style scoped>\n",
       "    .dataframe tbody tr th:only-of-type {\n",
       "        vertical-align: middle;\n",
       "    }\n",
       "\n",
       "    .dataframe tbody tr th {\n",
       "        vertical-align: top;\n",
       "    }\n",
       "\n",
       "    .dataframe thead th {\n",
       "        text-align: right;\n",
       "    }\n",
       "</style>\n",
       "<table border=\"1\" class=\"dataframe\">\n",
       "  <thead>\n",
       "    <tr style=\"text-align: right;\">\n",
       "      <th></th>\n",
       "      <th>Accident_Index</th>\n",
       "      <th>Accident_Severity</th>\n",
       "      <th>Number_of_Casualties</th>\n",
       "      <th>Date</th>\n",
       "      <th>Day_of_Week</th>\n",
       "      <th>Time</th>\n",
       "      <th>Road_Type</th>\n",
       "      <th>Speed_limit</th>\n",
       "      <th>Junction_Detail</th>\n",
       "      <th>Junction_Control</th>\n",
       "      <th>Light_Conditions</th>\n",
       "      <th>Weather_Conditions</th>\n",
       "      <th>Road_Surface_Conditions</th>\n",
       "      <th>Special_Conditions_at_Site</th>\n",
       "      <th>Urban_or_Rural_Area</th>\n",
       "    </tr>\n",
       "  </thead>\n",
       "  <tbody>\n",
       "    <tr>\n",
       "      <th>0</th>\n",
       "      <td>200501BS00001</td>\n",
       "      <td>2</td>\n",
       "      <td>1</td>\n",
       "      <td>04/01/2005</td>\n",
       "      <td>3</td>\n",
       "      <td>17:42</td>\n",
       "      <td>6</td>\n",
       "      <td>30</td>\n",
       "      <td>0</td>\n",
       "      <td>-1</td>\n",
       "      <td>1</td>\n",
       "      <td>2</td>\n",
       "      <td>2</td>\n",
       "      <td>0</td>\n",
       "      <td>1</td>\n",
       "    </tr>\n",
       "    <tr>\n",
       "      <th>1</th>\n",
       "      <td>200501BS00002</td>\n",
       "      <td>3</td>\n",
       "      <td>1</td>\n",
       "      <td>05/01/2005</td>\n",
       "      <td>4</td>\n",
       "      <td>17:36</td>\n",
       "      <td>3</td>\n",
       "      <td>30</td>\n",
       "      <td>6</td>\n",
       "      <td>2</td>\n",
       "      <td>4</td>\n",
       "      <td>1</td>\n",
       "      <td>1</td>\n",
       "      <td>0</td>\n",
       "      <td>1</td>\n",
       "    </tr>\n",
       "    <tr>\n",
       "      <th>2</th>\n",
       "      <td>200501BS00003</td>\n",
       "      <td>3</td>\n",
       "      <td>1</td>\n",
       "      <td>06/01/2005</td>\n",
       "      <td>5</td>\n",
       "      <td>00:15</td>\n",
       "      <td>6</td>\n",
       "      <td>30</td>\n",
       "      <td>0</td>\n",
       "      <td>-1</td>\n",
       "      <td>4</td>\n",
       "      <td>1</td>\n",
       "      <td>1</td>\n",
       "      <td>0</td>\n",
       "      <td>1</td>\n",
       "    </tr>\n",
       "    <tr>\n",
       "      <th>3</th>\n",
       "      <td>200501BS00004</td>\n",
       "      <td>3</td>\n",
       "      <td>1</td>\n",
       "      <td>07/01/2005</td>\n",
       "      <td>6</td>\n",
       "      <td>10:35</td>\n",
       "      <td>6</td>\n",
       "      <td>30</td>\n",
       "      <td>0</td>\n",
       "      <td>-1</td>\n",
       "      <td>1</td>\n",
       "      <td>1</td>\n",
       "      <td>1</td>\n",
       "      <td>0</td>\n",
       "      <td>1</td>\n",
       "    </tr>\n",
       "    <tr>\n",
       "      <th>4</th>\n",
       "      <td>200501BS00005</td>\n",
       "      <td>3</td>\n",
       "      <td>1</td>\n",
       "      <td>10/01/2005</td>\n",
       "      <td>2</td>\n",
       "      <td>21:13</td>\n",
       "      <td>6</td>\n",
       "      <td>30</td>\n",
       "      <td>0</td>\n",
       "      <td>-1</td>\n",
       "      <td>7</td>\n",
       "      <td>1</td>\n",
       "      <td>2</td>\n",
       "      <td>0</td>\n",
       "      <td>1</td>\n",
       "    </tr>\n",
       "  </tbody>\n",
       "</table>\n",
       "</div>"
      ],
      "text/plain": [
       "  Accident_Index  Accident_Severity  Number_of_Casualties        Date  \\\n",
       "0  200501BS00001                  2                     1  04/01/2005   \n",
       "1  200501BS00002                  3                     1  05/01/2005   \n",
       "2  200501BS00003                  3                     1  06/01/2005   \n",
       "3  200501BS00004                  3                     1  07/01/2005   \n",
       "4  200501BS00005                  3                     1  10/01/2005   \n",
       "\n",
       "   Day_of_Week   Time  Road_Type  Speed_limit  Junction_Detail  \\\n",
       "0            3  17:42          6           30                0   \n",
       "1            4  17:36          3           30                6   \n",
       "2            5  00:15          6           30                0   \n",
       "3            6  10:35          6           30                0   \n",
       "4            2  21:13          6           30                0   \n",
       "\n",
       "   Junction_Control  Light_Conditions  Weather_Conditions  \\\n",
       "0                -1                 1                   2   \n",
       "1                 2                 4                   1   \n",
       "2                -1                 4                   1   \n",
       "3                -1                 1                   1   \n",
       "4                -1                 7                   1   \n",
       "\n",
       "   Road_Surface_Conditions  Special_Conditions_at_Site  Urban_or_Rural_Area  \n",
       "0                        2                           0                    1  \n",
       "1                        1                           0                    1  \n",
       "2                        1                           0                    1  \n",
       "3                        1                           0                    1  \n",
       "4                        2                           0                    1  "
      ]
     },
     "execution_count": 6,
     "metadata": {},
     "output_type": "execute_result"
    }
   ],
   "source": [
    "#df = df.filter(['SEVERITYCODE','INCKEY','ADDRTYPE','SEVERITYDESC','PERSONCOUNT','PEDCOUNT','PEDCYLCOUNT','VEHCOUNT','INJURIES','SERIOUSINJURIES','FATALITIES','INCDATE','INCDTTM','INATTENTIONIND','UNDERINFL','WEATHER','ROADCOND','SPEEDING'])\n",
    "#df.head()\n",
    "# KAGGLE'S\n",
    "df1 = df1.filter(['Accident_Index','Accident_Severity','Number_of_vehicles','Number_of_Casualties','Date','Day_of_Week','Time','Road_Type','Speed_limit',\\\n",
    "                'Junction_Detail','Junction_Control','Light_Conditions','Weather_Conditions','Road_Surface_Conditions','Special_Conditions_at_Site','Urban_or_Rural_Area'])\n",
    "df1.head()"
   ]
  },
  {
   "cell_type": "code",
   "execution_count": 7,
   "metadata": {},
   "outputs": [
    {
     "data": {
      "text/html": [
       "<div>\n",
       "<style scoped>\n",
       "    .dataframe tbody tr th:only-of-type {\n",
       "        vertical-align: middle;\n",
       "    }\n",
       "\n",
       "    .dataframe tbody tr th {\n",
       "        vertical-align: top;\n",
       "    }\n",
       "\n",
       "    .dataframe thead th {\n",
       "        text-align: right;\n",
       "    }\n",
       "</style>\n",
       "<table border=\"1\" class=\"dataframe\">\n",
       "  <thead>\n",
       "    <tr style=\"text-align: right;\">\n",
       "      <th></th>\n",
       "      <th>Accident_Index</th>\n",
       "      <th>Vehicle_Type</th>\n",
       "      <th>Sex_of_Driver</th>\n",
       "      <th>Age_of_Driver</th>\n",
       "      <th>Age_Band_of_Driver</th>\n",
       "      <th>Age_of_Vehicle</th>\n",
       "    </tr>\n",
       "  </thead>\n",
       "  <tbody>\n",
       "    <tr>\n",
       "      <th>0</th>\n",
       "      <td>200501BS00001</td>\n",
       "      <td>9</td>\n",
       "      <td>2</td>\n",
       "      <td>74</td>\n",
       "      <td>10</td>\n",
       "      <td>-1</td>\n",
       "    </tr>\n",
       "    <tr>\n",
       "      <th>1</th>\n",
       "      <td>200501BS00002</td>\n",
       "      <td>11</td>\n",
       "      <td>1</td>\n",
       "      <td>42</td>\n",
       "      <td>7</td>\n",
       "      <td>3</td>\n",
       "    </tr>\n",
       "    <tr>\n",
       "      <th>2</th>\n",
       "      <td>200501BS00003</td>\n",
       "      <td>11</td>\n",
       "      <td>1</td>\n",
       "      <td>35</td>\n",
       "      <td>6</td>\n",
       "      <td>5</td>\n",
       "    </tr>\n",
       "    <tr>\n",
       "      <th>3</th>\n",
       "      <td>200501BS00003</td>\n",
       "      <td>9</td>\n",
       "      <td>1</td>\n",
       "      <td>62</td>\n",
       "      <td>9</td>\n",
       "      <td>6</td>\n",
       "    </tr>\n",
       "    <tr>\n",
       "      <th>4</th>\n",
       "      <td>200501BS00004</td>\n",
       "      <td>9</td>\n",
       "      <td>2</td>\n",
       "      <td>49</td>\n",
       "      <td>8</td>\n",
       "      <td>4</td>\n",
       "    </tr>\n",
       "  </tbody>\n",
       "</table>\n",
       "</div>"
      ],
      "text/plain": [
       "  Accident_Index  Vehicle_Type  Sex_of_Driver  Age_of_Driver  \\\n",
       "0  200501BS00001             9              2             74   \n",
       "1  200501BS00002            11              1             42   \n",
       "2  200501BS00003            11              1             35   \n",
       "3  200501BS00003             9              1             62   \n",
       "4  200501BS00004             9              2             49   \n",
       "\n",
       "   Age_Band_of_Driver  Age_of_Vehicle  \n",
       "0                  10              -1  \n",
       "1                   7               3  \n",
       "2                   6               5  \n",
       "3                   9               6  \n",
       "4                   8               4  "
      ]
     },
     "execution_count": 7,
     "metadata": {},
     "output_type": "execute_result"
    }
   ],
   "source": [
    "df2 = df2.filter(['Accident_Index','Vehicle_Type','Sex_of_Driver','Age_of_Driver','Age_Band_of_Driver','Age_of_Vehicle'])\n",
    "df2.head()"
   ]
  },
  {
   "cell_type": "code",
   "execution_count": 8,
   "metadata": {},
   "outputs": [
    {
     "data": {
      "text/html": [
       "<div>\n",
       "<style scoped>\n",
       "    .dataframe tbody tr th:only-of-type {\n",
       "        vertical-align: middle;\n",
       "    }\n",
       "\n",
       "    .dataframe tbody tr th {\n",
       "        vertical-align: top;\n",
       "    }\n",
       "\n",
       "    .dataframe thead th {\n",
       "        text-align: right;\n",
       "    }\n",
       "</style>\n",
       "<table border=\"1\" class=\"dataframe\">\n",
       "  <thead>\n",
       "    <tr style=\"text-align: right;\">\n",
       "      <th></th>\n",
       "      <th>Accident_Index</th>\n",
       "      <th>Accident_Severity</th>\n",
       "      <th>Number_of_Casualties</th>\n",
       "      <th>Date</th>\n",
       "      <th>Day_of_Week</th>\n",
       "      <th>Time</th>\n",
       "      <th>Road_Type</th>\n",
       "      <th>Speed_limit</th>\n",
       "      <th>Junction_Detail</th>\n",
       "      <th>Junction_Control</th>\n",
       "      <th>Light_Conditions</th>\n",
       "      <th>Weather_Conditions</th>\n",
       "      <th>Road_Surface_Conditions</th>\n",
       "      <th>Special_Conditions_at_Site</th>\n",
       "      <th>Urban_or_Rural_Area</th>\n",
       "      <th>Vehicle_Type</th>\n",
       "      <th>Sex_of_Driver</th>\n",
       "      <th>Age_of_Driver</th>\n",
       "      <th>Age_Band_of_Driver</th>\n",
       "      <th>Age_of_Vehicle</th>\n",
       "    </tr>\n",
       "  </thead>\n",
       "  <tbody>\n",
       "    <tr>\n",
       "      <th>0</th>\n",
       "      <td>200501BS00001</td>\n",
       "      <td>2</td>\n",
       "      <td>1</td>\n",
       "      <td>04/01/2005</td>\n",
       "      <td>3</td>\n",
       "      <td>17:42</td>\n",
       "      <td>6</td>\n",
       "      <td>30</td>\n",
       "      <td>0</td>\n",
       "      <td>-1</td>\n",
       "      <td>1</td>\n",
       "      <td>2</td>\n",
       "      <td>2</td>\n",
       "      <td>0</td>\n",
       "      <td>1</td>\n",
       "      <td>9</td>\n",
       "      <td>2</td>\n",
       "      <td>74</td>\n",
       "      <td>10</td>\n",
       "      <td>-1</td>\n",
       "    </tr>\n",
       "    <tr>\n",
       "      <th>1</th>\n",
       "      <td>200501BS00002</td>\n",
       "      <td>3</td>\n",
       "      <td>1</td>\n",
       "      <td>05/01/2005</td>\n",
       "      <td>4</td>\n",
       "      <td>17:36</td>\n",
       "      <td>3</td>\n",
       "      <td>30</td>\n",
       "      <td>6</td>\n",
       "      <td>2</td>\n",
       "      <td>4</td>\n",
       "      <td>1</td>\n",
       "      <td>1</td>\n",
       "      <td>0</td>\n",
       "      <td>1</td>\n",
       "      <td>11</td>\n",
       "      <td>1</td>\n",
       "      <td>42</td>\n",
       "      <td>7</td>\n",
       "      <td>3</td>\n",
       "    </tr>\n",
       "    <tr>\n",
       "      <th>2</th>\n",
       "      <td>200501BS00003</td>\n",
       "      <td>3</td>\n",
       "      <td>1</td>\n",
       "      <td>06/01/2005</td>\n",
       "      <td>5</td>\n",
       "      <td>00:15</td>\n",
       "      <td>6</td>\n",
       "      <td>30</td>\n",
       "      <td>0</td>\n",
       "      <td>-1</td>\n",
       "      <td>4</td>\n",
       "      <td>1</td>\n",
       "      <td>1</td>\n",
       "      <td>0</td>\n",
       "      <td>1</td>\n",
       "      <td>11</td>\n",
       "      <td>1</td>\n",
       "      <td>35</td>\n",
       "      <td>6</td>\n",
       "      <td>5</td>\n",
       "    </tr>\n",
       "    <tr>\n",
       "      <th>3</th>\n",
       "      <td>200501BS00003</td>\n",
       "      <td>3</td>\n",
       "      <td>1</td>\n",
       "      <td>06/01/2005</td>\n",
       "      <td>5</td>\n",
       "      <td>00:15</td>\n",
       "      <td>6</td>\n",
       "      <td>30</td>\n",
       "      <td>0</td>\n",
       "      <td>-1</td>\n",
       "      <td>4</td>\n",
       "      <td>1</td>\n",
       "      <td>1</td>\n",
       "      <td>0</td>\n",
       "      <td>1</td>\n",
       "      <td>9</td>\n",
       "      <td>1</td>\n",
       "      <td>62</td>\n",
       "      <td>9</td>\n",
       "      <td>6</td>\n",
       "    </tr>\n",
       "    <tr>\n",
       "      <th>4</th>\n",
       "      <td>200501BS00004</td>\n",
       "      <td>3</td>\n",
       "      <td>1</td>\n",
       "      <td>07/01/2005</td>\n",
       "      <td>6</td>\n",
       "      <td>10:35</td>\n",
       "      <td>6</td>\n",
       "      <td>30</td>\n",
       "      <td>0</td>\n",
       "      <td>-1</td>\n",
       "      <td>1</td>\n",
       "      <td>1</td>\n",
       "      <td>1</td>\n",
       "      <td>0</td>\n",
       "      <td>1</td>\n",
       "      <td>9</td>\n",
       "      <td>2</td>\n",
       "      <td>49</td>\n",
       "      <td>8</td>\n",
       "      <td>4</td>\n",
       "    </tr>\n",
       "  </tbody>\n",
       "</table>\n",
       "</div>"
      ],
      "text/plain": [
       "  Accident_Index  Accident_Severity  Number_of_Casualties        Date  \\\n",
       "0  200501BS00001                  2                     1  04/01/2005   \n",
       "1  200501BS00002                  3                     1  05/01/2005   \n",
       "2  200501BS00003                  3                     1  06/01/2005   \n",
       "3  200501BS00003                  3                     1  06/01/2005   \n",
       "4  200501BS00004                  3                     1  07/01/2005   \n",
       "\n",
       "   Day_of_Week   Time  Road_Type  Speed_limit  Junction_Detail  \\\n",
       "0            3  17:42          6           30                0   \n",
       "1            4  17:36          3           30                6   \n",
       "2            5  00:15          6           30                0   \n",
       "3            5  00:15          6           30                0   \n",
       "4            6  10:35          6           30                0   \n",
       "\n",
       "   Junction_Control  Light_Conditions  Weather_Conditions  \\\n",
       "0                -1                 1                   2   \n",
       "1                 2                 4                   1   \n",
       "2                -1                 4                   1   \n",
       "3                -1                 4                   1   \n",
       "4                -1                 1                   1   \n",
       "\n",
       "   Road_Surface_Conditions  Special_Conditions_at_Site  Urban_or_Rural_Area  \\\n",
       "0                        2                           0                    1   \n",
       "1                        1                           0                    1   \n",
       "2                        1                           0                    1   \n",
       "3                        1                           0                    1   \n",
       "4                        1                           0                    1   \n",
       "\n",
       "   Vehicle_Type  Sex_of_Driver  Age_of_Driver  Age_Band_of_Driver  \\\n",
       "0             9              2             74                  10   \n",
       "1            11              1             42                   7   \n",
       "2            11              1             35                   6   \n",
       "3             9              1             62                   9   \n",
       "4             9              2             49                   8   \n",
       "\n",
       "   Age_of_Vehicle  \n",
       "0              -1  \n",
       "1               3  \n",
       "2               5  \n",
       "3               6  \n",
       "4               4  "
      ]
     },
     "execution_count": 8,
     "metadata": {},
     "output_type": "execute_result"
    }
   ],
   "source": [
    "df = pd.merge(df1,df2,on='Accident_Index')\n",
    "df.head()"
   ]
  },
  {
   "cell_type": "markdown",
   "metadata": {},
   "source": [
    "### Exploring the dataset"
   ]
  },
  {
   "cell_type": "markdown",
   "metadata": {},
   "source": [
    "##### Importing Matplotlib"
   ]
  },
  {
   "cell_type": "code",
   "execution_count": 9,
   "metadata": {},
   "outputs": [],
   "source": [
    "# we are using the inline backend\n",
    "%matplotlib inline \n",
    "\n",
    "import matplotlib as mpl\n",
    "import matplotlib.pyplot as plt\n",
    "import seaborn as sns"
   ]
  },
  {
   "cell_type": "code",
   "execution_count": 10,
   "metadata": {},
   "outputs": [
    {
     "data": {
      "text/plain": [
       "20971500"
      ]
     },
     "execution_count": 10,
     "metadata": {},
     "output_type": "execute_result"
    }
   ],
   "source": [
    "df.size"
   ]
  },
  {
   "cell_type": "code",
   "execution_count": 11,
   "metadata": {},
   "outputs": [
    {
     "data": {
      "text/plain": [
       "20969260"
      ]
     },
     "execution_count": 11,
     "metadata": {},
     "output_type": "execute_result"
    }
   ],
   "source": [
    "df = df.dropna()\n",
    "df.size"
   ]
  },
  {
   "cell_type": "markdown",
   "metadata": {},
   "source": [
    "### Remove missing data from dataset"
   ]
  },
  {
   "cell_type": "code",
   "execution_count": 12,
   "metadata": {},
   "outputs": [],
   "source": [
    "df.query('Sex_of_Driver != -1',inplace = True)\n",
    "df.query('Sex_of_Driver != 3',inplace = True)\n",
    "df.query('Age_Band_of_Driver != -1',inplace = True)\n",
    "df.query('Road_Type != -1',inplace = True)\n",
    "df.query('Junction_Detail != -1',inplace = True)\n",
    "df.query('Junction_Control != -1',inplace = True)\n",
    "df.query('Light_Conditions != -1',inplace = True)\n",
    "df.query('Weather_Conditions != -1',inplace = True)\n",
    "df.query('Road_Surface_Conditions != -1',inplace = True)\n",
    "df.query('Special_Conditions_at_Site != -1',inplace = True)\n",
    "df.query('Vehicle_Type != -1',inplace = True)\n",
    "df.query('Age_of_Driver != -1',inplace = True)\n",
    "df.query('Age_of_Vehicle != -1',inplace = True)"
   ]
  },
  {
   "cell_type": "markdown",
   "metadata": {},
   "source": [
    "After removing the missing data, the new dataset size."
   ]
  },
  {
   "cell_type": "code",
   "execution_count": 13,
   "metadata": {},
   "outputs": [
    {
     "data": {
      "text/html": [
       "<div>\n",
       "<style scoped>\n",
       "    .dataframe tbody tr th:only-of-type {\n",
       "        vertical-align: middle;\n",
       "    }\n",
       "\n",
       "    .dataframe tbody tr th {\n",
       "        vertical-align: top;\n",
       "    }\n",
       "\n",
       "    .dataframe thead th {\n",
       "        text-align: right;\n",
       "    }\n",
       "</style>\n",
       "<table border=\"1\" class=\"dataframe\">\n",
       "  <thead>\n",
       "    <tr style=\"text-align: right;\">\n",
       "      <th></th>\n",
       "      <th>Accident_Index</th>\n",
       "    </tr>\n",
       "    <tr>\n",
       "      <th>Severity</th>\n",
       "      <th></th>\n",
       "    </tr>\n",
       "  </thead>\n",
       "  <tbody>\n",
       "    <tr>\n",
       "      <th>Fatal</th>\n",
       "      <td>4893</td>\n",
       "    </tr>\n",
       "    <tr>\n",
       "      <th>Serious</th>\n",
       "      <td>47190</td>\n",
       "    </tr>\n",
       "    <tr>\n",
       "      <th>Slight</th>\n",
       "      <td>384853</td>\n",
       "    </tr>\n",
       "  </tbody>\n",
       "</table>\n",
       "</div>"
      ],
      "text/plain": [
       "          Accident_Index\n",
       "Severity                \n",
       "Fatal               4893\n",
       "Serious            47190\n",
       "Slight            384853"
      ]
     },
     "execution_count": 13,
     "metadata": {},
     "output_type": "execute_result"
    }
   ],
   "source": [
    "df_distribution = df[['Accident_Severity','Accident_Index']]\n",
    "df_distribution = df_distribution.groupby(['Accident_Severity']).count()\n",
    "\n",
    "df_distribution['Severity'] = ['Fatal','Serious','Slight']\n",
    "df_distribution.set_index('Severity',inplace= True)\n",
    "df_distribution"
   ]
  },
  {
   "cell_type": "markdown",
   "metadata": {},
   "source": [
    "### Distribution of data by severity"
   ]
  },
  {
   "cell_type": "code",
   "execution_count": 14,
   "metadata": {},
   "outputs": [
    {
     "data": {
      "text/html": [
       "<div>\n",
       "<style scoped>\n",
       "    .dataframe tbody tr th:only-of-type {\n",
       "        vertical-align: middle;\n",
       "    }\n",
       "\n",
       "    .dataframe tbody tr th {\n",
       "        vertical-align: top;\n",
       "    }\n",
       "\n",
       "    .dataframe thead th {\n",
       "        text-align: right;\n",
       "    }\n",
       "</style>\n",
       "<table border=\"1\" class=\"dataframe\">\n",
       "  <thead>\n",
       "    <tr style=\"text-align: right;\">\n",
       "      <th></th>\n",
       "      <th>Accident_Index</th>\n",
       "    </tr>\n",
       "    <tr>\n",
       "      <th>Severity</th>\n",
       "      <th></th>\n",
       "    </tr>\n",
       "  </thead>\n",
       "  <tbody>\n",
       "    <tr>\n",
       "      <th>Fatal</th>\n",
       "      <td>4893</td>\n",
       "    </tr>\n",
       "    <tr>\n",
       "      <th>Serious</th>\n",
       "      <td>47190</td>\n",
       "    </tr>\n",
       "    <tr>\n",
       "      <th>Slight</th>\n",
       "      <td>384853</td>\n",
       "    </tr>\n",
       "  </tbody>\n",
       "</table>\n",
       "</div>"
      ],
      "text/plain": [
       "          Accident_Index\n",
       "Severity                \n",
       "Fatal               4893\n",
       "Serious            47190\n",
       "Slight            384853"
      ]
     },
     "execution_count": 14,
     "metadata": {},
     "output_type": "execute_result"
    },
    {
     "data": {
      "image/png": "[encoded data removed]",
      "text/plain": [
       "<Figure size 432x288 with 1 Axes>"
      ]
     },
     "metadata": {
      "needs_background": "light"
     },
     "output_type": "display_data"
    }
   ],
   "source": [
    "df_distribution = df[['Accident_Severity','Accident_Index']]\n",
    "df_distribution = df_distribution.groupby(['Accident_Severity']).count()\n",
    "\n",
    "df_distribution['Severity'] = ['Fatal','Serious','Slight']\n",
    "df_distribution.set_index('Severity',inplace= True)\n",
    "df_distribution.plot(kind='bar')\n",
    "plt.title(\"Distribution of severity label\")\n",
    "plt.ylabel(\"Number of accidents\")\n",
    "plt.xlabel(\"Severity\")\n",
    "df_distribution"
   ]
  },
  {
   "cell_type": "code",
   "execution_count": 15,
   "metadata": {},
   "outputs": [
    {
     "data": {
      "text/plain": [
       "array([30, 50, 40, 60, 20, 70, 10])"
      ]
     },
     "execution_count": 15,
     "metadata": {},
     "output_type": "execute_result"
    }
   ],
   "source": [
    "df['Speed_limit'].unique()"
   ]
  },
  {
   "cell_type": "markdown",
   "metadata": {},
   "source": [
    "### Accidents by speed limit zone"
   ]
  },
  {
   "cell_type": "code",
   "execution_count": 16,
   "metadata": {},
   "outputs": [
    {
     "data": {
      "image/png": "[encoded data removed]",
      "text/plain": [
       "<Figure size 1152x432 with 1 Axes>"
      ]
     },
     "metadata": {
      "needs_background": "light"
     },
     "output_type": "display_data"
    }
   ],
   "source": [
    "df_speed = df[['Speed_limit','Accident_Severity','Accident_Index']]\n",
    "df_speed_count = df_speed.groupby(['Speed_limit','Accident_Severity']).count()\n",
    "\n",
    "df_speed_count.drop([10],inplace=True)\n",
    "labels = ['20','30','40 ','50','60','70']\n",
    "\n",
    "df_f = df_speed_count.query('Accident_Severity == 1')\n",
    "df_ser = df_speed_count.query('Accident_Severity == 2')\n",
    "df_sli = df_speed_count.query('Accident_Severity == 3')\n",
    "\n",
    "fatal = df_f.values.tolist()\n",
    "serious = df_ser.values.tolist()\n",
    "slight = df_sli.values.tolist()\n",
    "fatal = sum(fatal,[])\n",
    "serious = sum(serious,[])\n",
    "slight = sum(slight,[])\n",
    "\n",
    "x = np.arange(len(labels)) \n",
    "width = 0.10\n",
    "\n",
    "fig, ax = plt.subplots(figsize=(16,6))\n",
    "\n",
    "rects1 = ax.bar(x - (width), fatal, width, label='Fatal')\n",
    "rects2 = ax.bar(x + (width), serious, width, label='Serious')\n",
    "rects3 = ax.bar(x , slight, width, label = 'Slight')\n",
    "\n",
    "\n",
    "ax.set_ylabel('Accidents')\n",
    "ax.set_xlabel('Speed limit')\n",
    "ax.set_title('Accident severity by speedlimit zone')\n",
    "ax.set_xticks(x)\n",
    "ax.set_xticklabels(labels)\n",
    "ax.legend()\n",
    "\n",
    "def autolabel(rects, pos):\n",
    "    for rect in rects:\n",
    "        if(pos == 1):\n",
    "            height = rect.get_height()\n",
    "            ax.annotate('{}'.format(height),\n",
    "                       xy = (rect.get_x() + rect.get_width()/2 , height),\n",
    "                       xytext =(-8,3),\n",
    "                       textcoords=\"offset points\",\n",
    "                       ha='center',va='bottom')\n",
    "        elif (pos==2):\n",
    "            height = rect.get_height()\n",
    "            ax.annotate('{}'.format(height),\n",
    "                       xy = (rect.get_x() + rect.get_width()/2 , height),\n",
    "                       xytext =(8,0),\n",
    "                       textcoords=\"offset points\",\n",
    "                       ha='center',va='bottom')\n",
    "        else:\n",
    "            height = rect.get_height()\n",
    "            ax.annotate('{}'.format(height),\n",
    "                       xy = (rect.get_x() + rect.get_width()/2 , height),\n",
    "                       xytext =(0,8),\n",
    "                       textcoords=\"offset points\",\n",
    "                       ha='center',va='bottom')\n",
    "        \n",
    "autolabel(rects1,1)\n",
    "autolabel(rects2,2)\n",
    "autolabel(rects3,3)\n",
    "\n",
    "\n",
    "fig.tight_layout()\n",
    "plt.show()"
   ]
  },
  {
   "cell_type": "code",
   "execution_count": 17,
   "metadata": {},
   "outputs": [
    {
     "data": {
      "text/html": [
       "<div>\n",
       "<style scoped>\n",
       "    .dataframe tbody tr th:only-of-type {\n",
       "        vertical-align: middle;\n",
       "    }\n",
       "\n",
       "    .dataframe tbody tr th {\n",
       "        vertical-align: top;\n",
       "    }\n",
       "\n",
       "    .dataframe thead th {\n",
       "        text-align: right;\n",
       "    }\n",
       "</style>\n",
       "<table border=\"1\" class=\"dataframe\">\n",
       "  <thead>\n",
       "    <tr style=\"text-align: right;\">\n",
       "      <th></th>\n",
       "      <th></th>\n",
       "      <th>Accident_Index</th>\n",
       "    </tr>\n",
       "    <tr>\n",
       "      <th>Speed_limit</th>\n",
       "      <th>Accident_Severity</th>\n",
       "      <th></th>\n",
       "    </tr>\n",
       "  </thead>\n",
       "  <tbody>\n",
       "    <tr>\n",
       "      <th rowspan=\"3\" valign=\"top\">20</th>\n",
       "      <th>1</th>\n",
       "      <td>12</td>\n",
       "    </tr>\n",
       "    <tr>\n",
       "      <th>2</th>\n",
       "      <td>211</td>\n",
       "    </tr>\n",
       "    <tr>\n",
       "      <th>3</th>\n",
       "      <td>1505</td>\n",
       "    </tr>\n",
       "    <tr>\n",
       "      <th rowspan=\"3\" valign=\"top\">30</th>\n",
       "      <th>1</th>\n",
       "      <td>1725</td>\n",
       "    </tr>\n",
       "    <tr>\n",
       "      <th>2</th>\n",
       "      <td>29006</td>\n",
       "    </tr>\n",
       "    <tr>\n",
       "      <th>3</th>\n",
       "      <td>260114</td>\n",
       "    </tr>\n",
       "    <tr>\n",
       "      <th rowspan=\"3\" valign=\"top\">40</th>\n",
       "      <th>1</th>\n",
       "      <td>544</td>\n",
       "    </tr>\n",
       "    <tr>\n",
       "      <th>2</th>\n",
       "      <td>4376</td>\n",
       "    </tr>\n",
       "    <tr>\n",
       "      <th>3</th>\n",
       "      <td>37372</td>\n",
       "    </tr>\n",
       "    <tr>\n",
       "      <th rowspan=\"3\" valign=\"top\">50</th>\n",
       "      <th>1</th>\n",
       "      <td>220</td>\n",
       "    </tr>\n",
       "    <tr>\n",
       "      <th>2</th>\n",
       "      <td>1450</td>\n",
       "    </tr>\n",
       "    <tr>\n",
       "      <th>3</th>\n",
       "      <td>10740</td>\n",
       "    </tr>\n",
       "    <tr>\n",
       "      <th rowspan=\"3\" valign=\"top\">60</th>\n",
       "      <th>1</th>\n",
       "      <td>1798</td>\n",
       "    </tr>\n",
       "    <tr>\n",
       "      <th>2</th>\n",
       "      <td>9696</td>\n",
       "    </tr>\n",
       "    <tr>\n",
       "      <th>3</th>\n",
       "      <td>54240</td>\n",
       "    </tr>\n",
       "    <tr>\n",
       "      <th rowspan=\"3\" valign=\"top\">70</th>\n",
       "      <th>1</th>\n",
       "      <td>594</td>\n",
       "    </tr>\n",
       "    <tr>\n",
       "      <th>2</th>\n",
       "      <td>2451</td>\n",
       "    </tr>\n",
       "    <tr>\n",
       "      <th>3</th>\n",
       "      <td>20881</td>\n",
       "    </tr>\n",
       "  </tbody>\n",
       "</table>\n",
       "</div>"
      ],
      "text/plain": [
       "                               Accident_Index\n",
       "Speed_limit Accident_Severity                \n",
       "20          1                              12\n",
       "            2                             211\n",
       "            3                            1505\n",
       "30          1                            1725\n",
       "            2                           29006\n",
       "            3                          260114\n",
       "40          1                             544\n",
       "            2                            4376\n",
       "            3                           37372\n",
       "50          1                             220\n",
       "            2                            1450\n",
       "            3                           10740\n",
       "60          1                            1798\n",
       "            2                            9696\n",
       "            3                           54240\n",
       "70          1                             594\n",
       "            2                            2451\n",
       "            3                           20881"
      ]
     },
     "execution_count": 17,
     "metadata": {},
     "output_type": "execute_result"
    }
   ],
   "source": [
    "df_speed_count"
   ]
  },
  {
   "cell_type": "markdown",
   "metadata": {},
   "source": [
    "### Accidents by weather"
   ]
  },
  {
   "cell_type": "code",
   "execution_count": 18,
   "metadata": {},
   "outputs": [
    {
     "data": {
      "image/png": "[encoded data removed]",
      "text/plain": [
       "<Figure size 1152x432 with 1 Axes>"
      ]
     },
     "metadata": {
      "needs_background": "light"
     },
     "output_type": "display_data"
    },
    {
     "data": {
      "text/html": [
       "<div>\n",
       "<style scoped>\n",
       "    .dataframe tbody tr th:only-of-type {\n",
       "        vertical-align: middle;\n",
       "    }\n",
       "\n",
       "    .dataframe tbody tr th {\n",
       "        vertical-align: top;\n",
       "    }\n",
       "\n",
       "    .dataframe thead th {\n",
       "        text-align: right;\n",
       "    }\n",
       "</style>\n",
       "<table border=\"1\" class=\"dataframe\">\n",
       "  <thead>\n",
       "    <tr style=\"text-align: right;\">\n",
       "      <th></th>\n",
       "      <th></th>\n",
       "      <th>Accident_Index</th>\n",
       "    </tr>\n",
       "    <tr>\n",
       "      <th>Weather_Conditions</th>\n",
       "      <th>Accident_Severity</th>\n",
       "      <th></th>\n",
       "    </tr>\n",
       "  </thead>\n",
       "  <tbody>\n",
       "    <tr>\n",
       "      <th rowspan=\"3\" valign=\"top\">1</th>\n",
       "      <th>1</th>\n",
       "      <td>4195</td>\n",
       "    </tr>\n",
       "    <tr>\n",
       "      <th>2</th>\n",
       "      <td>39261</td>\n",
       "    </tr>\n",
       "    <tr>\n",
       "      <th>3</th>\n",
       "      <td>306919</td>\n",
       "    </tr>\n",
       "    <tr>\n",
       "      <th rowspan=\"3\" valign=\"top\">2</th>\n",
       "      <th>1</th>\n",
       "      <td>386</td>\n",
       "    </tr>\n",
       "    <tr>\n",
       "      <th>2</th>\n",
       "      <td>5091</td>\n",
       "    </tr>\n",
       "    <tr>\n",
       "      <th>3</th>\n",
       "      <td>48756</td>\n",
       "    </tr>\n",
       "    <tr>\n",
       "      <th rowspan=\"3\" valign=\"top\">3</th>\n",
       "      <th>1</th>\n",
       "      <td>8</td>\n",
       "    </tr>\n",
       "    <tr>\n",
       "      <th>2</th>\n",
       "      <td>142</td>\n",
       "    </tr>\n",
       "    <tr>\n",
       "      <th>3</th>\n",
       "      <td>1765</td>\n",
       "    </tr>\n",
       "    <tr>\n",
       "      <th rowspan=\"3\" valign=\"top\">4</th>\n",
       "      <th>1</th>\n",
       "      <td>85</td>\n",
       "    </tr>\n",
       "    <tr>\n",
       "      <th>2</th>\n",
       "      <td>639</td>\n",
       "    </tr>\n",
       "    <tr>\n",
       "      <th>3</th>\n",
       "      <td>4604</td>\n",
       "    </tr>\n",
       "    <tr>\n",
       "      <th rowspan=\"3\" valign=\"top\">5</th>\n",
       "      <th>1</th>\n",
       "      <td>63</td>\n",
       "    </tr>\n",
       "    <tr>\n",
       "      <th>2</th>\n",
       "      <td>582</td>\n",
       "    </tr>\n",
       "    <tr>\n",
       "      <th>3</th>\n",
       "      <td>5246</td>\n",
       "    </tr>\n",
       "    <tr>\n",
       "      <th rowspan=\"3\" valign=\"top\">6</th>\n",
       "      <th>1</th>\n",
       "      <td>4</td>\n",
       "    </tr>\n",
       "    <tr>\n",
       "      <th>2</th>\n",
       "      <td>20</td>\n",
       "    </tr>\n",
       "    <tr>\n",
       "      <th>3</th>\n",
       "      <td>221</td>\n",
       "    </tr>\n",
       "    <tr>\n",
       "      <th rowspan=\"3\" valign=\"top\">7</th>\n",
       "      <th>1</th>\n",
       "      <td>60</td>\n",
       "    </tr>\n",
       "    <tr>\n",
       "      <th>2</th>\n",
       "      <td>275</td>\n",
       "    </tr>\n",
       "    <tr>\n",
       "      <th>3</th>\n",
       "      <td>1992</td>\n",
       "    </tr>\n",
       "    <tr>\n",
       "      <th rowspan=\"3\" valign=\"top\">8</th>\n",
       "      <th>1</th>\n",
       "      <td>60</td>\n",
       "    </tr>\n",
       "    <tr>\n",
       "      <th>2</th>\n",
       "      <td>796</td>\n",
       "    </tr>\n",
       "    <tr>\n",
       "      <th>3</th>\n",
       "      <td>9230</td>\n",
       "    </tr>\n",
       "    <tr>\n",
       "      <th rowspan=\"3\" valign=\"top\">9</th>\n",
       "      <th>1</th>\n",
       "      <td>32</td>\n",
       "    </tr>\n",
       "    <tr>\n",
       "      <th>2</th>\n",
       "      <td>384</td>\n",
       "    </tr>\n",
       "    <tr>\n",
       "      <th>3</th>\n",
       "      <td>6120</td>\n",
       "    </tr>\n",
       "  </tbody>\n",
       "</table>\n",
       "</div>"
      ],
      "text/plain": [
       "                                      Accident_Index\n",
       "Weather_Conditions Accident_Severity                \n",
       "1                  1                            4195\n",
       "                   2                           39261\n",
       "                   3                          306919\n",
       "2                  1                             386\n",
       "                   2                            5091\n",
       "                   3                           48756\n",
       "3                  1                               8\n",
       "                   2                             142\n",
       "                   3                            1765\n",
       "4                  1                              85\n",
       "                   2                             639\n",
       "                   3                            4604\n",
       "5                  1                              63\n",
       "                   2                             582\n",
       "                   3                            5246\n",
       "6                  1                               4\n",
       "                   2                              20\n",
       "                   3                             221\n",
       "7                  1                              60\n",
       "                   2                             275\n",
       "                   3                            1992\n",
       "8                  1                              60\n",
       "                   2                             796\n",
       "                   3                            9230\n",
       "9                  1                              32\n",
       "                   2                             384\n",
       "                   3                            6120"
      ]
     },
     "execution_count": 18,
     "metadata": {},
     "output_type": "execute_result"
    }
   ],
   "source": [
    "df_weather = df[['Weather_Conditions','Accident_Severity','Accident_Index']]\n",
    "df_weather_count = df_weather.groupby(['Weather_Conditions','Accident_Severity']).count()\n",
    "\n",
    "labels = ['Fine','Raning','Snowing','Fine + High Winds','Raining + High Winds','Snowing + High Winds','Fog or mist','Other','Unknown']\n",
    "\n",
    "df_f = df_weather_count.query('Accident_Severity == 1')\n",
    "df_ser = df_weather_count.query('Accident_Severity == 2')\n",
    "df_sli = df_weather_count.query('Accident_Severity == 3')\n",
    "\n",
    "fatal = df_f.values.tolist()\n",
    "serious = df_ser.values.tolist()\n",
    "slight = df_sli.values.tolist()\n",
    "fatal = sum(fatal,[])\n",
    "serious = sum(serious,[])\n",
    "slight = sum(slight,[])\n",
    "\n",
    "x = np.arange(len(labels)) \n",
    "width = 0.10\n",
    "\n",
    "fig, ax = plt.subplots(figsize=(16,6))\n",
    "\n",
    "rects1 = ax.bar(x - (width), fatal, width, label='Fatal')\n",
    "rects2 = ax.bar(x + (width), serious, width, label='Serious')\n",
    "rects3 = ax.bar(x , slight, width, label = 'Slight')\n",
    "\n",
    "\n",
    "ax.set_ylabel('Accidents')\n",
    "ax.set_xlabel('Weather Conditions')\n",
    "ax.set_title('Accident severity by weather conditions')\n",
    "ax.set_xticks(x)\n",
    "ax.set_xticklabels(labels)\n",
    "ax.legend()\n",
    "\n",
    "def autolabel(rects, pos):\n",
    "    for rect in rects:\n",
    "        if(pos == 1):\n",
    "            height = rect.get_height()\n",
    "            ax.annotate('{}'.format(height),\n",
    "                       xy = (rect.get_x() + rect.get_width()/2 , height),\n",
    "                       xytext =(-8,3),\n",
    "                       textcoords=\"offset points\",\n",
    "                       ha='center',va='bottom')\n",
    "        elif (pos==2):\n",
    "            height = rect.get_height()\n",
    "            ax.annotate('{}'.format(height),\n",
    "                       xy = (rect.get_x() + rect.get_width()/2 , height),\n",
    "                       xytext =(8,0),\n",
    "                       textcoords=\"offset points\",\n",
    "                       ha='center',va='bottom')\n",
    "        else:\n",
    "            height = rect.get_height()\n",
    "            ax.annotate('{}'.format(height),\n",
    "                       xy = (rect.get_x() + rect.get_width()/2 , height),\n",
    "                       xytext =(0,8),\n",
    "                       textcoords=\"offset points\",\n",
    "                       ha='center',va='bottom')\n",
    "        \n",
    "autolabel(rects1,1)\n",
    "autolabel(rects2,2)\n",
    "autolabel(rects3,3)\n",
    "\n",
    "\n",
    "fig.tight_layout()\n",
    "plt.show()\n",
    "\n",
    "\n",
    "\n",
    "# df_weather_count['Weather']=['Fine','Raning','Snowing','Fine + High Winds','Raining + High Winds','Snowing + High Winds','Fog or mist','Other','Unknown']\n",
    "# df_weather_count.set_index('Weather',inplace = True)\n",
    "# df_weather_count.plot(kind='bar')\n",
    "# plt.title(\"Accidents per type of weather\")\n",
    "# plt.xlabel(\"Type of weather\")\n",
    "# plt.ylabel(\"Number of accidents\")\n",
    "\n",
    "df_weather_count"
   ]
  },
  {
   "cell_type": "markdown",
   "metadata": {},
   "source": [
    "### Accidents by light conditions"
   ]
  },
  {
   "cell_type": "code",
   "execution_count": 19,
   "metadata": {},
   "outputs": [
    {
     "data": {
      "image/png": "[encoded data removed]",
      "text/plain": [
       "<Figure size 864x432 with 1 Axes>"
      ]
     },
     "metadata": {
      "needs_background": "light"
     },
     "output_type": "display_data"
    },
    {
     "data": {
      "text/html": [
       "<div>\n",
       "<style scoped>\n",
       "    .dataframe tbody tr th:only-of-type {\n",
       "        vertical-align: middle;\n",
       "    }\n",
       "\n",
       "    .dataframe tbody tr th {\n",
       "        vertical-align: top;\n",
       "    }\n",
       "\n",
       "    .dataframe thead th {\n",
       "        text-align: right;\n",
       "    }\n",
       "</style>\n",
       "<table border=\"1\" class=\"dataframe\">\n",
       "  <thead>\n",
       "    <tr style=\"text-align: right;\">\n",
       "      <th></th>\n",
       "      <th></th>\n",
       "      <th>Accident_Index</th>\n",
       "    </tr>\n",
       "    <tr>\n",
       "      <th>Light_Conditions</th>\n",
       "      <th>Accident_Severity</th>\n",
       "      <th></th>\n",
       "    </tr>\n",
       "  </thead>\n",
       "  <tbody>\n",
       "    <tr>\n",
       "      <th rowspan=\"3\" valign=\"top\">1</th>\n",
       "      <th>1</th>\n",
       "      <td>3152</td>\n",
       "    </tr>\n",
       "    <tr>\n",
       "      <th>2</th>\n",
       "      <td>32985</td>\n",
       "    </tr>\n",
       "    <tr>\n",
       "      <th>3</th>\n",
       "      <td>292011</td>\n",
       "    </tr>\n",
       "    <tr>\n",
       "      <th rowspan=\"3\" valign=\"top\">4</th>\n",
       "      <th>1</th>\n",
       "      <td>1038</td>\n",
       "    </tr>\n",
       "    <tr>\n",
       "      <th>2</th>\n",
       "      <td>11196</td>\n",
       "    </tr>\n",
       "    <tr>\n",
       "      <th>3</th>\n",
       "      <td>77622</td>\n",
       "    </tr>\n",
       "    <tr>\n",
       "      <th rowspan=\"3\" valign=\"top\">5</th>\n",
       "      <th>1</th>\n",
       "      <td>21</td>\n",
       "    </tr>\n",
       "    <tr>\n",
       "      <th>2</th>\n",
       "      <td>215</td>\n",
       "    </tr>\n",
       "    <tr>\n",
       "      <th>3</th>\n",
       "      <td>1601</td>\n",
       "    </tr>\n",
       "    <tr>\n",
       "      <th rowspan=\"3\" valign=\"top\">6</th>\n",
       "      <th>1</th>\n",
       "      <td>657</td>\n",
       "    </tr>\n",
       "    <tr>\n",
       "      <th>2</th>\n",
       "      <td>2537</td>\n",
       "    </tr>\n",
       "    <tr>\n",
       "      <th>3</th>\n",
       "      <td>11166</td>\n",
       "    </tr>\n",
       "    <tr>\n",
       "      <th rowspan=\"3\" valign=\"top\">7</th>\n",
       "      <th>1</th>\n",
       "      <td>25</td>\n",
       "    </tr>\n",
       "    <tr>\n",
       "      <th>2</th>\n",
       "      <td>257</td>\n",
       "    </tr>\n",
       "    <tr>\n",
       "      <th>3</th>\n",
       "      <td>2453</td>\n",
       "    </tr>\n",
       "  </tbody>\n",
       "</table>\n",
       "</div>"
      ],
      "text/plain": [
       "                                    Accident_Index\n",
       "Light_Conditions Accident_Severity                \n",
       "1                1                            3152\n",
       "                 2                           32985\n",
       "                 3                          292011\n",
       "4                1                            1038\n",
       "                 2                           11196\n",
       "                 3                           77622\n",
       "5                1                              21\n",
       "                 2                             215\n",
       "                 3                            1601\n",
       "6                1                             657\n",
       "                 2                            2537\n",
       "                 3                           11166\n",
       "7                1                              25\n",
       "                 2                             257\n",
       "                 3                            2453"
      ]
     },
     "execution_count": 19,
     "metadata": {},
     "output_type": "execute_result"
    }
   ],
   "source": [
    "df_light = df[['Light_Conditions','Accident_Severity','Accident_Index']]\n",
    "df_light_count = df_light.groupby(['Light_Conditions','Accident_Severity']).count()\n",
    "\n",
    "labels = ['Daylight','Darkness (lit)','Darkness (unlit)','Darkness (No lighting)','Darkness (Unknown)']\n",
    "\n",
    "df_f = df_light_count.query('Accident_Severity == 1')\n",
    "df_ser = df_light_count.query('Accident_Severity == 2')\n",
    "df_sli = df_light_count.query('Accident_Severity == 3')\n",
    "\n",
    "fatal = df_f.values.tolist()\n",
    "serious = df_ser.values.tolist()\n",
    "slight = df_sli.values.tolist()\n",
    "\n",
    "fatal = sum(fatal,[])\n",
    "serious = sum(serious,[])\n",
    "slight = sum(slight,[])\n",
    "\n",
    "x = np.arange(len(labels)) \n",
    "width = 0.10\n",
    "\n",
    "fig, ax = plt.subplots(figsize=(12,6))\n",
    "\n",
    "rects1 = ax.bar(x - (width), fatal, width, label='Fatal')\n",
    "rects2 = ax.bar(x + (width), serious, width, label='Serious')\n",
    "rects3 = ax.bar(x , slight, width, label = 'Slight')\n",
    "\n",
    "\n",
    "ax.set_ylabel('Accidents')\n",
    "ax.set_title('Accident severity by light conditions')\n",
    "ax.set_xticks(x)\n",
    "ax.set_xticklabels(labels)\n",
    "ax.set_xlabel('Light Conditions')\n",
    "ax.legend()\n",
    "\n",
    "def autolabel(rects, pos):\n",
    "    for rect in rects:\n",
    "        if(pos == 1):\n",
    "            height = rect.get_height()\n",
    "            ax.annotate('{}'.format(height),\n",
    "                       xy = (rect.get_x() + rect.get_width()/2 , height),\n",
    "                       xytext =(-8,0),\n",
    "                       textcoords=\"offset points\",\n",
    "                       ha='center',va='bottom')\n",
    "        elif (pos==2):\n",
    "            height = rect.get_height()\n",
    "            ax.annotate('{}'.format(height),\n",
    "                       xy = (rect.get_x() + rect.get_width()/2 , height),\n",
    "                       xytext =(8,0),\n",
    "                       textcoords=\"offset points\",\n",
    "                       ha='center',va='bottom')\n",
    "        else:\n",
    "            height = rect.get_height()\n",
    "            ax.annotate('{}'.format(height),\n",
    "                       xy = (rect.get_x() + rect.get_width()/2 , height),\n",
    "                       xytext =(0,8),\n",
    "                       textcoords=\"offset points\",\n",
    "                       ha='center',va='bottom')\n",
    "        \n",
    "autolabel(rects1,1)\n",
    "autolabel(rects2,2)\n",
    "autolabel(rects3,3)\n",
    "\n",
    "\n",
    "fig.tight_layout()\n",
    "plt.show()\n",
    "\n",
    "df_light_count"
   ]
  },
  {
   "cell_type": "markdown",
   "metadata": {},
   "source": [
    "### Accidents by road conditions"
   ]
  },
  {
   "cell_type": "code",
   "execution_count": 20,
   "metadata": {},
   "outputs": [
    {
     "data": {
      "text/html": [
       "<div>\n",
       "<style scoped>\n",
       "    .dataframe tbody tr th:only-of-type {\n",
       "        vertical-align: middle;\n",
       "    }\n",
       "\n",
       "    .dataframe tbody tr th {\n",
       "        vertical-align: top;\n",
       "    }\n",
       "\n",
       "    .dataframe thead th {\n",
       "        text-align: right;\n",
       "    }\n",
       "</style>\n",
       "<table border=\"1\" class=\"dataframe\">\n",
       "  <thead>\n",
       "    <tr style=\"text-align: right;\">\n",
       "      <th></th>\n",
       "      <th>Accident_Index</th>\n",
       "    </tr>\n",
       "    <tr>\n",
       "      <th>RoadC</th>\n",
       "      <th></th>\n",
       "    </tr>\n",
       "  </thead>\n",
       "  <tbody>\n",
       "    <tr>\n",
       "      <th>Dry</th>\n",
       "      <td>299894</td>\n",
       "    </tr>\n",
       "    <tr>\n",
       "      <th>Wet or damp</th>\n",
       "      <td>131399</td>\n",
       "    </tr>\n",
       "    <tr>\n",
       "      <th>Snow</th>\n",
       "      <td>1139</td>\n",
       "    </tr>\n",
       "    <tr>\n",
       "      <th>Frost or ice</th>\n",
       "      <td>4209</td>\n",
       "    </tr>\n",
       "    <tr>\n",
       "      <th>Flood over 3 cm</th>\n",
       "      <td>295</td>\n",
       "    </tr>\n",
       "  </tbody>\n",
       "</table>\n",
       "</div>"
      ],
      "text/plain": [
       "                 Accident_Index\n",
       "RoadC                          \n",
       "Dry                      299894\n",
       "Wet or damp              131399\n",
       "Snow                       1139\n",
       "Frost or ice               4209\n",
       "Flood over 3 cm             295"
      ]
     },
     "execution_count": 20,
     "metadata": {},
     "output_type": "execute_result"
    },
    {
     "data": {
      "image/png": "[encoded data removed]",
      "text/plain": [
       "<Figure size 432x288 with 1 Axes>"
      ]
     },
     "metadata": {
      "needs_background": "light"
     },
     "output_type": "display_data"
    }
   ],
   "source": [
    "df_roadc = df[['Road_Surface_Conditions','Accident_Index']]\n",
    "df_roadc_count = df_roadc.groupby(['Road_Surface_Conditions']).count()\n",
    "df_roadc_count['RoadC']=['Dry','Wet or damp','Snow','Frost or ice','Flood over 3 cm']\n",
    "df_roadc_count.set_index('RoadC',inplace = True)\n",
    "df_roadc_count.plot(kind='bar')\n",
    "plt.title(\"Accidents per road conditions\")\n",
    "plt.xlabel(\"Road conditions\")\n",
    "plt.ylabel(\"Number of accidents\")\n",
    "\n",
    "df_roadc_count"
   ]
  },
  {
   "cell_type": "markdown",
   "metadata": {},
   "source": [
    "### Distribution of data by year"
   ]
  },
  {
   "cell_type": "code",
   "execution_count": 21,
   "metadata": {},
   "outputs": [
    {
     "data": {
      "text/plain": [
       "Text(0.5, 0, 'Year/Accident Severity')"
      ]
     },
     "execution_count": 21,
     "metadata": {},
     "output_type": "execute_result"
    },
    {
     "data": {
      "image/png": "[encoded data removed]",
      "text/plain": [
       "<Figure size 432x288 with 1 Axes>"
      ]
     },
     "metadata": {
      "needs_background": "light"
     },
     "output_type": "display_data"
    }
   ],
   "source": [
    "df['Date'] = df['Date'].astype('datetime64')\n",
    "df['Year'] = pd.DatetimeIndex(df['Date']).year\n",
    "df_yearly = df[['Year','Accident_Severity','Accident_Index']]\n",
    "df_yearly_count=df_yearly.groupby(['Year','Accident_Severity']).count()\n",
    "df_yearly_count.plot(kind='bar')\n",
    "plt.title(\"Accident severity by year\")\n",
    "plt.ylabel(\"Number of accidents\")\n",
    "plt.xlabel(\"Year/Accident Severity\")"
   ]
  },
  {
   "cell_type": "markdown",
   "metadata": {},
   "source": [
    "### Accidents per day of the week"
   ]
  },
  {
   "cell_type": "code",
   "execution_count": 22,
   "metadata": {},
   "outputs": [
    {
     "data": {
      "text/html": [
       "<div>\n",
       "<style scoped>\n",
       "    .dataframe tbody tr th:only-of-type {\n",
       "        vertical-align: middle;\n",
       "    }\n",
       "\n",
       "    .dataframe tbody tr th {\n",
       "        vertical-align: top;\n",
       "    }\n",
       "\n",
       "    .dataframe thead th {\n",
       "        text-align: right;\n",
       "    }\n",
       "</style>\n",
       "<table border=\"1\" class=\"dataframe\">\n",
       "  <thead>\n",
       "    <tr style=\"text-align: right;\">\n",
       "      <th></th>\n",
       "      <th>Accident_Index</th>\n",
       "    </tr>\n",
       "    <tr>\n",
       "      <th>Days</th>\n",
       "      <th></th>\n",
       "    </tr>\n",
       "  </thead>\n",
       "  <tbody>\n",
       "    <tr>\n",
       "      <th>Sunday</th>\n",
       "      <td>46635</td>\n",
       "    </tr>\n",
       "    <tr>\n",
       "      <th>Monday</th>\n",
       "      <td>62000</td>\n",
       "    </tr>\n",
       "    <tr>\n",
       "      <th>Tuesday</th>\n",
       "      <td>65157</td>\n",
       "    </tr>\n",
       "    <tr>\n",
       "      <th>Wednesday</th>\n",
       "      <td>66660</td>\n",
       "    </tr>\n",
       "    <tr>\n",
       "      <th>Thursday</th>\n",
       "      <td>65653</td>\n",
       "    </tr>\n",
       "    <tr>\n",
       "      <th>Friday</th>\n",
       "      <td>72451</td>\n",
       "    </tr>\n",
       "    <tr>\n",
       "      <th>Saturday</th>\n",
       "      <td>58380</td>\n",
       "    </tr>\n",
       "  </tbody>\n",
       "</table>\n",
       "</div>"
      ],
      "text/plain": [
       "           Accident_Index\n",
       "Days                     \n",
       "Sunday              46635\n",
       "Monday              62000\n",
       "Tuesday             65157\n",
       "Wednesday           66660\n",
       "Thursday            65653\n",
       "Friday              72451\n",
       "Saturday            58380"
      ]
     },
     "execution_count": 22,
     "metadata": {},
     "output_type": "execute_result"
    },
    {
     "data": {
      "image/png": "[encoded data removed]",
      "text/plain": [
       "<Figure size 432x288 with 1 Axes>"
      ]
     },
     "metadata": {
      "needs_background": "light"
     },
     "output_type": "display_data"
    }
   ],
   "source": [
    "df_weekday = df[['Day_of_Week','Accident_Index']]\n",
    "df_weekday_count = df_weekday.groupby(['Day_of_Week']).count()\n",
    "df_weekday_count['Days']=['Sunday','Monday','Tuesday','Wednesday','Thursday','Friday','Saturday']\n",
    "df_weekday_count.set_index('Days',inplace = True)\n",
    "df_weekday_count.plot(kind='bar')\n",
    "plt.title(\"Accidents per day of the week\")\n",
    "plt.xlabel(\"Day of the week\")\n",
    "plt.ylabel(\"Number of accidents\")\n",
    "\n",
    "df_weekday_count"
   ]
  },
  {
   "cell_type": "markdown",
   "metadata": {},
   "source": [
    "### Distribution of data by Age and Year"
   ]
  },
  {
   "cell_type": "code",
   "execution_count": 23,
   "metadata": {},
   "outputs": [
    {
     "data": {
      "text/html": [
       "<div>\n",
       "<style scoped>\n",
       "    .dataframe tbody tr th:only-of-type {\n",
       "        vertical-align: middle;\n",
       "    }\n",
       "\n",
       "    .dataframe tbody tr th {\n",
       "        vertical-align: top;\n",
       "    }\n",
       "\n",
       "    .dataframe thead th {\n",
       "        text-align: right;\n",
       "    }\n",
       "</style>\n",
       "<table border=\"1\" class=\"dataframe\">\n",
       "  <thead>\n",
       "    <tr style=\"text-align: right;\">\n",
       "      <th></th>\n",
       "      <th>Accident_Index</th>\n",
       "    </tr>\n",
       "    <tr>\n",
       "      <th>Sex</th>\n",
       "      <th></th>\n",
       "    </tr>\n",
       "  </thead>\n",
       "  <tbody>\n",
       "    <tr>\n",
       "      <th>Male</th>\n",
       "      <td>290954</td>\n",
       "    </tr>\n",
       "    <tr>\n",
       "      <th>Female</th>\n",
       "      <td>145982</td>\n",
       "    </tr>\n",
       "  </tbody>\n",
       "</table>\n",
       "</div>"
      ],
      "text/plain": [
       "        Accident_Index\n",
       "Sex                   \n",
       "Male            290954\n",
       "Female          145982"
      ]
     },
     "execution_count": 23,
     "metadata": {},
     "output_type": "execute_result"
    },
    {
     "data": {
      "image/png": "[encoded data removed]",
      "text/plain": [
       "<Figure size 432x288 with 1 Axes>"
      ]
     },
     "metadata": {
      "needs_background": "light"
     },
     "output_type": "display_data"
    }
   ],
   "source": [
    "df_sex = df[['Sex_of_Driver','Accident_Index']]\n",
    "df_sex = df_sex.groupby(['Sex_of_Driver']).count()\n",
    "\n",
    "df_sex['Sex'] = ['Male','Female']\n",
    "df_sex.set_index('Sex',inplace=True)\n",
    "\n",
    "df_sex.plot(kind='bar')\n",
    "plt.title(\"Number of accidents vs sex of driver\")\n",
    "plt.xlabel(\"Sex\")\n",
    "plt.ylabel(\"Number of accidents\")\n",
    "df_sex"
   ]
  },
  {
   "cell_type": "code",
   "execution_count": 24,
   "metadata": {},
   "outputs": [
    {
     "data": {
      "text/html": [
       "<div>\n",
       "<style scoped>\n",
       "    .dataframe tbody tr th:only-of-type {\n",
       "        vertical-align: middle;\n",
       "    }\n",
       "\n",
       "    .dataframe tbody tr th {\n",
       "        vertical-align: top;\n",
       "    }\n",
       "\n",
       "    .dataframe thead th {\n",
       "        text-align: right;\n",
       "    }\n",
       "</style>\n",
       "<table border=\"1\" class=\"dataframe\">\n",
       "  <thead>\n",
       "    <tr style=\"text-align: right;\">\n",
       "      <th></th>\n",
       "      <th>Accident_Index</th>\n",
       "    </tr>\n",
       "    <tr>\n",
       "      <th>Age Range</th>\n",
       "      <th></th>\n",
       "    </tr>\n",
       "  </thead>\n",
       "  <tbody>\n",
       "    <tr>\n",
       "      <th>6-10</th>\n",
       "      <td>4</td>\n",
       "    </tr>\n",
       "    <tr>\n",
       "      <th>11-15</th>\n",
       "      <td>238</td>\n",
       "    </tr>\n",
       "    <tr>\n",
       "      <th>16-20</th>\n",
       "      <td>53505</td>\n",
       "    </tr>\n",
       "    <tr>\n",
       "      <th>21-25</th>\n",
       "      <td>55631</td>\n",
       "    </tr>\n",
       "    <tr>\n",
       "      <th>26-35</th>\n",
       "      <td>100511</td>\n",
       "    </tr>\n",
       "    <tr>\n",
       "      <th>36-45</th>\n",
       "      <td>97478</td>\n",
       "    </tr>\n",
       "    <tr>\n",
       "      <th>46-55</th>\n",
       "      <td>62721</td>\n",
       "    </tr>\n",
       "    <tr>\n",
       "      <th>56-65</th>\n",
       "      <td>39330</td>\n",
       "    </tr>\n",
       "    <tr>\n",
       "      <th>66-75</th>\n",
       "      <td>17258</td>\n",
       "    </tr>\n",
       "    <tr>\n",
       "      <th>Over 75</th>\n",
       "      <td>10260</td>\n",
       "    </tr>\n",
       "  </tbody>\n",
       "</table>\n",
       "</div>"
      ],
      "text/plain": [
       "           Accident_Index\n",
       "Age Range                \n",
       "6-10                    4\n",
       "11-15                 238\n",
       "16-20               53505\n",
       "21-25               55631\n",
       "26-35              100511\n",
       "36-45               97478\n",
       "46-55               62721\n",
       "56-65               39330\n",
       "66-75               17258\n",
       "Over 75             10260"
      ]
     },
     "execution_count": 24,
     "metadata": {},
     "output_type": "execute_result"
    },
    {
     "data": {
      "image/png": "[encoded data removed]",
      "text/plain": [
       "<Figure size 432x288 with 1 Axes>"
      ]
     },
     "metadata": {
      "needs_background": "light"
     },
     "output_type": "display_data"
    }
   ],
   "source": [
    "df_age = df[['Age_Band_of_Driver','Accident_Index']]\n",
    "df_age = df_age.groupby(['Age_Band_of_Driver']).count()\n",
    "df_age['Age Range']=['6-10','11-15','16-20','21-25','26-35','36-45','46-55','56-65','66-75','Over 75']\n",
    "df_age.set_index('Age Range',inplace = True)\n",
    "df_age.plot(kind='bar')\n",
    "plt.title(\"Number of accidents vs age of driver\")\n",
    "plt.xlabel(\"Age range\")\n",
    "plt.ylabel(\"Number of accidents\")\n",
    "df_age"
   ]
  },
  {
   "cell_type": "markdown",
   "metadata": {},
   "source": [
    "### Balancing the data"
   ]
  },
  {
   "cell_type": "markdown",
   "metadata": {},
   "source": [
    "From previous charts we can see that the data is not balanced therefore we will do some undersampling of the data that is more abundant to balance it. A sample size will be used accordingly."
   ]
  },
  {
   "cell_type": "code",
   "execution_count": 25,
   "metadata": {},
   "outputs": [],
   "source": [
    "df_f = df.query('Accident_Severity == 1')\n",
    "df_ser = df.query('Accident_Severity == 2')\n",
    "df_sli= df.query('Accident_Severity == 3')"
   ]
  },
  {
   "cell_type": "code",
   "execution_count": 26,
   "metadata": {},
   "outputs": [],
   "source": [
    "# df_f = df_f.sample(n=38)\n",
    "# df_ser = df_ser.sample(n=418)\n",
    "# df_sli = df_sli.sample(n=3344)\n",
    "df_f = df_f.sample(n=3800)\n",
    "df_ser = df_ser.sample(n=3800)\n",
    "df_sli = df_sli.sample(n=3800)"
   ]
  },
  {
   "cell_type": "code",
   "execution_count": 27,
   "metadata": {},
   "outputs": [
    {
     "data": {
      "text/html": [
       "<div>\n",
       "<style scoped>\n",
       "    .dataframe tbody tr th:only-of-type {\n",
       "        vertical-align: middle;\n",
       "    }\n",
       "\n",
       "    .dataframe tbody tr th {\n",
       "        vertical-align: top;\n",
       "    }\n",
       "\n",
       "    .dataframe thead th {\n",
       "        text-align: right;\n",
       "    }\n",
       "</style>\n",
       "<table border=\"1\" class=\"dataframe\">\n",
       "  <thead>\n",
       "    <tr style=\"text-align: right;\">\n",
       "      <th></th>\n",
       "      <th>Accident_Index</th>\n",
       "      <th>Accident_Severity</th>\n",
       "      <th>Number_of_Casualties</th>\n",
       "      <th>Date</th>\n",
       "      <th>Day_of_Week</th>\n",
       "      <th>Time</th>\n",
       "      <th>Road_Type</th>\n",
       "      <th>Speed_limit</th>\n",
       "      <th>Junction_Detail</th>\n",
       "      <th>Junction_Control</th>\n",
       "      <th>...</th>\n",
       "      <th>Weather_Conditions</th>\n",
       "      <th>Road_Surface_Conditions</th>\n",
       "      <th>Special_Conditions_at_Site</th>\n",
       "      <th>Urban_or_Rural_Area</th>\n",
       "      <th>Vehicle_Type</th>\n",
       "      <th>Sex_of_Driver</th>\n",
       "      <th>Age_of_Driver</th>\n",
       "      <th>Age_Band_of_Driver</th>\n",
       "      <th>Age_of_Vehicle</th>\n",
       "      <th>Year</th>\n",
       "    </tr>\n",
       "  </thead>\n",
       "  <tbody>\n",
       "    <tr>\n",
       "      <th>299038</th>\n",
       "      <td>200550C43L226</td>\n",
       "      <td>1</td>\n",
       "      <td>1</td>\n",
       "      <td>2005-08-29</td>\n",
       "      <td>2</td>\n",
       "      <td>15:05</td>\n",
       "      <td>6</td>\n",
       "      <td>60</td>\n",
       "      <td>0</td>\n",
       "      <td>0</td>\n",
       "      <td>...</td>\n",
       "      <td>1</td>\n",
       "      <td>1</td>\n",
       "      <td>0</td>\n",
       "      <td>2</td>\n",
       "      <td>9</td>\n",
       "      <td>1</td>\n",
       "      <td>65</td>\n",
       "      <td>9</td>\n",
       "      <td>8</td>\n",
       "      <td>2005</td>\n",
       "    </tr>\n",
       "    <tr>\n",
       "      <th>646017</th>\n",
       "      <td>200650A41H818</td>\n",
       "      <td>1</td>\n",
       "      <td>4</td>\n",
       "      <td>2006-06-29</td>\n",
       "      <td>5</td>\n",
       "      <td>22:25</td>\n",
       "      <td>6</td>\n",
       "      <td>60</td>\n",
       "      <td>0</td>\n",
       "      <td>0</td>\n",
       "      <td>...</td>\n",
       "      <td>1</td>\n",
       "      <td>1</td>\n",
       "      <td>0</td>\n",
       "      <td>2</td>\n",
       "      <td>9</td>\n",
       "      <td>1</td>\n",
       "      <td>17</td>\n",
       "      <td>4</td>\n",
       "      <td>12</td>\n",
       "      <td>2006</td>\n",
       "    </tr>\n",
       "    <tr>\n",
       "      <th>31314</th>\n",
       "      <td>200501TA00169</td>\n",
       "      <td>1</td>\n",
       "      <td>1</td>\n",
       "      <td>2005-07-14</td>\n",
       "      <td>5</td>\n",
       "      <td>08:15</td>\n",
       "      <td>2</td>\n",
       "      <td>30</td>\n",
       "      <td>3</td>\n",
       "      <td>4</td>\n",
       "      <td>...</td>\n",
       "      <td>1</td>\n",
       "      <td>1</td>\n",
       "      <td>0</td>\n",
       "      <td>1</td>\n",
       "      <td>21</td>\n",
       "      <td>1</td>\n",
       "      <td>24</td>\n",
       "      <td>5</td>\n",
       "      <td>8</td>\n",
       "      <td>2005</td>\n",
       "    </tr>\n",
       "    <tr>\n",
       "      <th>463985</th>\n",
       "      <td>200611CG07440</td>\n",
       "      <td>1</td>\n",
       "      <td>2</td>\n",
       "      <td>2006-04-14</td>\n",
       "      <td>6</td>\n",
       "      <td>16:40</td>\n",
       "      <td>6</td>\n",
       "      <td>30</td>\n",
       "      <td>3</td>\n",
       "      <td>4</td>\n",
       "      <td>...</td>\n",
       "      <td>1</td>\n",
       "      <td>1</td>\n",
       "      <td>0</td>\n",
       "      <td>1</td>\n",
       "      <td>5</td>\n",
       "      <td>1</td>\n",
       "      <td>77</td>\n",
       "      <td>11</td>\n",
       "      <td>26</td>\n",
       "      <td>2006</td>\n",
       "    </tr>\n",
       "    <tr>\n",
       "      <th>343167</th>\n",
       "      <td>200563DP10605</td>\n",
       "      <td>1</td>\n",
       "      <td>2</td>\n",
       "      <td>2005-03-18</td>\n",
       "      <td>6</td>\n",
       "      <td>11:08</td>\n",
       "      <td>6</td>\n",
       "      <td>30</td>\n",
       "      <td>6</td>\n",
       "      <td>3</td>\n",
       "      <td>...</td>\n",
       "      <td>1</td>\n",
       "      <td>1</td>\n",
       "      <td>3</td>\n",
       "      <td>2</td>\n",
       "      <td>21</td>\n",
       "      <td>1</td>\n",
       "      <td>55</td>\n",
       "      <td>8</td>\n",
       "      <td>4</td>\n",
       "      <td>2005</td>\n",
       "    </tr>\n",
       "  </tbody>\n",
       "</table>\n",
       "<p>5 rows × 21 columns</p>\n",
       "</div>"
      ],
      "text/plain": [
       "       Accident_Index  Accident_Severity  Number_of_Casualties       Date  \\\n",
       "299038  200550C43L226                  1                     1 2005-08-29   \n",
       "646017  200650A41H818                  1                     4 2006-06-29   \n",
       "31314   200501TA00169                  1                     1 2005-07-14   \n",
       "463985  200611CG07440                  1                     2 2006-04-14   \n",
       "343167  200563DP10605                  1                     2 2005-03-18   \n",
       "\n",
       "        Day_of_Week   Time  Road_Type  Speed_limit  Junction_Detail  \\\n",
       "299038            2  15:05          6           60                0   \n",
       "646017            5  22:25          6           60                0   \n",
       "31314             5  08:15          2           30                3   \n",
       "463985            6  16:40          6           30                3   \n",
       "343167            6  11:08          6           30                6   \n",
       "\n",
       "        Junction_Control  ...  Weather_Conditions  Road_Surface_Conditions  \\\n",
       "299038                 0  ...                   1                        1   \n",
       "646017                 0  ...                   1                        1   \n",
       "31314                  4  ...                   1                        1   \n",
       "463985                 4  ...                   1                        1   \n",
       "343167                 3  ...                   1                        1   \n",
       "\n",
       "        Special_Conditions_at_Site  Urban_or_Rural_Area  Vehicle_Type  \\\n",
       "299038                           0                    2             9   \n",
       "646017                           0                    2             9   \n",
       "31314                            0                    1            21   \n",
       "463985                           0                    1             5   \n",
       "343167                           3                    2            21   \n",
       "\n",
       "        Sex_of_Driver  Age_of_Driver  Age_Band_of_Driver  Age_of_Vehicle  Year  \n",
       "299038              1             65                   9               8  2005  \n",
       "646017              1             17                   4              12  2006  \n",
       "31314               1             24                   5               8  2005  \n",
       "463985              1             77                  11              26  2006  \n",
       "343167              1             55                   8               4  2005  \n",
       "\n",
       "[5 rows x 21 columns]"
      ]
     },
     "execution_count": 27,
     "metadata": {},
     "output_type": "execute_result"
    }
   ],
   "source": [
    "frames = [df_f, df_ser, df_sli]\n",
    "df = pd.concat(frames)\n",
    "df.head()"
   ]
  },
  {
   "cell_type": "code",
   "execution_count": 28,
   "metadata": {},
   "outputs": [
    {
     "data": {
      "text/html": [
       "<div>\n",
       "<style scoped>\n",
       "    .dataframe tbody tr th:only-of-type {\n",
       "        vertical-align: middle;\n",
       "    }\n",
       "\n",
       "    .dataframe tbody tr th {\n",
       "        vertical-align: top;\n",
       "    }\n",
       "\n",
       "    .dataframe thead th {\n",
       "        text-align: right;\n",
       "    }\n",
       "</style>\n",
       "<table border=\"1\" class=\"dataframe\">\n",
       "  <thead>\n",
       "    <tr style=\"text-align: right;\">\n",
       "      <th></th>\n",
       "      <th>Accident_Index</th>\n",
       "    </tr>\n",
       "    <tr>\n",
       "      <th>Severity</th>\n",
       "      <th></th>\n",
       "    </tr>\n",
       "  </thead>\n",
       "  <tbody>\n",
       "    <tr>\n",
       "      <th>Fatal</th>\n",
       "      <td>3800</td>\n",
       "    </tr>\n",
       "    <tr>\n",
       "      <th>Serious</th>\n",
       "      <td>3800</td>\n",
       "    </tr>\n",
       "    <tr>\n",
       "      <th>Slight</th>\n",
       "      <td>3800</td>\n",
       "    </tr>\n",
       "  </tbody>\n",
       "</table>\n",
       "</div>"
      ],
      "text/plain": [
       "          Accident_Index\n",
       "Severity                \n",
       "Fatal               3800\n",
       "Serious             3800\n",
       "Slight              3800"
      ]
     },
     "execution_count": 28,
     "metadata": {},
     "output_type": "execute_result"
    },
    {
     "data": {
      "image/png": "[encoded data removed]",
      "text/plain": [
       "<Figure size 432x288 with 1 Axes>"
      ]
     },
     "metadata": {
      "needs_background": "light"
     },
     "output_type": "display_data"
    }
   ],
   "source": [
    "df_distribution = df[['Accident_Severity','Accident_Index']]\n",
    "df_distribution = df_distribution.groupby(['Accident_Severity']).count()\n",
    "\n",
    "df_distribution['Severity'] = ['Fatal','Serious','Slight']\n",
    "df_distribution.set_index('Severity',inplace= True)\n",
    "df_distribution.plot(kind='bar')\n",
    "plt.title(\"Distribution of severity label\")\n",
    "plt.ylabel(\"Number of accidents\")\n",
    "plt.xlabel(\"Severity\")\n",
    "df_distribution"
   ]
  },
  {
   "cell_type": "markdown",
   "metadata": {},
   "source": [
    "### Convert Numerical features to categorical values"
   ]
  },
  {
   "cell_type": "code",
   "execution_count": 29,
   "metadata": {},
   "outputs": [
    {
     "data": {
      "text/html": [
       "<div>\n",
       "<style scoped>\n",
       "    .dataframe tbody tr th:only-of-type {\n",
       "        vertical-align: middle;\n",
       "    }\n",
       "\n",
       "    .dataframe tbody tr th {\n",
       "        vertical-align: top;\n",
       "    }\n",
       "\n",
       "    .dataframe thead th {\n",
       "        text-align: right;\n",
       "    }\n",
       "</style>\n",
       "<table border=\"1\" class=\"dataframe\">\n",
       "  <thead>\n",
       "    <tr style=\"text-align: right;\">\n",
       "      <th></th>\n",
       "      <th>Accident_Index</th>\n",
       "      <th>Accident_Severity</th>\n",
       "      <th>Number_of_Casualties</th>\n",
       "      <th>Date</th>\n",
       "      <th>Day_of_Week</th>\n",
       "      <th>Time</th>\n",
       "      <th>Road_Type</th>\n",
       "      <th>Speed_limit</th>\n",
       "      <th>Junction_Detail</th>\n",
       "      <th>Junction_Control</th>\n",
       "      <th>...</th>\n",
       "      <th>Weather_Conditions</th>\n",
       "      <th>Road_Surface_Conditions</th>\n",
       "      <th>Special_Conditions_at_Site</th>\n",
       "      <th>Urban_or_Rural_Area</th>\n",
       "      <th>Vehicle_Type</th>\n",
       "      <th>Sex_of_Driver</th>\n",
       "      <th>Age_of_Driver</th>\n",
       "      <th>Age_Band_of_Driver</th>\n",
       "      <th>Age_of_Vehicle</th>\n",
       "      <th>Year</th>\n",
       "    </tr>\n",
       "  </thead>\n",
       "  <tbody>\n",
       "    <tr>\n",
       "      <th>299038</th>\n",
       "      <td>200550C43L226</td>\n",
       "      <td>1</td>\n",
       "      <td>1</td>\n",
       "      <td>2005-08-29</td>\n",
       "      <td>2</td>\n",
       "      <td>15:05</td>\n",
       "      <td>6</td>\n",
       "      <td>60</td>\n",
       "      <td>0</td>\n",
       "      <td>0</td>\n",
       "      <td>...</td>\n",
       "      <td>1</td>\n",
       "      <td>1</td>\n",
       "      <td>0</td>\n",
       "      <td>2</td>\n",
       "      <td>9</td>\n",
       "      <td>1</td>\n",
       "      <td>65</td>\n",
       "      <td>9</td>\n",
       "      <td>8</td>\n",
       "      <td>2005</td>\n",
       "    </tr>\n",
       "    <tr>\n",
       "      <th>646017</th>\n",
       "      <td>200650A41H818</td>\n",
       "      <td>1</td>\n",
       "      <td>4</td>\n",
       "      <td>2006-06-29</td>\n",
       "      <td>5</td>\n",
       "      <td>22:25</td>\n",
       "      <td>6</td>\n",
       "      <td>60</td>\n",
       "      <td>0</td>\n",
       "      <td>0</td>\n",
       "      <td>...</td>\n",
       "      <td>1</td>\n",
       "      <td>1</td>\n",
       "      <td>0</td>\n",
       "      <td>2</td>\n",
       "      <td>9</td>\n",
       "      <td>1</td>\n",
       "      <td>17</td>\n",
       "      <td>4</td>\n",
       "      <td>12</td>\n",
       "      <td>2006</td>\n",
       "    </tr>\n",
       "    <tr>\n",
       "      <th>31314</th>\n",
       "      <td>200501TA00169</td>\n",
       "      <td>1</td>\n",
       "      <td>1</td>\n",
       "      <td>2005-07-14</td>\n",
       "      <td>5</td>\n",
       "      <td>08:15</td>\n",
       "      <td>2</td>\n",
       "      <td>30</td>\n",
       "      <td>3</td>\n",
       "      <td>4</td>\n",
       "      <td>...</td>\n",
       "      <td>1</td>\n",
       "      <td>1</td>\n",
       "      <td>0</td>\n",
       "      <td>1</td>\n",
       "      <td>21</td>\n",
       "      <td>1</td>\n",
       "      <td>24</td>\n",
       "      <td>5</td>\n",
       "      <td>8</td>\n",
       "      <td>2005</td>\n",
       "    </tr>\n",
       "    <tr>\n",
       "      <th>463985</th>\n",
       "      <td>200611CG07440</td>\n",
       "      <td>1</td>\n",
       "      <td>2</td>\n",
       "      <td>2006-04-14</td>\n",
       "      <td>6</td>\n",
       "      <td>16:40</td>\n",
       "      <td>6</td>\n",
       "      <td>30</td>\n",
       "      <td>3</td>\n",
       "      <td>4</td>\n",
       "      <td>...</td>\n",
       "      <td>1</td>\n",
       "      <td>1</td>\n",
       "      <td>0</td>\n",
       "      <td>1</td>\n",
       "      <td>5</td>\n",
       "      <td>1</td>\n",
       "      <td>77</td>\n",
       "      <td>11</td>\n",
       "      <td>26</td>\n",
       "      <td>2006</td>\n",
       "    </tr>\n",
       "    <tr>\n",
       "      <th>343167</th>\n",
       "      <td>200563DP10605</td>\n",
       "      <td>1</td>\n",
       "      <td>2</td>\n",
       "      <td>2005-03-18</td>\n",
       "      <td>6</td>\n",
       "      <td>11:08</td>\n",
       "      <td>6</td>\n",
       "      <td>30</td>\n",
       "      <td>6</td>\n",
       "      <td>3</td>\n",
       "      <td>...</td>\n",
       "      <td>1</td>\n",
       "      <td>1</td>\n",
       "      <td>3</td>\n",
       "      <td>2</td>\n",
       "      <td>21</td>\n",
       "      <td>1</td>\n",
       "      <td>55</td>\n",
       "      <td>8</td>\n",
       "      <td>4</td>\n",
       "      <td>2005</td>\n",
       "    </tr>\n",
       "  </tbody>\n",
       "</table>\n",
       "<p>5 rows × 21 columns</p>\n",
       "</div>"
      ],
      "text/plain": [
       "       Accident_Index  Accident_Severity  Number_of_Casualties       Date  \\\n",
       "299038  200550C43L226                  1                     1 2005-08-29   \n",
       "646017  200650A41H818                  1                     4 2006-06-29   \n",
       "31314   200501TA00169                  1                     1 2005-07-14   \n",
       "463985  200611CG07440                  1                     2 2006-04-14   \n",
       "343167  200563DP10605                  1                     2 2005-03-18   \n",
       "\n",
       "        Day_of_Week   Time  Road_Type  Speed_limit  Junction_Detail  \\\n",
       "299038            2  15:05          6           60                0   \n",
       "646017            5  22:25          6           60                0   \n",
       "31314             5  08:15          2           30                3   \n",
       "463985            6  16:40          6           30                3   \n",
       "343167            6  11:08          6           30                6   \n",
       "\n",
       "        Junction_Control  ...  Weather_Conditions  Road_Surface_Conditions  \\\n",
       "299038                 0  ...                   1                        1   \n",
       "646017                 0  ...                   1                        1   \n",
       "31314                  4  ...                   1                        1   \n",
       "463985                 4  ...                   1                        1   \n",
       "343167                 3  ...                   1                        1   \n",
       "\n",
       "        Special_Conditions_at_Site  Urban_or_Rural_Area  Vehicle_Type  \\\n",
       "299038                           0                    2             9   \n",
       "646017                           0                    2             9   \n",
       "31314                            0                    1            21   \n",
       "463985                           0                    1             5   \n",
       "343167                           3                    2            21   \n",
       "\n",
       "        Sex_of_Driver  Age_of_Driver  Age_Band_of_Driver  Age_of_Vehicle  Year  \n",
       "299038              1             65                   9               8  2005  \n",
       "646017              1             17                   4              12  2006  \n",
       "31314               1             24                   5               8  2005  \n",
       "463985              1             77                  11              26  2006  \n",
       "343167              1             55                   8               4  2005  \n",
       "\n",
       "[5 rows x 21 columns]"
      ]
     },
     "execution_count": 29,
     "metadata": {},
     "output_type": "execute_result"
    }
   ],
   "source": [
    "df['Sex_of_Driver'].replace(to_replace=[1,2], value=[1,0],inplace=True)\n",
    "df.head()"
   ]
  },
  {
   "cell_type": "code",
   "execution_count": 30,
   "metadata": {},
   "outputs": [],
   "source": [
    "### ROAD CONDITION\n",
    "roadtype = ['Roundabout','One-way street','Dual carriageway','Single carriageway','Slip Road','Unknown','One-way street']\n",
    "values_roadtype = [1,2,3,6,7,9,12]\n",
    "df['Road_Type'].replace(to_replace=values_roadtype, value=roadtype,inplace=True)\n",
    "\n",
    "### COLUMNS TO DROP\n",
    "to_drop = ['Accident_Index','Junction_Detail','Special_Conditions_at_Site','Urban_or_Rural_Area','Age_of_Driver','Age_of_Vehicle','Year','Vehicle_Type']\n",
    "df.drop(columns=to_drop, inplace = True)\n",
    "\n",
    "### JUNCTION CONTROL\n",
    "junctionc = ['Not a junction','Authorised person','Auto traffic signal','Stop sign','Uncontrolled']\n",
    "values_junctionc = [0,1,2,3,4]\n",
    "df['Junction_Control'].replace(to_replace=values_junctionc, value=junctionc,inplace=True)\n",
    "\n",
    "### LIGHT CONDITIONS\n",
    "lightc = ['Daylight','Darkness (lit)','Darkness (unlit)','Darkness (No lighting)','Darkness (Unknown)']\n",
    "values_lightc = [1,4,5,6,7]\n",
    "df['Light_Conditions'].replace(to_replace=values_lightc, value=lightc,inplace=True)\n",
    "\n",
    "### WEATHER CONDITIONS\n",
    "weatherc = ['Fine','Raning','Snowing','Fine + High Winds','Raining + High Winds','Snowing + High Winds','Fog or mist','Other','Unknown']\n",
    "values_weatherc= [1,2,3,4,5,6,7,8,9]\n",
    "df['Weather_Conditions'].replace(to_replace=values_weatherc, value=weatherc,inplace=True)\n",
    "\n",
    "### ROAD SURFACE CONDTIONS\n",
    "roadsc = ['Dry','Wet or damp','Snow','Frost or ice','Flood over 3 cm','Oil or diesel','Mud']\n",
    "values_roadsc = [1,2,3,4,5,6,7]\n",
    "df['Road_Surface_Conditions'].replace(to_replace=values_roadsc, value=roadsc,inplace=True)"
   ]
  },
  {
   "cell_type": "markdown",
   "metadata": {},
   "source": [
    "### Get dummy variables"
   ]
  },
  {
   "cell_type": "code",
   "execution_count": 31,
   "metadata": {},
   "outputs": [
    {
     "data": {
      "text/plain": [
       "299038    15\n",
       "646017    22\n",
       "31314      8\n",
       "463985    16\n",
       "343167    11\n",
       "Name: Time, dtype: int64"
      ]
     },
     "execution_count": 31,
     "metadata": {},
     "output_type": "execute_result"
    }
   ],
   "source": [
    "df['Date'] = df['Date'].map(dt.datetime.toordinal)\n",
    "df['Time'] = pd.to_datetime(df['Time'],format = '%H:%M')\n",
    "df['Time'] = df['Time'].dt.hour\n",
    "#df['Date'] = df['Date'].map(dt.datetime.toordinal)\n",
    "#df['Time'] = (df['Time'].time.hour * 60 + df['Time'].time.minute) * 60\n",
    "df['Time'].head()\n",
    "#df['Time'] = df['Time'].map(dt.datetime.toordinal)\n",
    "# for row in df['Time']:\n",
    "#     if row == '12:01':\n",
    "#         print(df.Time.to_string(index=False))\n",
    "#df.dtypes"
   ]
  },
  {
   "cell_type": "code",
   "execution_count": 32,
   "metadata": {},
   "outputs": [
    {
     "data": {
      "text/html": [
       "<div>\n",
       "<style scoped>\n",
       "    .dataframe tbody tr th:only-of-type {\n",
       "        vertical-align: middle;\n",
       "    }\n",
       "\n",
       "    .dataframe tbody tr th {\n",
       "        vertical-align: top;\n",
       "    }\n",
       "\n",
       "    .dataframe thead th {\n",
       "        text-align: right;\n",
       "    }\n",
       "</style>\n",
       "<table border=\"1\" class=\"dataframe\">\n",
       "  <thead>\n",
       "    <tr style=\"text-align: right;\">\n",
       "      <th></th>\n",
       "      <th>Accident_Severity</th>\n",
       "      <th>Number_of_Casualties</th>\n",
       "      <th>Date</th>\n",
       "      <th>Day_of_Week</th>\n",
       "      <th>Time</th>\n",
       "      <th>Speed_limit</th>\n",
       "      <th>Sex_of_Driver</th>\n",
       "      <th>Age_Band_of_Driver</th>\n",
       "      <th>Road_Type_Dual carriageway</th>\n",
       "      <th>Road_Type_One-way street</th>\n",
       "      <th>...</th>\n",
       "      <th>Weather_Conditions_Raining + High Winds</th>\n",
       "      <th>Weather_Conditions_Raning</th>\n",
       "      <th>Weather_Conditions_Snowing</th>\n",
       "      <th>Weather_Conditions_Snowing + High Winds</th>\n",
       "      <th>Weather_Conditions_Unknown</th>\n",
       "      <th>Road_Surface_Conditions_Dry</th>\n",
       "      <th>Road_Surface_Conditions_Flood over 3 cm</th>\n",
       "      <th>Road_Surface_Conditions_Frost or ice</th>\n",
       "      <th>Road_Surface_Conditions_Snow</th>\n",
       "      <th>Road_Surface_Conditions_Wet or damp</th>\n",
       "    </tr>\n",
       "  </thead>\n",
       "  <tbody>\n",
       "    <tr>\n",
       "      <th>299038</th>\n",
       "      <td>1</td>\n",
       "      <td>1</td>\n",
       "      <td>732187</td>\n",
       "      <td>2</td>\n",
       "      <td>15</td>\n",
       "      <td>60</td>\n",
       "      <td>1</td>\n",
       "      <td>9</td>\n",
       "      <td>0</td>\n",
       "      <td>0</td>\n",
       "      <td>...</td>\n",
       "      <td>0</td>\n",
       "      <td>0</td>\n",
       "      <td>0</td>\n",
       "      <td>0</td>\n",
       "      <td>0</td>\n",
       "      <td>1</td>\n",
       "      <td>0</td>\n",
       "      <td>0</td>\n",
       "      <td>0</td>\n",
       "      <td>0</td>\n",
       "    </tr>\n",
       "    <tr>\n",
       "      <th>646017</th>\n",
       "      <td>1</td>\n",
       "      <td>4</td>\n",
       "      <td>732491</td>\n",
       "      <td>5</td>\n",
       "      <td>22</td>\n",
       "      <td>60</td>\n",
       "      <td>1</td>\n",
       "      <td>4</td>\n",
       "      <td>0</td>\n",
       "      <td>0</td>\n",
       "      <td>...</td>\n",
       "      <td>0</td>\n",
       "      <td>0</td>\n",
       "      <td>0</td>\n",
       "      <td>0</td>\n",
       "      <td>0</td>\n",
       "      <td>1</td>\n",
       "      <td>0</td>\n",
       "      <td>0</td>\n",
       "      <td>0</td>\n",
       "      <td>0</td>\n",
       "    </tr>\n",
       "    <tr>\n",
       "      <th>31314</th>\n",
       "      <td>1</td>\n",
       "      <td>1</td>\n",
       "      <td>732141</td>\n",
       "      <td>5</td>\n",
       "      <td>8</td>\n",
       "      <td>30</td>\n",
       "      <td>1</td>\n",
       "      <td>5</td>\n",
       "      <td>0</td>\n",
       "      <td>1</td>\n",
       "      <td>...</td>\n",
       "      <td>0</td>\n",
       "      <td>0</td>\n",
       "      <td>0</td>\n",
       "      <td>0</td>\n",
       "      <td>0</td>\n",
       "      <td>1</td>\n",
       "      <td>0</td>\n",
       "      <td>0</td>\n",
       "      <td>0</td>\n",
       "      <td>0</td>\n",
       "    </tr>\n",
       "    <tr>\n",
       "      <th>463985</th>\n",
       "      <td>1</td>\n",
       "      <td>2</td>\n",
       "      <td>732415</td>\n",
       "      <td>6</td>\n",
       "      <td>16</td>\n",
       "      <td>30</td>\n",
       "      <td>1</td>\n",
       "      <td>11</td>\n",
       "      <td>0</td>\n",
       "      <td>0</td>\n",
       "      <td>...</td>\n",
       "      <td>0</td>\n",
       "      <td>0</td>\n",
       "      <td>0</td>\n",
       "      <td>0</td>\n",
       "      <td>0</td>\n",
       "      <td>1</td>\n",
       "      <td>0</td>\n",
       "      <td>0</td>\n",
       "      <td>0</td>\n",
       "      <td>0</td>\n",
       "    </tr>\n",
       "    <tr>\n",
       "      <th>343167</th>\n",
       "      <td>1</td>\n",
       "      <td>2</td>\n",
       "      <td>732023</td>\n",
       "      <td>6</td>\n",
       "      <td>11</td>\n",
       "      <td>30</td>\n",
       "      <td>1</td>\n",
       "      <td>8</td>\n",
       "      <td>0</td>\n",
       "      <td>0</td>\n",
       "      <td>...</td>\n",
       "      <td>0</td>\n",
       "      <td>0</td>\n",
       "      <td>0</td>\n",
       "      <td>0</td>\n",
       "      <td>0</td>\n",
       "      <td>1</td>\n",
       "      <td>0</td>\n",
       "      <td>0</td>\n",
       "      <td>0</td>\n",
       "      <td>0</td>\n",
       "    </tr>\n",
       "  </tbody>\n",
       "</table>\n",
       "<p>5 rows × 38 columns</p>\n",
       "</div>"
      ],
      "text/plain": [
       "        Accident_Severity  Number_of_Casualties    Date  Day_of_Week  Time  \\\n",
       "299038                  1                     1  732187            2    15   \n",
       "646017                  1                     4  732491            5    22   \n",
       "31314                   1                     1  732141            5     8   \n",
       "463985                  1                     2  732415            6    16   \n",
       "343167                  1                     2  732023            6    11   \n",
       "\n",
       "        Speed_limit  Sex_of_Driver  Age_Band_of_Driver  \\\n",
       "299038           60              1                   9   \n",
       "646017           60              1                   4   \n",
       "31314            30              1                   5   \n",
       "463985           30              1                  11   \n",
       "343167           30              1                   8   \n",
       "\n",
       "        Road_Type_Dual carriageway  Road_Type_One-way street  ...  \\\n",
       "299038                           0                         0  ...   \n",
       "646017                           0                         0  ...   \n",
       "31314                            0                         1  ...   \n",
       "463985                           0                         0  ...   \n",
       "343167                           0                         0  ...   \n",
       "\n",
       "        Weather_Conditions_Raining + High Winds  Weather_Conditions_Raning  \\\n",
       "299038                                        0                          0   \n",
       "646017                                        0                          0   \n",
       "31314                                         0                          0   \n",
       "463985                                        0                          0   \n",
       "343167                                        0                          0   \n",
       "\n",
       "        Weather_Conditions_Snowing  Weather_Conditions_Snowing + High Winds  \\\n",
       "299038                           0                                        0   \n",
       "646017                           0                                        0   \n",
       "31314                            0                                        0   \n",
       "463985                           0                                        0   \n",
       "343167                           0                                        0   \n",
       "\n",
       "        Weather_Conditions_Unknown  Road_Surface_Conditions_Dry  \\\n",
       "299038                           0                            1   \n",
       "646017                           0                            1   \n",
       "31314                            0                            1   \n",
       "463985                           0                            1   \n",
       "343167                           0                            1   \n",
       "\n",
       "        Road_Surface_Conditions_Flood over 3 cm  \\\n",
       "299038                                        0   \n",
       "646017                                        0   \n",
       "31314                                         0   \n",
       "463985                                        0   \n",
       "343167                                        0   \n",
       "\n",
       "        Road_Surface_Conditions_Frost or ice  Road_Surface_Conditions_Snow  \\\n",
       "299038                                     0                             0   \n",
       "646017                                     0                             0   \n",
       "31314                                      0                             0   \n",
       "463985                                     0                             0   \n",
       "343167                                     0                             0   \n",
       "\n",
       "        Road_Surface_Conditions_Wet or damp  \n",
       "299038                                    0  \n",
       "646017                                    0  \n",
       "31314                                     0  \n",
       "463985                                    0  \n",
       "343167                                    0  \n",
       "\n",
       "[5 rows x 38 columns]"
      ]
     },
     "execution_count": 32,
     "metadata": {},
     "output_type": "execute_result"
    }
   ],
   "source": [
    "dummies_required = ['Road_Type','Junction_Control','Light_Conditions','Weather_Conditions','Road_Surface_Conditions']\n",
    "#df_features = df['Accident_Severity']\n",
    "df = pd.concat([df,pd.get_dummies(df[dummies_required])],axis=1)\n",
    "df.drop(dummies_required,axis=1,inplace=True)\n",
    "df.head()"
   ]
  },
  {
   "cell_type": "code",
   "execution_count": 33,
   "metadata": {},
   "outputs": [
    {
     "name": "stdout",
     "output_type": "stream",
     "text": [
      "Accident_Severity\n",
      "Number_of_Casualties\n",
      "Date\n",
      "Day_of_Week\n",
      "Time\n",
      "Speed_limit\n",
      "Sex_of_Driver\n",
      "Age_Band_of_Driver\n",
      "Road_Type_Dual carriageway\n",
      "Road_Type_One-way street\n",
      "Road_Type_Roundabout\n",
      "Road_Type_Single carriageway\n",
      "Road_Type_Slip Road\n",
      "Road_Type_Unknown\n",
      "Junction_Control_Authorised person\n",
      "Junction_Control_Auto traffic signal\n",
      "Junction_Control_Not a junction\n",
      "Junction_Control_Stop sign\n",
      "Junction_Control_Uncontrolled\n",
      "Light_Conditions_Darkness (No lighting)\n",
      "Light_Conditions_Darkness (Unknown)\n",
      "Light_Conditions_Darkness (lit)\n",
      "Light_Conditions_Darkness (unlit)\n",
      "Light_Conditions_Daylight\n",
      "Weather_Conditions_Fine\n",
      "Weather_Conditions_Fine + High Winds\n",
      "Weather_Conditions_Fog or mist\n",
      "Weather_Conditions_Other\n",
      "Weather_Conditions_Raining + High Winds\n",
      "Weather_Conditions_Raning\n",
      "Weather_Conditions_Snowing\n",
      "Weather_Conditions_Snowing + High Winds\n",
      "Weather_Conditions_Unknown\n",
      "Road_Surface_Conditions_Dry\n",
      "Road_Surface_Conditions_Flood over 3 cm\n",
      "Road_Surface_Conditions_Frost or ice\n",
      "Road_Surface_Conditions_Snow\n",
      "Road_Surface_Conditions_Wet or damp\n"
     ]
    }
   ],
   "source": [
    "for col in df.columns:\n",
    "    print(col)\n",
    "#df.head()\n"
   ]
  },
  {
   "cell_type": "code",
   "execution_count": 34,
   "metadata": {},
   "outputs": [
    {
     "data": {
      "text/html": [
       "<div>\n",
       "<style scoped>\n",
       "    .dataframe tbody tr th:only-of-type {\n",
       "        vertical-align: middle;\n",
       "    }\n",
       "\n",
       "    .dataframe tbody tr th {\n",
       "        vertical-align: top;\n",
       "    }\n",
       "\n",
       "    .dataframe thead th {\n",
       "        text-align: right;\n",
       "    }\n",
       "</style>\n",
       "<table border=\"1\" class=\"dataframe\">\n",
       "  <thead>\n",
       "    <tr style=\"text-align: right;\">\n",
       "      <th></th>\n",
       "      <th>Accident_Severity</th>\n",
       "      <th>Number_of_Casualties</th>\n",
       "      <th>Date</th>\n",
       "      <th>Day_of_Week</th>\n",
       "      <th>Time</th>\n",
       "      <th>Speed_limit</th>\n",
       "      <th>Sex_of_Driver</th>\n",
       "      <th>Age_Band_of_Driver</th>\n",
       "      <th>Road_Type_Dual carriageway</th>\n",
       "      <th>Road_Type_One-way street</th>\n",
       "      <th>...</th>\n",
       "      <th>Weather_Conditions_Raining + High Winds</th>\n",
       "      <th>Weather_Conditions_Raning</th>\n",
       "      <th>Weather_Conditions_Snowing</th>\n",
       "      <th>Weather_Conditions_Snowing + High Winds</th>\n",
       "      <th>Weather_Conditions_Unknown</th>\n",
       "      <th>Road_Surface_Conditions_Dry</th>\n",
       "      <th>Road_Surface_Conditions_Flood over 3 cm</th>\n",
       "      <th>Road_Surface_Conditions_Frost or ice</th>\n",
       "      <th>Road_Surface_Conditions_Snow</th>\n",
       "      <th>Road_Surface_Conditions_Wet or damp</th>\n",
       "    </tr>\n",
       "  </thead>\n",
       "  <tbody>\n",
       "    <tr>\n",
       "      <th>187329</th>\n",
       "      <td>3</td>\n",
       "      <td>1</td>\n",
       "      <td>732003</td>\n",
       "      <td>7</td>\n",
       "      <td>17</td>\n",
       "      <td>30</td>\n",
       "      <td>0</td>\n",
       "      <td>5</td>\n",
       "      <td>0</td>\n",
       "      <td>0</td>\n",
       "      <td>...</td>\n",
       "      <td>0</td>\n",
       "      <td>0</td>\n",
       "      <td>0</td>\n",
       "      <td>0</td>\n",
       "      <td>0</td>\n",
       "      <td>1</td>\n",
       "      <td>0</td>\n",
       "      <td>0</td>\n",
       "      <td>0</td>\n",
       "      <td>0</td>\n",
       "    </tr>\n",
       "    <tr>\n",
       "      <th>555456</th>\n",
       "      <td>2</td>\n",
       "      <td>1</td>\n",
       "      <td>732317</td>\n",
       "      <td>5</td>\n",
       "      <td>16</td>\n",
       "      <td>30</td>\n",
       "      <td>1</td>\n",
       "      <td>8</td>\n",
       "      <td>0</td>\n",
       "      <td>0</td>\n",
       "      <td>...</td>\n",
       "      <td>0</td>\n",
       "      <td>0</td>\n",
       "      <td>0</td>\n",
       "      <td>0</td>\n",
       "      <td>0</td>\n",
       "      <td>1</td>\n",
       "      <td>0</td>\n",
       "      <td>0</td>\n",
       "      <td>0</td>\n",
       "      <td>0</td>\n",
       "    </tr>\n",
       "    <tr>\n",
       "      <th>364483</th>\n",
       "      <td>1</td>\n",
       "      <td>2</td>\n",
       "      <td>732127</td>\n",
       "      <td>5</td>\n",
       "      <td>14</td>\n",
       "      <td>60</td>\n",
       "      <td>1</td>\n",
       "      <td>8</td>\n",
       "      <td>0</td>\n",
       "      <td>0</td>\n",
       "      <td>...</td>\n",
       "      <td>0</td>\n",
       "      <td>0</td>\n",
       "      <td>0</td>\n",
       "      <td>0</td>\n",
       "      <td>0</td>\n",
       "      <td>1</td>\n",
       "      <td>0</td>\n",
       "      <td>0</td>\n",
       "      <td>0</td>\n",
       "      <td>0</td>\n",
       "    </tr>\n",
       "    <tr>\n",
       "      <th>642590</th>\n",
       "      <td>3</td>\n",
       "      <td>1</td>\n",
       "      <td>732594</td>\n",
       "      <td>3</td>\n",
       "      <td>15</td>\n",
       "      <td>60</td>\n",
       "      <td>1</td>\n",
       "      <td>9</td>\n",
       "      <td>0</td>\n",
       "      <td>0</td>\n",
       "      <td>...</td>\n",
       "      <td>0</td>\n",
       "      <td>0</td>\n",
       "      <td>0</td>\n",
       "      <td>0</td>\n",
       "      <td>0</td>\n",
       "      <td>1</td>\n",
       "      <td>0</td>\n",
       "      <td>0</td>\n",
       "      <td>0</td>\n",
       "      <td>0</td>\n",
       "    </tr>\n",
       "    <tr>\n",
       "      <th>27650</th>\n",
       "      <td>3</td>\n",
       "      <td>2</td>\n",
       "      <td>732045</td>\n",
       "      <td>1</td>\n",
       "      <td>15</td>\n",
       "      <td>30</td>\n",
       "      <td>1</td>\n",
       "      <td>5</td>\n",
       "      <td>1</td>\n",
       "      <td>0</td>\n",
       "      <td>...</td>\n",
       "      <td>0</td>\n",
       "      <td>0</td>\n",
       "      <td>0</td>\n",
       "      <td>0</td>\n",
       "      <td>0</td>\n",
       "      <td>1</td>\n",
       "      <td>0</td>\n",
       "      <td>0</td>\n",
       "      <td>0</td>\n",
       "      <td>0</td>\n",
       "    </tr>\n",
       "    <tr>\n",
       "      <th>...</th>\n",
       "      <td>...</td>\n",
       "      <td>...</td>\n",
       "      <td>...</td>\n",
       "      <td>...</td>\n",
       "      <td>...</td>\n",
       "      <td>...</td>\n",
       "      <td>...</td>\n",
       "      <td>...</td>\n",
       "      <td>...</td>\n",
       "      <td>...</td>\n",
       "      <td>...</td>\n",
       "      <td>...</td>\n",
       "      <td>...</td>\n",
       "      <td>...</td>\n",
       "      <td>...</td>\n",
       "      <td>...</td>\n",
       "      <td>...</td>\n",
       "      <td>...</td>\n",
       "      <td>...</td>\n",
       "      <td>...</td>\n",
       "      <td>...</td>\n",
       "    </tr>\n",
       "    <tr>\n",
       "      <th>609584</th>\n",
       "      <td>3</td>\n",
       "      <td>1</td>\n",
       "      <td>732447</td>\n",
       "      <td>3</td>\n",
       "      <td>14</td>\n",
       "      <td>20</td>\n",
       "      <td>0</td>\n",
       "      <td>4</td>\n",
       "      <td>0</td>\n",
       "      <td>0</td>\n",
       "      <td>...</td>\n",
       "      <td>0</td>\n",
       "      <td>0</td>\n",
       "      <td>0</td>\n",
       "      <td>0</td>\n",
       "      <td>0</td>\n",
       "      <td>1</td>\n",
       "      <td>0</td>\n",
       "      <td>0</td>\n",
       "      <td>0</td>\n",
       "      <td>0</td>\n",
       "    </tr>\n",
       "    <tr>\n",
       "      <th>434968</th>\n",
       "      <td>2</td>\n",
       "      <td>1</td>\n",
       "      <td>732666</td>\n",
       "      <td>5</td>\n",
       "      <td>15</td>\n",
       "      <td>30</td>\n",
       "      <td>0</td>\n",
       "      <td>7</td>\n",
       "      <td>0</td>\n",
       "      <td>0</td>\n",
       "      <td>...</td>\n",
       "      <td>0</td>\n",
       "      <td>0</td>\n",
       "      <td>0</td>\n",
       "      <td>0</td>\n",
       "      <td>0</td>\n",
       "      <td>1</td>\n",
       "      <td>0</td>\n",
       "      <td>0</td>\n",
       "      <td>0</td>\n",
       "      <td>0</td>\n",
       "    </tr>\n",
       "    <tr>\n",
       "      <th>975457</th>\n",
       "      <td>1</td>\n",
       "      <td>2</td>\n",
       "      <td>732763</td>\n",
       "      <td>4</td>\n",
       "      <td>11</td>\n",
       "      <td>70</td>\n",
       "      <td>0</td>\n",
       "      <td>4</td>\n",
       "      <td>1</td>\n",
       "      <td>0</td>\n",
       "      <td>...</td>\n",
       "      <td>0</td>\n",
       "      <td>0</td>\n",
       "      <td>0</td>\n",
       "      <td>0</td>\n",
       "      <td>0</td>\n",
       "      <td>1</td>\n",
       "      <td>0</td>\n",
       "      <td>0</td>\n",
       "      <td>0</td>\n",
       "      <td>0</td>\n",
       "    </tr>\n",
       "    <tr>\n",
       "      <th>941078</th>\n",
       "      <td>1</td>\n",
       "      <td>3</td>\n",
       "      <td>732958</td>\n",
       "      <td>2</td>\n",
       "      <td>18</td>\n",
       "      <td>60</td>\n",
       "      <td>1</td>\n",
       "      <td>4</td>\n",
       "      <td>0</td>\n",
       "      <td>0</td>\n",
       "      <td>...</td>\n",
       "      <td>0</td>\n",
       "      <td>0</td>\n",
       "      <td>0</td>\n",
       "      <td>0</td>\n",
       "      <td>0</td>\n",
       "      <td>1</td>\n",
       "      <td>0</td>\n",
       "      <td>0</td>\n",
       "      <td>0</td>\n",
       "      <td>0</td>\n",
       "    </tr>\n",
       "    <tr>\n",
       "      <th>276590</th>\n",
       "      <td>1</td>\n",
       "      <td>1</td>\n",
       "      <td>731992</td>\n",
       "      <td>3</td>\n",
       "      <td>22</td>\n",
       "      <td>60</td>\n",
       "      <td>1</td>\n",
       "      <td>8</td>\n",
       "      <td>1</td>\n",
       "      <td>0</td>\n",
       "      <td>...</td>\n",
       "      <td>0</td>\n",
       "      <td>0</td>\n",
       "      <td>0</td>\n",
       "      <td>0</td>\n",
       "      <td>0</td>\n",
       "      <td>1</td>\n",
       "      <td>0</td>\n",
       "      <td>0</td>\n",
       "      <td>0</td>\n",
       "      <td>0</td>\n",
       "    </tr>\n",
       "  </tbody>\n",
       "</table>\n",
       "<p>11400 rows × 38 columns</p>\n",
       "</div>"
      ],
      "text/plain": [
       "        Accident_Severity  Number_of_Casualties    Date  Day_of_Week  Time  \\\n",
       "187329                  3                     1  732003            7    17   \n",
       "555456                  2                     1  732317            5    16   \n",
       "364483                  1                     2  732127            5    14   \n",
       "642590                  3                     1  732594            3    15   \n",
       "27650                   3                     2  732045            1    15   \n",
       "...                   ...                   ...     ...          ...   ...   \n",
       "609584                  3                     1  732447            3    14   \n",
       "434968                  2                     1  732666            5    15   \n",
       "975457                  1                     2  732763            4    11   \n",
       "941078                  1                     3  732958            2    18   \n",
       "276590                  1                     1  731992            3    22   \n",
       "\n",
       "        Speed_limit  Sex_of_Driver  Age_Band_of_Driver  \\\n",
       "187329           30              0                   5   \n",
       "555456           30              1                   8   \n",
       "364483           60              1                   8   \n",
       "642590           60              1                   9   \n",
       "27650            30              1                   5   \n",
       "...             ...            ...                 ...   \n",
       "609584           20              0                   4   \n",
       "434968           30              0                   7   \n",
       "975457           70              0                   4   \n",
       "941078           60              1                   4   \n",
       "276590           60              1                   8   \n",
       "\n",
       "        Road_Type_Dual carriageway  Road_Type_One-way street  ...  \\\n",
       "187329                           0                         0  ...   \n",
       "555456                           0                         0  ...   \n",
       "364483                           0                         0  ...   \n",
       "642590                           0                         0  ...   \n",
       "27650                            1                         0  ...   \n",
       "...                            ...                       ...  ...   \n",
       "609584                           0                         0  ...   \n",
       "434968                           0                         0  ...   \n",
       "975457                           1                         0  ...   \n",
       "941078                           0                         0  ...   \n",
       "276590                           1                         0  ...   \n",
       "\n",
       "        Weather_Conditions_Raining + High Winds  Weather_Conditions_Raning  \\\n",
       "187329                                        0                          0   \n",
       "555456                                        0                          0   \n",
       "364483                                        0                          0   \n",
       "642590                                        0                          0   \n",
       "27650                                         0                          0   \n",
       "...                                         ...                        ...   \n",
       "609584                                        0                          0   \n",
       "434968                                        0                          0   \n",
       "975457                                        0                          0   \n",
       "941078                                        0                          0   \n",
       "276590                                        0                          0   \n",
       "\n",
       "        Weather_Conditions_Snowing  Weather_Conditions_Snowing + High Winds  \\\n",
       "187329                           0                                        0   \n",
       "555456                           0                                        0   \n",
       "364483                           0                                        0   \n",
       "642590                           0                                        0   \n",
       "27650                            0                                        0   \n",
       "...                            ...                                      ...   \n",
       "609584                           0                                        0   \n",
       "434968                           0                                        0   \n",
       "975457                           0                                        0   \n",
       "941078                           0                                        0   \n",
       "276590                           0                                        0   \n",
       "\n",
       "        Weather_Conditions_Unknown  Road_Surface_Conditions_Dry  \\\n",
       "187329                           0                            1   \n",
       "555456                           0                            1   \n",
       "364483                           0                            1   \n",
       "642590                           0                            1   \n",
       "27650                            0                            1   \n",
       "...                            ...                          ...   \n",
       "609584                           0                            1   \n",
       "434968                           0                            1   \n",
       "975457                           0                            1   \n",
       "941078                           0                            1   \n",
       "276590                           0                            1   \n",
       "\n",
       "        Road_Surface_Conditions_Flood over 3 cm  \\\n",
       "187329                                        0   \n",
       "555456                                        0   \n",
       "364483                                        0   \n",
       "642590                                        0   \n",
       "27650                                         0   \n",
       "...                                         ...   \n",
       "609584                                        0   \n",
       "434968                                        0   \n",
       "975457                                        0   \n",
       "941078                                        0   \n",
       "276590                                        0   \n",
       "\n",
       "        Road_Surface_Conditions_Frost or ice  Road_Surface_Conditions_Snow  \\\n",
       "187329                                     0                             0   \n",
       "555456                                     0                             0   \n",
       "364483                                     0                             0   \n",
       "642590                                     0                             0   \n",
       "27650                                      0                             0   \n",
       "...                                      ...                           ...   \n",
       "609584                                     0                             0   \n",
       "434968                                     0                             0   \n",
       "975457                                     0                             0   \n",
       "941078                                     0                             0   \n",
       "276590                                     0                             0   \n",
       "\n",
       "        Road_Surface_Conditions_Wet or damp  \n",
       "187329                                    0  \n",
       "555456                                    0  \n",
       "364483                                    0  \n",
       "642590                                    0  \n",
       "27650                                     0  \n",
       "...                                     ...  \n",
       "609584                                    0  \n",
       "434968                                    0  \n",
       "975457                                    0  \n",
       "941078                                    0  \n",
       "276590                                    0  \n",
       "\n",
       "[11400 rows x 38 columns]"
      ]
     },
     "execution_count": 34,
     "metadata": {},
     "output_type": "execute_result"
    }
   ],
   "source": [
    "### SHUFFLE\n",
    "df.sample(frac=1)"
   ]
  },
  {
   "cell_type": "markdown",
   "metadata": {},
   "source": [
    "### K Nearest Neighbor (KNN)"
   ]
  },
  {
   "cell_type": "code",
   "execution_count": 35,
   "metadata": {},
   "outputs": [],
   "source": [
    "# # Split X into train and test \n",
    "X = df"
   ]
  },
  {
   "cell_type": "code",
   "execution_count": 36,
   "metadata": {},
   "outputs": [
    {
     "data": {
      "text/plain": [
       "array([1, 1, 1, 1, 1])"
      ]
     },
     "execution_count": 36,
     "metadata": {},
     "output_type": "execute_result"
    }
   ],
   "source": [
    "y = df['Accident_Severity'].values\n",
    "y[0:5]"
   ]
  },
  {
   "cell_type": "code",
   "execution_count": 37,
   "metadata": {},
   "outputs": [
    {
     "data": {
      "text/plain": [
       "array([[-1.22474487, -0.48263597, -1.02290283, -1.05549943,  0.21825478,\n",
       "         1.20903361,  0.583833  ,  1.23631118, -0.42282612, -0.12843584,\n",
       "        -0.26782597,  0.5787008 , -0.10988113, -0.06434186, -0.04593152,\n",
       "        -0.36295773,  2.37883974, -0.11968758, -1.59247611, -0.27305556,\n",
       "        -0.08353551, -0.52578779, -0.06834353,  0.65082749,  0.46000642,\n",
       "        -0.12486072, -0.09263796, -0.13864405, -0.11931   , -0.34315688,\n",
       "        -0.05221794, -0.02649995, -0.09595207,  0.65629482, -0.03246137,\n",
       "        -0.08246404, -0.03748975, -0.64196141],\n",
       "       [-1.22474487,  1.46223858, -0.06563019,  0.46160911,  1.53750427,\n",
       "         1.20903361,  0.583833  , -1.52179987, -0.42282612, -0.12843584,\n",
       "        -0.26782597,  0.5787008 , -0.10988113, -0.06434186, -0.04593152,\n",
       "        -0.36295773,  2.37883974, -0.11968758, -1.59247611,  3.66225839,\n",
       "        -0.08353551, -0.52578779, -0.06834353, -1.53650547,  0.46000642,\n",
       "        -0.12486072, -0.09263796, -0.13864405, -0.11931   , -0.34315688,\n",
       "        -0.05221794, -0.02649995, -0.09595207,  0.65629482, -0.03246137,\n",
       "        -0.08246404, -0.03748975, -0.64196141],\n",
       "       [-1.22474487, -0.48263597, -1.1677533 ,  0.46160911, -1.1009947 ,\n",
       "        -0.79946445,  0.583833  , -0.97017766, -0.42282612,  7.7859888 ,\n",
       "        -0.26782597, -1.72800868, -0.10988113, -0.06434186, -0.04593152,\n",
       "        -0.36295773, -0.420373  , -0.11968758,  0.62795291, -0.27305556,\n",
       "        -0.08353551, -0.52578779, -0.06834353,  0.65082749,  0.46000642,\n",
       "        -0.12486072, -0.09263796, -0.13864405, -0.11931   , -0.34315688,\n",
       "        -0.05221794, -0.02649995, -0.09595207,  0.65629482, -0.03246137,\n",
       "        -0.08246404, -0.03748975, -0.64196141],\n",
       "       [-1.22474487,  0.16565554, -0.30494835,  0.96731195,  0.406719  ,\n",
       "        -0.79946445,  0.583833  ,  2.3395556 , -0.42282612, -0.12843584,\n",
       "        -0.26782597,  0.5787008 , -0.10988113, -0.06434186, -0.04593152,\n",
       "        -0.36295773, -0.420373  , -0.11968758,  0.62795291, -0.27305556,\n",
       "        -0.08353551, -0.52578779, -0.06834353,  0.65082749,  0.46000642,\n",
       "        -0.12486072, -0.09263796, -0.13864405, -0.11931   , -0.34315688,\n",
       "        -0.05221794, -0.02649995, -0.09595207,  0.65629482, -0.03246137,\n",
       "        -0.08246404, -0.03748975, -0.64196141],\n",
       "       [-1.22474487,  0.16565554, -1.53932623,  0.96731195, -0.53560207,\n",
       "        -0.79946445,  0.583833  ,  0.68468897, -0.42282612, -0.12843584,\n",
       "        -0.26782597,  0.5787008 , -0.10988113, -0.06434186, -0.04593152,\n",
       "        -0.36295773, -0.420373  ,  8.35508548, -1.59247611, -0.27305556,\n",
       "        -0.08353551, -0.52578779, -0.06834353,  0.65082749,  0.46000642,\n",
       "        -0.12486072, -0.09263796, -0.13864405, -0.11931   , -0.34315688,\n",
       "        -0.05221794, -0.02649995, -0.09595207,  0.65629482, -0.03246137,\n",
       "        -0.08246404, -0.03748975, -0.64196141]])"
      ]
     },
     "execution_count": 37,
     "metadata": {},
     "output_type": "execute_result"
    }
   ],
   "source": [
    "X = preprocessing.StandardScaler().fit(X).transform(X.astype(float))\n",
    "X[0:5]"
   ]
  },
  {
   "cell_type": "markdown",
   "metadata": {},
   "source": [
    "### Train/test split"
   ]
  },
  {
   "cell_type": "code",
   "execution_count": 38,
   "metadata": {},
   "outputs": [
    {
     "name": "stdout",
     "output_type": "stream",
     "text": [
      "Train set: (9120, 38) (9120,)\n",
      "Test set: (2280, 38) (2280,)\n"
     ]
    }
   ],
   "source": [
    "from sklearn.model_selection import train_test_split\n",
    "X_train, X_test, y_train, y_test = train_test_split(X, y, test_size=0.2, random_state=4,stratify=y)\n",
    "print ('Train set:', X_train.shape,  y_train.shape)\n",
    "print ('Test set:', X_test.shape,  y_test.shape)"
   ]
  },
  {
   "cell_type": "code",
   "execution_count": 39,
   "metadata": {},
   "outputs": [
    {
     "data": {
      "text/plain": [
       "KNeighborsClassifier(n_neighbors=3)"
      ]
     },
     "execution_count": 39,
     "metadata": {},
     "output_type": "execute_result"
    }
   ],
   "source": [
    "# Modeling\n",
    "from sklearn.neighbors import KNeighborsClassifier\n",
    "k = 3\n",
    "#Train Model and Predict\n",
    "kNN_model = KNeighborsClassifier(n_neighbors=k).fit(X_train,y_train)\n",
    "kNN_model"
   ]
  },
  {
   "cell_type": "code",
   "execution_count": 40,
   "metadata": {},
   "outputs": [
    {
     "data": {
      "text/plain": [
       "array([2, 1, 2, 2, 2])"
      ]
     },
     "execution_count": 40,
     "metadata": {},
     "output_type": "execute_result"
    }
   ],
   "source": [
    "yhat = kNN_model.predict(X_test)\n",
    "yhat[0:5]"
   ]
  },
  {
   "cell_type": "code",
   "execution_count": 41,
   "metadata": {},
   "outputs": [
    {
     "data": {
      "image/png": "[encoded data removed]",
      "text/plain": [
       "<Figure size 432x288 with 1 Axes>"
      ]
     },
     "metadata": {
      "needs_background": "light"
     },
     "output_type": "display_data"
    }
   ],
   "source": [
    "# Best k\n",
    "Ks=15\n",
    "mean_acc=np.zeros((Ks-1))\n",
    "std_acc=np.zeros((Ks-1))\n",
    "ConfustionMx=[];\n",
    "for n in range(1,Ks):\n",
    "    \n",
    "    #Train Model and Predict  \n",
    "    kNN_model = KNeighborsClassifier(n_neighbors=n).fit(X_train,y_train)\n",
    "    yhat = kNN_model.predict(X_test)\n",
    "    \n",
    "    \n",
    "    mean_acc[n-1]=np.mean(yhat==y_test);\n",
    "    \n",
    "    std_acc[n-1]=np.std(yhat==y_test)/np.sqrt(yhat.shape[0])\n",
    "mean_acc\n",
    "\n",
    "plt.plot(range(1,Ks),mean_acc,'g')\n",
    "plt.fill_between(range(1,Ks),mean_acc - 1 * std_acc,mean_acc + 1 * std_acc, alpha=0.10)\n",
    "plt.legend(('Accuracy ', '+/- 3xstd'))\n",
    "plt.ylabel('Accuracy ')\n",
    "plt.xlabel('Number of Nabors (K)')\n",
    "plt.tight_layout()\n",
    "plt.show()"
   ]
  },
  {
   "cell_type": "code",
   "execution_count": 42,
   "metadata": {},
   "outputs": [
    {
     "data": {
      "text/plain": [
       "KNeighborsClassifier(n_neighbors=7)"
      ]
     },
     "execution_count": 42,
     "metadata": {},
     "output_type": "execute_result"
    }
   ],
   "source": [
    "from sklearn.neighbors import KNeighborsClassifier\n",
    "k = 7\n",
    "#Train Model and Predict  \n",
    "kNN_model = KNeighborsClassifier(n_neighbors=k).fit(X_train,y_train)\n",
    "kNN_model"
   ]
  },
  {
   "cell_type": "markdown",
   "metadata": {},
   "source": [
    "### Decision Tree"
   ]
  },
  {
   "cell_type": "code",
   "execution_count": 43,
   "metadata": {},
   "outputs": [
    {
     "data": {
      "text/plain": [
       "DecisionTreeClassifier(criterion='entropy', max_depth=4)"
      ]
     },
     "execution_count": 43,
     "metadata": {},
     "output_type": "execute_result"
    }
   ],
   "source": [
    "from sklearn.tree import DecisionTreeClassifier\n",
    "DT_model = DecisionTreeClassifier(criterion=\"entropy\", max_depth = 4)\n",
    "DT_model.fit(X_train,y_train)\n",
    "DT_model"
   ]
  },
  {
   "cell_type": "code",
   "execution_count": 44,
   "metadata": {},
   "outputs": [
    {
     "data": {
      "text/plain": [
       "array([2, 1, 2, ..., 1, 3, 3])"
      ]
     },
     "execution_count": 44,
     "metadata": {},
     "output_type": "execute_result"
    }
   ],
   "source": [
    "yhat = DT_model.predict(X_test)\n",
    "yhat"
   ]
  },
  {
   "cell_type": "markdown",
   "metadata": {},
   "source": [
    "### Support Vector Machine"
   ]
  },
  {
   "cell_type": "code",
   "execution_count": 45,
   "metadata": {},
   "outputs": [
    {
     "data": {
      "text/plain": [
       "SVC()"
      ]
     },
     "execution_count": 45,
     "metadata": {},
     "output_type": "execute_result"
    }
   ],
   "source": [
    "from sklearn import svm\n",
    "SVM_model = svm.SVC()\n",
    "SVM_model.fit(X_train, y_train) "
   ]
  },
  {
   "cell_type": "code",
   "execution_count": 46,
   "metadata": {},
   "outputs": [
    {
     "data": {
      "text/plain": [
       "array([2, 1, 2, ..., 1, 3, 3])"
      ]
     },
     "execution_count": 46,
     "metadata": {},
     "output_type": "execute_result"
    }
   ],
   "source": [
    "yhat = SVM_model.predict(X_test)\n",
    "yhat"
   ]
  },
  {
   "cell_type": "markdown",
   "metadata": {},
   "source": [
    "### Logistic Regression"
   ]
  },
  {
   "cell_type": "code",
   "execution_count": 47,
   "metadata": {},
   "outputs": [
    {
     "data": {
      "text/plain": [
       "LogisticRegression(C=0.01)"
      ]
     },
     "execution_count": 47,
     "metadata": {},
     "output_type": "execute_result"
    }
   ],
   "source": [
    "from sklearn.linear_model import LogisticRegression\n",
    "LR_model = LogisticRegression(C=0.01).fit(X_train,y_train)\n",
    "LR_model"
   ]
  },
  {
   "cell_type": "code",
   "execution_count": 48,
   "metadata": {},
   "outputs": [
    {
     "data": {
      "text/plain": [
       "array([2, 1, 2, ..., 1, 3, 3])"
      ]
     },
     "execution_count": 48,
     "metadata": {},
     "output_type": "execute_result"
    }
   ],
   "source": [
    "yhat = LR_model.predict(X_test)\n",
    "yhat"
   ]
  },
  {
   "cell_type": "markdown",
   "metadata": {},
   "source": [
    "### Evaluation metrics"
   ]
  },
  {
   "cell_type": "code",
   "execution_count": 49,
   "metadata": {},
   "outputs": [],
   "source": [
    "from sklearn.metrics import jaccard_score\n",
    "from sklearn.metrics import f1_score\n",
    "from sklearn.metrics import log_loss"
   ]
  },
  {
   "cell_type": "code",
   "execution_count": 50,
   "metadata": {},
   "outputs": [
    {
     "data": {
      "text/plain": [
       "array([2, 1, 2, 2, 2])"
      ]
     },
     "execution_count": 50,
     "metadata": {},
     "output_type": "execute_result"
    }
   ],
   "source": [
    "k = 1\n",
    "knn_model = KNeighborsClassifier(n_neighbors = k).fit(X_train,y_train)\n",
    "knn_model\n",
    "\n",
    "knn_yhat = knn_model.predict(X_test)\n",
    "knn_yhat[0:5]"
   ]
  },
  {
   "cell_type": "code",
   "execution_count": 51,
   "metadata": {},
   "outputs": [
    {
     "name": "stdout",
     "output_type": "stream",
     "text": [
      "KNN Jaccard index: 0.78\n",
      "KNN F1-score: 0.87\n"
     ]
    }
   ],
   "source": [
    "print(\"KNN Jaccard index: %.2f\" % jaccard_score(y_test, knn_yhat,average='weighted'))\n",
    "print(\"KNN F1-score: %.2f\" % f1_score(y_test, knn_yhat, average='weighted') )"
   ]
  },
  {
   "cell_type": "markdown",
   "metadata": {},
   "source": [
    "### For DT"
   ]
  },
  {
   "cell_type": "code",
   "execution_count": 52,
   "metadata": {},
   "outputs": [
    {
     "name": "stdout",
     "output_type": "stream",
     "text": [
      "DT Jaccard index: 1.00\n",
      "DT F1-score: 1.00\n"
     ]
    }
   ],
   "source": [
    "DT_yhat = DT_model.predict(X_test)\n",
    "print(\"DT Jaccard index: %.2f\" % jaccard_score(y_test, DT_yhat,average='weighted'))\n",
    "print(\"DT F1-score: %.2f\" % f1_score(y_test, DT_yhat, average='weighted') )"
   ]
  },
  {
   "cell_type": "markdown",
   "metadata": {},
   "source": [
    "### For SVM"
   ]
  },
  {
   "cell_type": "code",
   "execution_count": 53,
   "metadata": {},
   "outputs": [
    {
     "name": "stdout",
     "output_type": "stream",
     "text": [
      "SVM Jaccard index: 0.96\n",
      "SVM F1-score: 0.98\n"
     ]
    }
   ],
   "source": [
    "SVM_yhat = SVM_model.predict(X_test)\n",
    "print(\"SVM Jaccard index: %.2f\" % jaccard_score(y_test, SVM_yhat,average='weighted'))\n",
    "print(\"SVM F1-score: %.2f\" % f1_score(y_test, SVM_yhat, average='weighted') )"
   ]
  },
  {
   "cell_type": "markdown",
   "metadata": {},
   "source": [
    "### For LR"
   ]
  },
  {
   "cell_type": "code",
   "execution_count": 54,
   "metadata": {},
   "outputs": [
    {
     "name": "stdout",
     "output_type": "stream",
     "text": [
      "LR Jaccard index: 1.00\n",
      "LR F1-score: 1.00\n",
      "LR LogLoss: 0.14\n"
     ]
    }
   ],
   "source": [
    "LR_yhat = LR_model.predict(X_test)\n",
    "LR_yhat_prob = LR_model.predict_proba(X_test)\n",
    "print(\"LR Jaccard index: %.2f\" % jaccard_score(y_test, LR_yhat,average='weighted'))\n",
    "print(\"LR F1-score: %.2f\" % f1_score(y_test, LR_yhat, average='weighted') )\n",
    "print(\"LR LogLoss: %.2f\" % log_loss(y_test, LR_yhat_prob))"
   ]
  },
  {
   "cell_type": "code",
   "execution_count": 55,
   "metadata": {},
   "outputs": [
    {
     "name": "stdout",
     "output_type": "stream",
     "text": [
      "[[760   0   0]\n",
      " [  0 760   0]\n",
      " [  0   0 760]]\n"
     ]
    }
   ],
   "source": [
    "from sklearn.metrics import classification_report, confusion_matrix\n",
    "import itertools\n",
    "def plot_confusion_matrix(cm, classes,\n",
    "                          normalize=False,\n",
    "                          title='Confusion matrix',\n",
    "                          cmap=plt.cm.Blues):\n",
    "    \"\"\"\n",
    "    This function prints and plots the confusion matrix.\n",
    "    Normalization can be applied by setting `normalize=True`.\n",
    "    \"\"\"\n",
    "    if normalize:\n",
    "        cm = cm.astype('float') / cm.sum(axis=1)[:, np.newaxis]\n",
    "        print(\"Normalized confusion matrix\")\n",
    "    else:\n",
    "        print('Confusion matrix, without normalization')\n",
    "\n",
    "    print(cm)\n",
    "\n",
    "    plt.imshow(cm, interpolation='nearest', cmap=cmap)\n",
    "    plt.title(title)\n",
    "    plt.colorbar()\n",
    "    tick_marks = np.arange(len(classes))\n",
    "    plt.xticks(tick_marks, classes, rotation=45)\n",
    "    plt.yticks(tick_marks, classes)\n",
    "\n",
    "    fmt = '.2f' if normalize else 'd'\n",
    "    thresh = cm.max() / 2.\n",
    "    for i, j in itertools.product(range(cm.shape[0]), range(cm.shape[1])):\n",
    "        plt.text(j, i, format(cm[i, j], fmt),\n",
    "                 horizontalalignment=\"center\",\n",
    "                 color=\"white\" if cm[i, j] > thresh else \"black\")\n",
    "\n",
    "    plt.tight_layout()\n",
    "    plt.ylabel('True label')\n",
    "    plt.xlabel('Predicted label')\n",
    "print(confusion_matrix(y_test, yhat, labels=[1,2,3]))"
   ]
  },
  {
   "cell_type": "code",
   "execution_count": 56,
   "metadata": {},
   "outputs": [
    {
     "name": "stdout",
     "output_type": "stream",
     "text": [
      "Confusion matrix, without normalization\n",
      "[[760   0   0]\n",
      " [  0 760   0]\n",
      " [  0   0 760]]\n"
     ]
    },
    {
     "data": {
      "image/png": "[encoded data removed]",
      "text/plain": [
       "<Figure size 432x288 with 2 Axes>"
      ]
     },
     "metadata": {
      "needs_background": "light"
     },
     "output_type": "display_data"
    }
   ],
   "source": [
    "# Compute confusion matrix\n",
    "cnf_matrix = confusion_matrix(y_test, yhat, labels=[1,2,3])\n",
    "np.set_printoptions(precision=2)\n",
    "\n",
    "\n",
    "# Plot non-normalized confusion matrix\n",
    "plt.figure()\n",
    "plot_confusion_matrix(cnf_matrix, classes=['slight=1','serious=2,fatal=3'],normalize= False,  title='Confusion matrix')"
   ]
  },
  {
   "cell_type": "markdown",
   "metadata": {},
   "source": [
    "## Results and discussion <a name=\"results\"></a>"
   ]
  },
  {
   "cell_type": "markdown",
   "metadata": {},
   "source": [
    "Several things can be noted from the initial analysis. Contrary to a possible preconceived notion that it is probable that most accidents occur during poor external conditions (Light, Weather, Road, etc). The analysis reveals that it is not the case. Most accidents occur during good weather with no external conditions to impair the driver.\n",
    "\n",
    "Most accidents occur in low-speed zones. And it is important to remark that there is a significant difference in the percentage of men and women who have accidents. One other factor is that there is no relation between the day of the week and the amount of accidents, except for Fridays which have a slightly higher number of accidents per day.\n",
    "\n",
    "The biggest amount of accidents occur during daylight and the second most accidents occur during nigth time under well-lit conditions.\n",
    "\n",
    "The model developed using K-NN has an Jaccard index of: 0.78 and F-1 Score of 0.88.\n"
   ]
  },
  {
   "cell_type": "markdown",
   "metadata": {},
   "source": [
    "## Conclusion <a name=\"conclusion\"></a>"
   ]
  },
  {
   "cell_type": "markdown",
   "metadata": {},
   "source": [
    "The results lead one to believe that most accidents occur due to internal, driver reasons and not external. Since good external conditions yield a much lower number of accidents. This could be to a number of reasons: with good conditions drivers feel much more confident and do not excercise as much caution. Or there is more traffic on the roads.\n",
    "This could be further explored in another project perhaps.\n",
    "\n",
    "The model and determining the severity of an accident could see its main application with insurance companies, which could probably be the most interested party due to the reasons that their costs are relative to the probability of a driver having an accident."
   ]
  },
  {
   "cell_type": "code",
   "execution_count": null,
   "metadata": {},
   "outputs": [],
   "source": []
  }
 ],
 "metadata": {
  "kernelspec": {
   "display_name": "Python 3",
   "language": "python",
   "name": "python3"
  },
  "language_info": {
   "codemirror_mode": {
    "name": "ipython",
    "version": 3
   },
   "file_extension": ".py",
   "mimetype": "text/x-python",
   "name": "python",
   "nbconvert_exporter": "python",
   "pygments_lexer": "ipython3",
   "version": "3.8.3"
  }
 },
 "nbformat": 4,
 "nbformat_minor": 4
}
